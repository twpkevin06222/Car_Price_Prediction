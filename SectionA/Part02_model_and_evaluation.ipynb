{
 "cells": [
  {
   "cell_type": "code",
   "execution_count": 12,
   "id": "801640b5",
   "metadata": {},
   "outputs": [],
   "source": [
    "import warnings\n",
    "warnings.simplefilter(\"ignore\", UserWarning)\n",
    "import numpy as np \n",
    "import pickle\n",
    "import matplotlib.pyplot as plt \n",
    "import pandas as pd\n",
    "import seaborn as sns\n",
    "import utils\n",
    "from sklearn.model_selection import KFold, RepeatedKFold, cross_val_score, train_test_split\n",
    "from sklearn.preprocessing import QuantileTransformer, RobustScaler \n",
    "from sklearn.metrics import mean_squared_error, mean_absolute_error\n",
    "from sklearn.metrics import mean_absolute_percentage_error\n",
    "import lightgbm as lgb \n",
    "import optuna\n",
    "from optuna.samplers import TPESampler \n",
    "from sklearn.pipeline import make_pipeline, Pipeline"
   ]
  },
  {
   "cell_type": "markdown",
   "id": "b5f7b218",
   "metadata": {},
   "source": [
    "This notebook attemps to show an overview of how a model is trained after preprocessing and how the model is evaluated. In the end, there will be a summary section summarising the ablation studies, follow by a future work section to discuss about potential work that could be done to improve the model. "
   ]
  },
  {
   "cell_type": "markdown",
   "id": "5ce89682",
   "metadata": {},
   "source": [
    "# Content\n",
    "1. Feature Encoding\n",
    "    - 1.1 Group By Features\n",
    "2. Model Training\n",
    "    - 2.1 Hyperparameter Tuning\n",
    "    - 2.2 Robustness of Hyperparameter\n",
    "3. Training\n",
    "4. Evaluation\n",
    "    - 4.1 Feature Importance\n",
    "    - 4.2 Residual Analyses\n",
    "5. Summary\n",
    "6.. Future Work"
   ]
  },
  {
   "cell_type": "markdown",
   "id": "6ddf6050",
   "metadata": {},
   "source": [
    "---"
   ]
  },
  {
   "cell_type": "markdown",
   "id": "1eb02e32",
   "metadata": {},
   "source": [
    "# 1. Feature Encoding "
   ]
  },
  {
   "cell_type": "code",
   "execution_count": 13,
   "id": "0250b532",
   "metadata": {
    "scrolled": true
   },
   "outputs": [
    {
     "data": {
      "text/html": [
       "<div>\n",
       "<style scoped>\n",
       "    .dataframe tbody tr th:only-of-type {\n",
       "        vertical-align: middle;\n",
       "    }\n",
       "\n",
       "    .dataframe tbody tr th {\n",
       "        vertical-align: top;\n",
       "    }\n",
       "\n",
       "    .dataframe thead th {\n",
       "        text-align: right;\n",
       "    }\n",
       "</style>\n",
       "<table border=\"1\" class=\"dataframe\">\n",
       "  <thead>\n",
       "    <tr style=\"text-align: right;\">\n",
       "      <th></th>\n",
       "      <th>Make</th>\n",
       "      <th>Model</th>\n",
       "      <th>YearGroup</th>\n",
       "      <th>MonthGroup</th>\n",
       "      <th>SequenceNum</th>\n",
       "      <th>CurrentRelease</th>\n",
       "      <th>LimitedEdition</th>\n",
       "      <th>Series</th>\n",
       "      <th>SeriesModelYear</th>\n",
       "      <th>BadgeDescription</th>\n",
       "      <th>...</th>\n",
       "      <th>VFactsSegment</th>\n",
       "      <th>VFactsPrice</th>\n",
       "      <th>IsPPlateApproved</th>\n",
       "      <th>NewPrice</th>\n",
       "      <th>Colour</th>\n",
       "      <th>Branch</th>\n",
       "      <th>SaleCategory</th>\n",
       "      <th>Age_Comp_Months</th>\n",
       "      <th>KM</th>\n",
       "      <th>Sold_Amount</th>\n",
       "    </tr>\n",
       "  </thead>\n",
       "  <tbody>\n",
       "    <tr>\n",
       "      <th>0</th>\n",
       "      <td>Holden</td>\n",
       "      <td>Commodore</td>\n",
       "      <td>2008</td>\n",
       "      <td>0</td>\n",
       "      <td>0</td>\n",
       "      <td>F</td>\n",
       "      <td>F</td>\n",
       "      <td>VE</td>\n",
       "      <td>MY10</td>\n",
       "      <td>Omega</td>\n",
       "      <td>...</td>\n",
       "      <td>Large</td>\n",
       "      <td>&lt; 70K</td>\n",
       "      <td>T</td>\n",
       "      <td>0.804271</td>\n",
       "      <td>white</td>\n",
       "      <td>Perth (WA)</td>\n",
       "      <td>Auction</td>\n",
       "      <td>0.692098</td>\n",
       "      <td>0.823427</td>\n",
       "      <td>2000.0</td>\n",
       "    </tr>\n",
       "    <tr>\n",
       "      <th>1</th>\n",
       "      <td>Holden</td>\n",
       "      <td>Commodore</td>\n",
       "      <td>1993</td>\n",
       "      <td>7</td>\n",
       "      <td>41</td>\n",
       "      <td>F</td>\n",
       "      <td>F</td>\n",
       "      <td>VR</td>\n",
       "      <td>MY10</td>\n",
       "      <td>Executive</td>\n",
       "      <td>...</td>\n",
       "      <td>Large</td>\n",
       "      <td>&lt; 70K</td>\n",
       "      <td>T</td>\n",
       "      <td>0.801763</td>\n",
       "      <td>red</td>\n",
       "      <td>Belmore (NSW)</td>\n",
       "      <td>Auction</td>\n",
       "      <td>0.689494</td>\n",
       "      <td>0.819703</td>\n",
       "      <td>6800.0</td>\n",
       "    </tr>\n",
       "    <tr>\n",
       "      <th>2</th>\n",
       "      <td>Toyota</td>\n",
       "      <td>RAV4</td>\n",
       "      <td>2012</td>\n",
       "      <td>0</td>\n",
       "      <td>6</td>\n",
       "      <td>F</td>\n",
       "      <td>F</td>\n",
       "      <td>ACA33R</td>\n",
       "      <td>MY12</td>\n",
       "      <td>CV</td>\n",
       "      <td>...</td>\n",
       "      <td>Medium</td>\n",
       "      <td>&lt; 60K</td>\n",
       "      <td>T</td>\n",
       "      <td>0.803314</td>\n",
       "      <td>white</td>\n",
       "      <td>Sunshine (VIC)</td>\n",
       "      <td>Dealer Only Auction</td>\n",
       "      <td>0.616122</td>\n",
       "      <td>0.801508</td>\n",
       "      <td>22900.0</td>\n",
       "    </tr>\n",
       "    <tr>\n",
       "      <th>3</th>\n",
       "      <td>Holden</td>\n",
       "      <td>Commodore</td>\n",
       "      <td>2007</td>\n",
       "      <td>0</td>\n",
       "      <td>11</td>\n",
       "      <td>F</td>\n",
       "      <td>F</td>\n",
       "      <td>VZVE</td>\n",
       "      <td>MY07</td>\n",
       "      <td>Executive</td>\n",
       "      <td>...</td>\n",
       "      <td>Large</td>\n",
       "      <td>&lt; 70K</td>\n",
       "      <td>T</td>\n",
       "      <td>0.804656</td>\n",
       "      <td>silver</td>\n",
       "      <td>Belmore (NSW)</td>\n",
       "      <td>Auction</td>\n",
       "      <td>0.668197</td>\n",
       "      <td>0.815478</td>\n",
       "      <td>10500.0</td>\n",
       "    </tr>\n",
       "    <tr>\n",
       "      <th>4</th>\n",
       "      <td>Toyota</td>\n",
       "      <td>Tarago</td>\n",
       "      <td>2007</td>\n",
       "      <td>0</td>\n",
       "      <td>0</td>\n",
       "      <td>F</td>\n",
       "      <td>F</td>\n",
       "      <td>ACR50R</td>\n",
       "      <td>MY10</td>\n",
       "      <td>GLi</td>\n",
       "      <td>...</td>\n",
       "      <td>People Movers</td>\n",
       "      <td>&lt; 60K</td>\n",
       "      <td>T</td>\n",
       "      <td>0.808189</td>\n",
       "      <td>silver</td>\n",
       "      <td>Hobart (TAS)</td>\n",
       "      <td>Special Fixed Price</td>\n",
       "      <td>0.644951</td>\n",
       "      <td>0.806989</td>\n",
       "      <td>31320.0</td>\n",
       "    </tr>\n",
       "  </tbody>\n",
       "</table>\n",
       "<p>5 rows × 65 columns</p>\n",
       "</div>"
      ],
      "text/plain": [
       "     Make      Model  YearGroup  MonthGroup  SequenceNum CurrentRelease  \\\n",
       "0  Holden  Commodore       2008           0            0              F   \n",
       "1  Holden  Commodore       1993           7           41              F   \n",
       "2  Toyota       RAV4       2012           0            6              F   \n",
       "3  Holden  Commodore       2007           0           11              F   \n",
       "4  Toyota     Tarago       2007           0            0              F   \n",
       "\n",
       "  LimitedEdition  Series SeriesModelYear BadgeDescription  ...  VFactsSegment  \\\n",
       "0              F      VE            MY10            Omega  ...          Large   \n",
       "1              F      VR            MY10        Executive  ...          Large   \n",
       "2              F  ACA33R            MY12               CV  ...         Medium   \n",
       "3              F    VZVE            MY07        Executive  ...          Large   \n",
       "4              F  ACR50R            MY10              GLi  ...  People Movers   \n",
       "\n",
       "  VFactsPrice IsPPlateApproved  NewPrice  Colour          Branch  \\\n",
       "0       < 70K                T  0.804271   white      Perth (WA)   \n",
       "1       < 70K                T  0.801763     red   Belmore (NSW)   \n",
       "2       < 60K                T  0.803314   white  Sunshine (VIC)   \n",
       "3       < 70K                T  0.804656  silver   Belmore (NSW)   \n",
       "4       < 60K                T  0.808189  silver    Hobart (TAS)   \n",
       "\n",
       "          SaleCategory Age_Comp_Months        KM Sold_Amount  \n",
       "0              Auction        0.692098  0.823427      2000.0  \n",
       "1              Auction        0.689494  0.819703      6800.0  \n",
       "2  Dealer Only Auction        0.616122  0.801508     22900.0  \n",
       "3              Auction        0.668197  0.815478     10500.0  \n",
       "4  Special Fixed Price        0.644951  0.806989     31320.0  \n",
       "\n",
       "[5 rows x 65 columns]"
      ]
     },
     "execution_count": 13,
     "metadata": {},
     "output_type": "execute_result"
    }
   ],
   "source": [
    "# load preprocessed data set \n",
    "df = pd.read_csv('dummies_ds.csv')\n",
    "# create a copy\n",
    "df_ = df.copy()\n",
    "df.head()"
   ]
  },
  {
   "cell_type": "markdown",
   "id": "ada6b98c",
   "metadata": {},
   "source": [
    "Since the model we have chosen can take 'category' type as input. We do not need to do any feature encoding for categorical data at this stage"
   ]
  },
  {
   "cell_type": "code",
   "execution_count": 14,
   "id": "eb37c386",
   "metadata": {},
   "outputs": [],
   "source": [
    "categorical_col_idx = np.where(df.dtypes == object)[0]\n",
    "cols_name = [name for name in df.columns]\n",
    "categorical_cols = [cols_name[i] for i in categorical_col_idx] + ['YearGroup',\n",
    " 'MonthGroup',\n",
    " 'SequenceNum',\n",
    " 'GearNum',\n",
    " 'DoorNum',\n",
    " 'FuelCapacity',\n",
    " 'SeatCapacity',\n",
    " 'ValvesCylinder',\n",
    " 'TowingNoBrakes', # to  be observed\n",
    " 'WarrantyYears',\n",
    " 'FirstServiceKM',\n",
    " 'RegServiceMonths',\n",
    " 'WarrantyKM']\n",
    "df[categorical_cols] = df[categorical_cols].astype('category')"
   ]
  },
  {
   "cell_type": "markdown",
   "id": "1756308a",
   "metadata": {},
   "source": [
    "## 1.1 Group By Features\n",
    "In this section, we veunture on the numeircal columns that can be aggregated as new features"
   ]
  },
  {
   "cell_type": "code",
   "execution_count": 15,
   "id": "4a0ffbc4",
   "metadata": {},
   "outputs": [],
   "source": [
    "numerical_col = ['EngineSize', 'GrossCombinationMAss',\n",
    "'WheelBase', 'Height', 'Width', 'Power', 'PowerRPMTo',\n",
    "'Torque', 'TorqueRPMTo', 'RonRating', 'Acceleration',\n",
    "'GreenhouseRating','AirpollutionRating', 'AncapRating',\n",
    "'NewPrice', 'Age_Comp_Months', 'KM']\n",
    "\n",
    "# 'Width', 'PayLoad' ...\n",
    "\n",
    "# group by function to be load into .agg()\n",
    "features = {k: [np.sum, np.mean, np.std, np.min, np.max] for k in numerical_col}\n",
    "\n",
    "def flatten_name(prefix, src_names):\n",
    "    \"\"\"\n",
    "    Helper function for column naming after \n",
    "    aggregation\n",
    "    \"\"\"\n",
    "    ret = []\n",
    "    for c in src_names:\n",
    "        if c[0] in ['Make', 'Model']:\n",
    "            ret.append(c[0])\n",
    "        else:\n",
    "            ret.append('.'.join([prefix] + list(c)))\n",
    "    return ret\n",
    "\n",
    "agg = df[['EngineSize', 'GrossCombinationMAss',\n",
    "'WheelBase', 'Height', 'Width','Power', 'PowerRPMTo',\n",
    "'Torque', 'TorqueRPMTo', 'RonRating', 'Acceleration',\n",
    "'GreenhouseRating','AirpollutionRating', 'AncapRating',\n",
    "'NewPrice', 'Age_Comp_Months', 'KM', 'Make']].groupby(['Make']).agg(features).reset_index(drop=False)\n",
    "agg.columns = flatten_name('grouped', agg.columns)"
   ]
  },
  {
   "cell_type": "code",
   "execution_count": 16,
   "id": "d4fd784d",
   "metadata": {},
   "outputs": [
    {
     "data": {
      "text/html": [
       "<div>\n",
       "<style scoped>\n",
       "    .dataframe tbody tr th:only-of-type {\n",
       "        vertical-align: middle;\n",
       "    }\n",
       "\n",
       "    .dataframe tbody tr th {\n",
       "        vertical-align: top;\n",
       "    }\n",
       "\n",
       "    .dataframe thead th {\n",
       "        text-align: right;\n",
       "    }\n",
       "</style>\n",
       "<table border=\"1\" class=\"dataframe\">\n",
       "  <thead>\n",
       "    <tr style=\"text-align: right;\">\n",
       "      <th></th>\n",
       "      <th>Make</th>\n",
       "      <th>Model</th>\n",
       "      <th>YearGroup</th>\n",
       "      <th>MonthGroup</th>\n",
       "      <th>SequenceNum</th>\n",
       "      <th>CurrentRelease</th>\n",
       "      <th>LimitedEdition</th>\n",
       "      <th>Series</th>\n",
       "      <th>SeriesModelYear</th>\n",
       "      <th>BadgeDescription</th>\n",
       "      <th>...</th>\n",
       "      <th>grouped.Age_Comp_Months.sum</th>\n",
       "      <th>grouped.Age_Comp_Months.mean</th>\n",
       "      <th>grouped.Age_Comp_Months.std</th>\n",
       "      <th>grouped.Age_Comp_Months.amin</th>\n",
       "      <th>grouped.Age_Comp_Months.amax</th>\n",
       "      <th>grouped.KM.sum</th>\n",
       "      <th>grouped.KM.mean</th>\n",
       "      <th>grouped.KM.std</th>\n",
       "      <th>grouped.KM.amin</th>\n",
       "      <th>grouped.KM.amax</th>\n",
       "    </tr>\n",
       "  </thead>\n",
       "  <tbody>\n",
       "    <tr>\n",
       "      <th>0</th>\n",
       "      <td>Holden</td>\n",
       "      <td>Commodore</td>\n",
       "      <td>2008</td>\n",
       "      <td>0</td>\n",
       "      <td>0</td>\n",
       "      <td>F</td>\n",
       "      <td>F</td>\n",
       "      <td>VE</td>\n",
       "      <td>MY10</td>\n",
       "      <td>Omega</td>\n",
       "      <td>...</td>\n",
       "      <td>9006.351738</td>\n",
       "      <td>0.657206</td>\n",
       "      <td>0.025825</td>\n",
       "      <td>0.352793</td>\n",
       "      <td>0.733992</td>\n",
       "      <td>11115.471415</td>\n",
       "      <td>0.811111</td>\n",
       "      <td>0.025349</td>\n",
       "      <td>0.0</td>\n",
       "      <td>0.838186</td>\n",
       "    </tr>\n",
       "    <tr>\n",
       "      <th>1</th>\n",
       "      <td>Holden</td>\n",
       "      <td>Commodore</td>\n",
       "      <td>1993</td>\n",
       "      <td>7</td>\n",
       "      <td>41</td>\n",
       "      <td>F</td>\n",
       "      <td>F</td>\n",
       "      <td>VR</td>\n",
       "      <td>MY10</td>\n",
       "      <td>Executive</td>\n",
       "      <td>...</td>\n",
       "      <td>9006.351738</td>\n",
       "      <td>0.657206</td>\n",
       "      <td>0.025825</td>\n",
       "      <td>0.352793</td>\n",
       "      <td>0.733992</td>\n",
       "      <td>11115.471415</td>\n",
       "      <td>0.811111</td>\n",
       "      <td>0.025349</td>\n",
       "      <td>0.0</td>\n",
       "      <td>0.838186</td>\n",
       "    </tr>\n",
       "    <tr>\n",
       "      <th>2</th>\n",
       "      <td>Toyota</td>\n",
       "      <td>RAV4</td>\n",
       "      <td>2012</td>\n",
       "      <td>0</td>\n",
       "      <td>6</td>\n",
       "      <td>F</td>\n",
       "      <td>F</td>\n",
       "      <td>ACA33R</td>\n",
       "      <td>MY12</td>\n",
       "      <td>CV</td>\n",
       "      <td>...</td>\n",
       "      <td>12802.847781</td>\n",
       "      <td>0.649166</td>\n",
       "      <td>0.031929</td>\n",
       "      <td>0.441230</td>\n",
       "      <td>0.758282</td>\n",
       "      <td>15928.905462</td>\n",
       "      <td>0.807672</td>\n",
       "      <td>0.020730</td>\n",
       "      <td>0.0</td>\n",
       "      <td>0.831473</td>\n",
       "    </tr>\n",
       "    <tr>\n",
       "      <th>3</th>\n",
       "      <td>Holden</td>\n",
       "      <td>Commodore</td>\n",
       "      <td>2007</td>\n",
       "      <td>0</td>\n",
       "      <td>11</td>\n",
       "      <td>F</td>\n",
       "      <td>F</td>\n",
       "      <td>VZVE</td>\n",
       "      <td>MY07</td>\n",
       "      <td>Executive</td>\n",
       "      <td>...</td>\n",
       "      <td>9006.351738</td>\n",
       "      <td>0.657206</td>\n",
       "      <td>0.025825</td>\n",
       "      <td>0.352793</td>\n",
       "      <td>0.733992</td>\n",
       "      <td>11115.471415</td>\n",
       "      <td>0.811111</td>\n",
       "      <td>0.025349</td>\n",
       "      <td>0.0</td>\n",
       "      <td>0.838186</td>\n",
       "    </tr>\n",
       "    <tr>\n",
       "      <th>4</th>\n",
       "      <td>Toyota</td>\n",
       "      <td>Tarago</td>\n",
       "      <td>2007</td>\n",
       "      <td>0</td>\n",
       "      <td>0</td>\n",
       "      <td>F</td>\n",
       "      <td>F</td>\n",
       "      <td>ACR50R</td>\n",
       "      <td>MY10</td>\n",
       "      <td>GLi</td>\n",
       "      <td>...</td>\n",
       "      <td>12802.847781</td>\n",
       "      <td>0.649166</td>\n",
       "      <td>0.031929</td>\n",
       "      <td>0.441230</td>\n",
       "      <td>0.758282</td>\n",
       "      <td>15928.905462</td>\n",
       "      <td>0.807672</td>\n",
       "      <td>0.020730</td>\n",
       "      <td>0.0</td>\n",
       "      <td>0.831473</td>\n",
       "    </tr>\n",
       "    <tr>\n",
       "      <th>...</th>\n",
       "      <td>...</td>\n",
       "      <td>...</td>\n",
       "      <td>...</td>\n",
       "      <td>...</td>\n",
       "      <td>...</td>\n",
       "      <td>...</td>\n",
       "      <td>...</td>\n",
       "      <td>...</td>\n",
       "      <td>...</td>\n",
       "      <td>...</td>\n",
       "      <td>...</td>\n",
       "      <td>...</td>\n",
       "      <td>...</td>\n",
       "      <td>...</td>\n",
       "      <td>...</td>\n",
       "      <td>...</td>\n",
       "      <td>...</td>\n",
       "      <td>...</td>\n",
       "      <td>...</td>\n",
       "      <td>...</td>\n",
       "      <td>...</td>\n",
       "    </tr>\n",
       "    <tr>\n",
       "      <th>61555</th>\n",
       "      <td>Ford</td>\n",
       "      <td>Ranger</td>\n",
       "      <td>2012</td>\n",
       "      <td>0</td>\n",
       "      <td>22</td>\n",
       "      <td>F</td>\n",
       "      <td>F</td>\n",
       "      <td>PX</td>\n",
       "      <td>MY10</td>\n",
       "      <td>XL</td>\n",
       "      <td>...</td>\n",
       "      <td>7729.941841</td>\n",
       "      <td>0.658764</td>\n",
       "      <td>0.024558</td>\n",
       "      <td>0.486000</td>\n",
       "      <td>0.756566</td>\n",
       "      <td>9522.671634</td>\n",
       "      <td>0.811545</td>\n",
       "      <td>0.025064</td>\n",
       "      <td>0.0</td>\n",
       "      <td>0.836287</td>\n",
       "    </tr>\n",
       "    <tr>\n",
       "      <th>61556</th>\n",
       "      <td>Ford</td>\n",
       "      <td>Falcon</td>\n",
       "      <td>2003</td>\n",
       "      <td>0</td>\n",
       "      <td>1</td>\n",
       "      <td>F</td>\n",
       "      <td>F</td>\n",
       "      <td>BA</td>\n",
       "      <td>MY10</td>\n",
       "      <td>XT</td>\n",
       "      <td>...</td>\n",
       "      <td>7729.941841</td>\n",
       "      <td>0.658764</td>\n",
       "      <td>0.024558</td>\n",
       "      <td>0.486000</td>\n",
       "      <td>0.756566</td>\n",
       "      <td>9522.671634</td>\n",
       "      <td>0.811545</td>\n",
       "      <td>0.025064</td>\n",
       "      <td>0.0</td>\n",
       "      <td>0.836287</td>\n",
       "    </tr>\n",
       "    <tr>\n",
       "      <th>61557</th>\n",
       "      <td>Ford</td>\n",
       "      <td>Falcon</td>\n",
       "      <td>2001</td>\n",
       "      <td>10</td>\n",
       "      <td>40</td>\n",
       "      <td>F</td>\n",
       "      <td>F</td>\n",
       "      <td>AU III</td>\n",
       "      <td>MY10</td>\n",
       "      <td>Futura</td>\n",
       "      <td>...</td>\n",
       "      <td>7729.941841</td>\n",
       "      <td>0.658764</td>\n",
       "      <td>0.024558</td>\n",
       "      <td>0.486000</td>\n",
       "      <td>0.756566</td>\n",
       "      <td>9522.671634</td>\n",
       "      <td>0.811545</td>\n",
       "      <td>0.025064</td>\n",
       "      <td>0.0</td>\n",
       "      <td>0.836287</td>\n",
       "    </tr>\n",
       "    <tr>\n",
       "      <th>61558</th>\n",
       "      <td>Mitsubishi</td>\n",
       "      <td>Lancer</td>\n",
       "      <td>2011</td>\n",
       "      <td>10</td>\n",
       "      <td>24</td>\n",
       "      <td>F</td>\n",
       "      <td>F</td>\n",
       "      <td>CJ</td>\n",
       "      <td>MY12</td>\n",
       "      <td>ES</td>\n",
       "      <td>...</td>\n",
       "      <td>2546.140973</td>\n",
       "      <td>0.658939</td>\n",
       "      <td>0.027948</td>\n",
       "      <td>0.352793</td>\n",
       "      <td>0.722971</td>\n",
       "      <td>3133.631084</td>\n",
       "      <td>0.810981</td>\n",
       "      <td>0.027780</td>\n",
       "      <td>0.0</td>\n",
       "      <td>0.830044</td>\n",
       "    </tr>\n",
       "    <tr>\n",
       "      <th>61559</th>\n",
       "      <td>Holden</td>\n",
       "      <td>Captiva</td>\n",
       "      <td>2012</td>\n",
       "      <td>0</td>\n",
       "      <td>4</td>\n",
       "      <td>F</td>\n",
       "      <td>F</td>\n",
       "      <td>CG Series II</td>\n",
       "      <td>MY10</td>\n",
       "      <td>7</td>\n",
       "      <td>...</td>\n",
       "      <td>9006.351738</td>\n",
       "      <td>0.657206</td>\n",
       "      <td>0.025825</td>\n",
       "      <td>0.352793</td>\n",
       "      <td>0.733992</td>\n",
       "      <td>11115.471415</td>\n",
       "      <td>0.811111</td>\n",
       "      <td>0.025349</td>\n",
       "      <td>0.0</td>\n",
       "      <td>0.838186</td>\n",
       "    </tr>\n",
       "  </tbody>\n",
       "</table>\n",
       "<p>61560 rows × 150 columns</p>\n",
       "</div>"
      ],
      "text/plain": [
       "             Make      Model YearGroup MonthGroup SequenceNum CurrentRelease  \\\n",
       "0          Holden  Commodore      2008          0           0              F   \n",
       "1          Holden  Commodore      1993          7          41              F   \n",
       "2          Toyota       RAV4      2012          0           6              F   \n",
       "3          Holden  Commodore      2007          0          11              F   \n",
       "4          Toyota     Tarago      2007          0           0              F   \n",
       "...           ...        ...       ...        ...         ...            ...   \n",
       "61555        Ford     Ranger      2012          0          22              F   \n",
       "61556        Ford     Falcon      2003          0           1              F   \n",
       "61557        Ford     Falcon      2001         10          40              F   \n",
       "61558  Mitsubishi     Lancer      2011         10          24              F   \n",
       "61559      Holden    Captiva      2012          0           4              F   \n",
       "\n",
       "      LimitedEdition        Series SeriesModelYear BadgeDescription  ...  \\\n",
       "0                  F            VE            MY10            Omega  ...   \n",
       "1                  F            VR            MY10        Executive  ...   \n",
       "2                  F        ACA33R            MY12               CV  ...   \n",
       "3                  F          VZVE            MY07        Executive  ...   \n",
       "4                  F        ACR50R            MY10              GLi  ...   \n",
       "...              ...           ...             ...              ...  ...   \n",
       "61555              F            PX            MY10               XL  ...   \n",
       "61556              F            BA            MY10               XT  ...   \n",
       "61557              F        AU III            MY10           Futura  ...   \n",
       "61558              F            CJ            MY12               ES  ...   \n",
       "61559              F  CG Series II            MY10                7  ...   \n",
       "\n",
       "      grouped.Age_Comp_Months.sum grouped.Age_Comp_Months.mean  \\\n",
       "0                     9006.351738                     0.657206   \n",
       "1                     9006.351738                     0.657206   \n",
       "2                    12802.847781                     0.649166   \n",
       "3                     9006.351738                     0.657206   \n",
       "4                    12802.847781                     0.649166   \n",
       "...                           ...                          ...   \n",
       "61555                 7729.941841                     0.658764   \n",
       "61556                 7729.941841                     0.658764   \n",
       "61557                 7729.941841                     0.658764   \n",
       "61558                 2546.140973                     0.658939   \n",
       "61559                 9006.351738                     0.657206   \n",
       "\n",
       "      grouped.Age_Comp_Months.std grouped.Age_Comp_Months.amin  \\\n",
       "0                        0.025825                     0.352793   \n",
       "1                        0.025825                     0.352793   \n",
       "2                        0.031929                     0.441230   \n",
       "3                        0.025825                     0.352793   \n",
       "4                        0.031929                     0.441230   \n",
       "...                           ...                          ...   \n",
       "61555                    0.024558                     0.486000   \n",
       "61556                    0.024558                     0.486000   \n",
       "61557                    0.024558                     0.486000   \n",
       "61558                    0.027948                     0.352793   \n",
       "61559                    0.025825                     0.352793   \n",
       "\n",
       "      grouped.Age_Comp_Months.amax grouped.KM.sum  grouped.KM.mean  \\\n",
       "0                         0.733992   11115.471415         0.811111   \n",
       "1                         0.733992   11115.471415         0.811111   \n",
       "2                         0.758282   15928.905462         0.807672   \n",
       "3                         0.733992   11115.471415         0.811111   \n",
       "4                         0.758282   15928.905462         0.807672   \n",
       "...                            ...            ...              ...   \n",
       "61555                     0.756566    9522.671634         0.811545   \n",
       "61556                     0.756566    9522.671634         0.811545   \n",
       "61557                     0.756566    9522.671634         0.811545   \n",
       "61558                     0.722971    3133.631084         0.810981   \n",
       "61559                     0.733992   11115.471415         0.811111   \n",
       "\n",
       "      grouped.KM.std grouped.KM.amin grouped.KM.amax  \n",
       "0           0.025349             0.0        0.838186  \n",
       "1           0.025349             0.0        0.838186  \n",
       "2           0.020730             0.0        0.831473  \n",
       "3           0.025349             0.0        0.838186  \n",
       "4           0.020730             0.0        0.831473  \n",
       "...              ...             ...             ...  \n",
       "61555       0.025064             0.0        0.836287  \n",
       "61556       0.025064             0.0        0.836287  \n",
       "61557       0.025064             0.0        0.836287  \n",
       "61558       0.027780             0.0        0.830044  \n",
       "61559       0.025349             0.0        0.838186  \n",
       "\n",
       "[61560 rows x 150 columns]"
      ]
     },
     "execution_count": 16,
     "metadata": {},
     "output_type": "execute_result"
    }
   ],
   "source": [
    "# impute the aggregated features with mean values and left join on 'Make'\n",
    "tmp_df = df.merge(agg.fillna(agg.mean()), how = 'left', on = ['Make'])\n",
    "tmp_df"
   ]
  },
  {
   "cell_type": "code",
   "execution_count": 17,
   "id": "96504935",
   "metadata": {},
   "outputs": [
    {
     "name": "stdout",
     "output_type": "stream",
     "text": [
      "0\n"
     ]
    }
   ],
   "source": [
    "# save check to drop rows with NULL values\n",
    "tmp_df.dropna(inplace=True)\n",
    "print(tmp_df.isna().sum().sum())"
   ]
  },
  {
   "cell_type": "markdown",
   "id": "8cff02a1",
   "metadata": {},
   "source": [
    "---"
   ]
  },
  {
   "cell_type": "markdown",
   "id": "9cdc06b2",
   "metadata": {},
   "source": [
    "# 2. Model Training\n",
    "This section attempts to describe the model setup and how the model is being trained."
   ]
  },
  {
   "cell_type": "code",
   "execution_count": 18,
   "id": "a056a3a6",
   "metadata": {},
   "outputs": [
    {
     "name": "stdout",
     "output_type": "stream",
     "text": [
      "Number of traget tariables:  61544\n",
      "Dimension of features:  (61544, 149)\n"
     ]
    }
   ],
   "source": [
    "# define traget variable and features for train validation split \n",
    "# apply log(1+x) to target variable\n",
    "Y = tmp_df.pop('Sold_Amount')\n",
    "X = tmp_df\n",
    "# sanity check\n",
    "print(\"Number of traget tariables: \", Y.shape[0])\n",
    "print(\"Dimension of features: \", X.shape)"
   ]
  },
  {
   "cell_type": "markdown",
   "id": "7f9ef10d",
   "metadata": {},
   "source": [
    "We create 5 fold cross validation for our data set"
   ]
  },
  {
   "cell_type": "code",
   "execution_count": 19,
   "id": "cf1ca887",
   "metadata": {},
   "outputs": [],
   "source": [
    "# number of folds\n",
    "folds = 5\n",
    "# seeding \n",
    "seed = 5243 \n",
    "# initiate cross fold validation\n",
    "cv = KFold(n_splits = folds, shuffle = True, random_state = seed)"
   ]
  },
  {
   "cell_type": "markdown",
   "id": "9b98f733",
   "metadata": {},
   "source": [
    "## 2.1 Hyperparameter Tuning\n",
    "In this work, we use state of the art method for regression problem, which is LightGBM by Microsoft. LightGBM is a tree-based method that adopted gradient boosting for learning, with more efficient training. Associated with LightGBM, optuna was chosen as the library for auto hyperparameter tuning.   "
   ]
  },
  {
   "cell_type": "code",
   "execution_count": 20,
   "id": "1c263203",
   "metadata": {},
   "outputs": [],
   "source": [
    "def objective(trial, X, Y, cv, folds):\n",
    "    param_grid = {\n",
    "    \"objective\": 'regression',\n",
    "    \"verbosity\": -1, \n",
    "    \"n_estimators\": trial.suggest_categorical(\"n_estimators\", [10000]),\n",
    "    \"learning_rate\": trial.suggest_float(\"learning_rate\", 0.01, 0.3),\n",
    "    \"num_leaves\": trial.suggest_int(\"num_leaves\", 20, 3000, step=20),\n",
    "    \"max_depth\": trial.suggest_int(\"max_depth\", 3, 12),\n",
    "    }\n",
    "    model = lgb.LGBMRegressor(**param_grid)\n",
    "    # scaling the features \n",
    "    trans = QuantileTransformer(n_quantiles=100, output_distribution='normal')\n",
    "    # build using sklearn pipeline\n",
    "    pipeline = Pipeline(steps=[('t', trans), ('m', model)])\n",
    "    # to minimise: loss function => RMSE\n",
    "    cv_scores = - cross_val_score(model, X, Y, \n",
    "                                cv = cv, scoring = 'neg_root_mean_squared_error')\n",
    "    with open(\"model_weights/{}.pickle\".format(trial.number), \"wb\") as fout:\n",
    "        pickle.dump(model, fout)\n",
    "    return np.mean(cv_scores)"
   ]
  },
  {
   "cell_type": "code",
   "execution_count": 21,
   "id": "c95d26f3",
   "metadata": {},
   "outputs": [
    {
     "name": "stderr",
     "output_type": "stream",
     "text": [
      "\u001b[32m[I 2022-02-13 22:33:17,741]\u001b[0m A new study created in memory with name: LGBM Regressor\u001b[0m\n",
      "\u001b[32m[I 2022-02-13 22:40:25,809]\u001b[0m Trial 0 finished with value: 2510.618643594184 and parameters: {'n_estimators': 10000, 'learning_rate': 0.17214024703062292, 'num_leaves': 3000, 'max_depth': 8}. Best is trial 0 with value: 2510.618643594184.\u001b[0m\n",
      "\u001b[32m[I 2022-02-13 22:42:36,701]\u001b[0m Trial 1 finished with value: 2480.1135238161964 and parameters: {'n_estimators': 10000, 'learning_rate': 0.1371183438142015, 'num_leaves': 260, 'max_depth': 3}. Best is trial 1 with value: 2480.1135238161964.\u001b[0m\n",
      "\u001b[32m[I 2022-02-13 22:46:52,248]\u001b[0m Trial 2 finished with value: 2593.1296494747594 and parameters: {'n_estimators': 10000, 'learning_rate': 0.27424659226897374, 'num_leaves': 500, 'max_depth': 6}. Best is trial 1 with value: 2480.1135238161964.\u001b[0m\n",
      "\u001b[32m[I 2022-02-13 22:52:06,019]\u001b[0m Trial 3 finished with value: 2466.733817039236 and parameters: {'n_estimators': 10000, 'learning_rate': 0.131657773354797, 'num_leaves': 2560, 'max_depth': 7}. Best is trial 3 with value: 2466.733817039236.\u001b[0m\n",
      "\u001b[32m[I 2022-02-13 22:54:08,878]\u001b[0m Trial 4 finished with value: 2600.8913140928307 and parameters: {'n_estimators': 10000, 'learning_rate': 0.28882779065233916, 'num_leaves': 800, 'max_depth': 3}. Best is trial 3 with value: 2466.733817039236.\u001b[0m\n",
      "\u001b[32m[I 2022-02-13 22:56:47,259]\u001b[0m Trial 5 finished with value: 2539.238528529886 and parameters: {'n_estimators': 10000, 'learning_rate': 0.18711985528834052, 'num_leaves': 180, 'max_depth': 4}. Best is trial 3 with value: 2466.733817039236.\u001b[0m\n",
      "\u001b[32m[I 2022-02-13 23:07:02,116]\u001b[0m Trial 6 finished with value: 2597.771964110428 and parameters: {'n_estimators': 10000, 'learning_rate': 0.25741548423868377, 'num_leaves': 2360, 'max_depth': 10}. Best is trial 3 with value: 2466.733817039236.\u001b[0m\n",
      "\u001b[32m[I 2022-02-13 23:13:28,370]\u001b[0m Trial 7 finished with value: 2390.1206793014912 and parameters: {'n_estimators': 10000, 'learning_rate': 0.027647029614886937, 'num_leaves': 2180, 'max_depth': 8}. Best is trial 7 with value: 2390.1206793014912.\u001b[0m\n",
      "\u001b[32m[I 2022-02-13 23:19:12,019]\u001b[0m Trial 8 finished with value: 2582.1468072627235 and parameters: {'n_estimators': 10000, 'learning_rate': 0.25625752129768536, 'num_leaves': 160, 'max_depth': 7}. Best is trial 7 with value: 2390.1206793014912.\u001b[0m\n",
      "\u001b[32m[I 2022-02-13 23:21:19,322]\u001b[0m Trial 9 finished with value: 2417.729911111731 and parameters: {'n_estimators': 10000, 'learning_rate': 0.0667148788579224, 'num_leaves': 3000, 'max_depth': 3}. Best is trial 7 with value: 2390.1206793014912.\u001b[0m\n",
      "\u001b[32m[I 2022-02-13 23:36:35,111]\u001b[0m Trial 10 finished with value: 2426.769699485854 and parameters: {'n_estimators': 10000, 'learning_rate': 0.011140277256959735, 'num_leaves': 1440, 'max_depth': 12}. Best is trial 7 with value: 2390.1206793014912.\u001b[0m\n",
      "\u001b[32m[I 2022-02-13 23:44:27,690]\u001b[0m Trial 11 finished with value: 2392.4801648140656 and parameters: {'n_estimators': 10000, 'learning_rate': 0.018047499431756105, 'num_leaves': 1900, 'max_depth': 9}. Best is trial 7 with value: 2390.1206793014912.\u001b[0m\n",
      "\u001b[32m[I 2022-02-13 23:52:48,781]\u001b[0m Trial 12 finished with value: 2387.854135043952 and parameters: {'n_estimators': 10000, 'learning_rate': 0.01365762265107126, 'num_leaves': 1920, 'max_depth': 9}. Best is trial 12 with value: 2387.854135043952.\u001b[0m\n",
      "\u001b[32m[I 2022-02-14 00:04:37,749]\u001b[0m Trial 13 finished with value: 2450.3773418646733 and parameters: {'n_estimators': 10000, 'learning_rate': 0.06601313172595576, 'num_leaves': 1520, 'max_depth': 11}. Best is trial 12 with value: 2387.854135043952.\u001b[0m\n",
      "\u001b[32m[I 2022-02-14 00:13:06,186]\u001b[0m Trial 14 finished with value: 2432.4126363600203 and parameters: {'n_estimators': 10000, 'learning_rate': 0.06628952650544559, 'num_leaves': 1940, 'max_depth': 9}. Best is trial 12 with value: 2387.854135043952.\u001b[0m\n",
      "\u001b[32m[I 2022-02-14 00:16:37,180]\u001b[0m Trial 15 finished with value: 2452.953777724597 and parameters: {'n_estimators': 10000, 'learning_rate': 0.10035064452531725, 'num_leaves': 1360, 'max_depth': 5}. Best is trial 12 with value: 2387.854135043952.\u001b[0m\n",
      "\u001b[32m[I 2022-02-14 00:25:34,259]\u001b[0m Trial 16 finished with value: 2408.7629903966963 and parameters: {'n_estimators': 10000, 'learning_rate': 0.03786172954375722, 'num_leaves': 2120, 'max_depth': 9}. Best is trial 12 with value: 2387.854135043952.\u001b[0m\n",
      "\u001b[32m[I 2022-02-14 00:32:45,372]\u001b[0m Trial 17 finished with value: 2531.1900424364976 and parameters: {'n_estimators': 10000, 'learning_rate': 0.21734122011327445, 'num_leaves': 1020, 'max_depth': 8}. Best is trial 12 with value: 2387.854135043952.\u001b[0m\n",
      "\u001b[32m[I 2022-02-14 00:46:16,814]\u001b[0m Trial 18 finished with value: 2476.722306993791 and parameters: {'n_estimators': 10000, 'learning_rate': 0.0981248950289979, 'num_leaves': 2580, 'max_depth': 11}. Best is trial 12 with value: 2387.854135043952.\u001b[0m\n",
      "\u001b[32m[I 2022-02-14 00:50:54,831]\u001b[0m Trial 19 finished with value: 2387.7880820946125 and parameters: {'n_estimators': 10000, 'learning_rate': 0.037596223750980796, 'num_leaves': 1760, 'max_depth': 6}. Best is trial 19 with value: 2387.7880820946125.\u001b[0m\n"
     ]
    }
   ],
   "source": [
    "sampler = TPESampler(seed = 5243)\n",
    "study = optuna.create_study(direction = \"minimize\", study_name = 'LGBM Regressor', \n",
    "                            sampler = sampler)\n",
    "func = lambda trial: objective(trial, X, Y, cv, folds)\n",
    "study.optimize(func, n_trials = 20)"
   ]
  },
  {
   "cell_type": "markdown",
   "id": "180aec32",
   "metadata": {},
   "source": [
    "Best hyperparameters for LightGBM is trial 19 with RMSE of approximately 0.4857"
   ]
  },
  {
   "cell_type": "code",
   "execution_count": 22,
   "id": "d8e060bb",
   "metadata": {},
   "outputs": [
    {
     "name": "stdout",
     "output_type": "stream",
     "text": [
      "Number of finished trials: 20\n",
      "Best trial no.: 19\n",
      " RMSE: 2387.7880820946125\n",
      "  Params: \n",
      "    n_estimators: 10000\n",
      "    learning_rate: 0.037596223750980796\n",
      "    num_leaves: 1760\n",
      "    max_depth: 6\n"
     ]
    }
   ],
   "source": [
    "print(\"Number of finished trials: {}\".format(len(study.trials)))\n",
    "print(\"Best trial no.:\", study.best_trial.number)\n",
    "trial = study.best_trial\n",
    "print(\" RMSE: {}\".format(trial.value))\n",
    "print(\"  Params: \")\n",
    "for key, value in trial.params.items():\n",
    "    print(\"    {}: {}\".format(key, value))\n",
    "# load model\n",
    "with open(\"model_weights/{}.pickle\".format(study.best_trial.number), \"rb\") as fin:\n",
    "    best_model = pickle.load(fin)"
   ]
  },
  {
   "cell_type": "code",
   "execution_count": 68,
   "id": "3795200c",
   "metadata": {},
   "outputs": [
    {
     "data": {
      "application/vnd.plotly.v1+json": {
       "config": {
        "plotlyServerURL": "https://plot.ly"
       },
       "data": [
        {
         "mode": "markers",
         "name": "Objective Value",
         "type": "scatter",
         "x": [
          0,
          1,
          2,
          3,
          4,
          5,
          6,
          7,
          8,
          9,
          10,
          11,
          12,
          13,
          14,
          15,
          16,
          17,
          18,
          19
         ],
         "y": [
          2510.618643594184,
          2480.1135238161964,
          2593.1296494747594,
          2466.733817039236,
          2600.8913140928307,
          2539.238528529886,
          2597.771964110428,
          2390.1206793014912,
          2582.1468072627235,
          2417.729911111731,
          2426.769699485854,
          2392.4801648140656,
          2387.854135043952,
          2450.3773418646733,
          2432.4126363600203,
          2452.953777724597,
          2408.7629903966963,
          2531.1900424364976,
          2476.722306993791,
          2387.7880820946125
         ]
        },
        {
         "name": "Best Value",
         "type": "scatter",
         "x": [
          0,
          1,
          2,
          3,
          4,
          5,
          6,
          7,
          8,
          9,
          10,
          11,
          12,
          13,
          14,
          15,
          16,
          17,
          18,
          19
         ],
         "y": [
          2510.618643594184,
          2480.1135238161964,
          2480.1135238161964,
          2466.733817039236,
          2466.733817039236,
          2466.733817039236,
          2466.733817039236,
          2390.1206793014912,
          2390.1206793014912,
          2390.1206793014912,
          2390.1206793014912,
          2390.1206793014912,
          2387.854135043952,
          2387.854135043952,
          2387.854135043952,
          2387.854135043952,
          2387.854135043952,
          2387.854135043952,
          2387.854135043952,
          2387.7880820946125
         ]
        }
       ],
       "layout": {
        "template": {
         "data": {
          "bar": [
           {
            "error_x": {
             "color": "#2a3f5f"
            },
            "error_y": {
             "color": "#2a3f5f"
            },
            "marker": {
             "line": {
              "color": "#E5ECF6",
              "width": 0.5
             },
             "pattern": {
              "fillmode": "overlay",
              "size": 10,
              "solidity": 0.2
             }
            },
            "type": "bar"
           }
          ],
          "barpolar": [
           {
            "marker": {
             "line": {
              "color": "#E5ECF6",
              "width": 0.5
             },
             "pattern": {
              "fillmode": "overlay",
              "size": 10,
              "solidity": 0.2
             }
            },
            "type": "barpolar"
           }
          ],
          "carpet": [
           {
            "aaxis": {
             "endlinecolor": "#2a3f5f",
             "gridcolor": "white",
             "linecolor": "white",
             "minorgridcolor": "white",
             "startlinecolor": "#2a3f5f"
            },
            "baxis": {
             "endlinecolor": "#2a3f5f",
             "gridcolor": "white",
             "linecolor": "white",
             "minorgridcolor": "white",
             "startlinecolor": "#2a3f5f"
            },
            "type": "carpet"
           }
          ],
          "choropleth": [
           {
            "colorbar": {
             "outlinewidth": 0,
             "ticks": ""
            },
            "type": "choropleth"
           }
          ],
          "contour": [
           {
            "colorbar": {
             "outlinewidth": 0,
             "ticks": ""
            },
            "colorscale": [
             [
              0,
              "#0d0887"
             ],
             [
              0.1111111111111111,
              "#46039f"
             ],
             [
              0.2222222222222222,
              "#7201a8"
             ],
             [
              0.3333333333333333,
              "#9c179e"
             ],
             [
              0.4444444444444444,
              "#bd3786"
             ],
             [
              0.5555555555555556,
              "#d8576b"
             ],
             [
              0.6666666666666666,
              "#ed7953"
             ],
             [
              0.7777777777777778,
              "#fb9f3a"
             ],
             [
              0.8888888888888888,
              "#fdca26"
             ],
             [
              1,
              "#f0f921"
             ]
            ],
            "type": "contour"
           }
          ],
          "contourcarpet": [
           {
            "colorbar": {
             "outlinewidth": 0,
             "ticks": ""
            },
            "type": "contourcarpet"
           }
          ],
          "heatmap": [
           {
            "colorbar": {
             "outlinewidth": 0,
             "ticks": ""
            },
            "colorscale": [
             [
              0,
              "#0d0887"
             ],
             [
              0.1111111111111111,
              "#46039f"
             ],
             [
              0.2222222222222222,
              "#7201a8"
             ],
             [
              0.3333333333333333,
              "#9c179e"
             ],
             [
              0.4444444444444444,
              "#bd3786"
             ],
             [
              0.5555555555555556,
              "#d8576b"
             ],
             [
              0.6666666666666666,
              "#ed7953"
             ],
             [
              0.7777777777777778,
              "#fb9f3a"
             ],
             [
              0.8888888888888888,
              "#fdca26"
             ],
             [
              1,
              "#f0f921"
             ]
            ],
            "type": "heatmap"
           }
          ],
          "heatmapgl": [
           {
            "colorbar": {
             "outlinewidth": 0,
             "ticks": ""
            },
            "colorscale": [
             [
              0,
              "#0d0887"
             ],
             [
              0.1111111111111111,
              "#46039f"
             ],
             [
              0.2222222222222222,
              "#7201a8"
             ],
             [
              0.3333333333333333,
              "#9c179e"
             ],
             [
              0.4444444444444444,
              "#bd3786"
             ],
             [
              0.5555555555555556,
              "#d8576b"
             ],
             [
              0.6666666666666666,
              "#ed7953"
             ],
             [
              0.7777777777777778,
              "#fb9f3a"
             ],
             [
              0.8888888888888888,
              "#fdca26"
             ],
             [
              1,
              "#f0f921"
             ]
            ],
            "type": "heatmapgl"
           }
          ],
          "histogram": [
           {
            "marker": {
             "pattern": {
              "fillmode": "overlay",
              "size": 10,
              "solidity": 0.2
             }
            },
            "type": "histogram"
           }
          ],
          "histogram2d": [
           {
            "colorbar": {
             "outlinewidth": 0,
             "ticks": ""
            },
            "colorscale": [
             [
              0,
              "#0d0887"
             ],
             [
              0.1111111111111111,
              "#46039f"
             ],
             [
              0.2222222222222222,
              "#7201a8"
             ],
             [
              0.3333333333333333,
              "#9c179e"
             ],
             [
              0.4444444444444444,
              "#bd3786"
             ],
             [
              0.5555555555555556,
              "#d8576b"
             ],
             [
              0.6666666666666666,
              "#ed7953"
             ],
             [
              0.7777777777777778,
              "#fb9f3a"
             ],
             [
              0.8888888888888888,
              "#fdca26"
             ],
             [
              1,
              "#f0f921"
             ]
            ],
            "type": "histogram2d"
           }
          ],
          "histogram2dcontour": [
           {
            "colorbar": {
             "outlinewidth": 0,
             "ticks": ""
            },
            "colorscale": [
             [
              0,
              "#0d0887"
             ],
             [
              0.1111111111111111,
              "#46039f"
             ],
             [
              0.2222222222222222,
              "#7201a8"
             ],
             [
              0.3333333333333333,
              "#9c179e"
             ],
             [
              0.4444444444444444,
              "#bd3786"
             ],
             [
              0.5555555555555556,
              "#d8576b"
             ],
             [
              0.6666666666666666,
              "#ed7953"
             ],
             [
              0.7777777777777778,
              "#fb9f3a"
             ],
             [
              0.8888888888888888,
              "#fdca26"
             ],
             [
              1,
              "#f0f921"
             ]
            ],
            "type": "histogram2dcontour"
           }
          ],
          "mesh3d": [
           {
            "colorbar": {
             "outlinewidth": 0,
             "ticks": ""
            },
            "type": "mesh3d"
           }
          ],
          "parcoords": [
           {
            "line": {
             "colorbar": {
              "outlinewidth": 0,
              "ticks": ""
             }
            },
            "type": "parcoords"
           }
          ],
          "pie": [
           {
            "automargin": true,
            "type": "pie"
           }
          ],
          "scatter": [
           {
            "marker": {
             "colorbar": {
              "outlinewidth": 0,
              "ticks": ""
             }
            },
            "type": "scatter"
           }
          ],
          "scatter3d": [
           {
            "line": {
             "colorbar": {
              "outlinewidth": 0,
              "ticks": ""
             }
            },
            "marker": {
             "colorbar": {
              "outlinewidth": 0,
              "ticks": ""
             }
            },
            "type": "scatter3d"
           }
          ],
          "scattercarpet": [
           {
            "marker": {
             "colorbar": {
              "outlinewidth": 0,
              "ticks": ""
             }
            },
            "type": "scattercarpet"
           }
          ],
          "scattergeo": [
           {
            "marker": {
             "colorbar": {
              "outlinewidth": 0,
              "ticks": ""
             }
            },
            "type": "scattergeo"
           }
          ],
          "scattergl": [
           {
            "marker": {
             "colorbar": {
              "outlinewidth": 0,
              "ticks": ""
             }
            },
            "type": "scattergl"
           }
          ],
          "scattermapbox": [
           {
            "marker": {
             "colorbar": {
              "outlinewidth": 0,
              "ticks": ""
             }
            },
            "type": "scattermapbox"
           }
          ],
          "scatterpolar": [
           {
            "marker": {
             "colorbar": {
              "outlinewidth": 0,
              "ticks": ""
             }
            },
            "type": "scatterpolar"
           }
          ],
          "scatterpolargl": [
           {
            "marker": {
             "colorbar": {
              "outlinewidth": 0,
              "ticks": ""
             }
            },
            "type": "scatterpolargl"
           }
          ],
          "scatterternary": [
           {
            "marker": {
             "colorbar": {
              "outlinewidth": 0,
              "ticks": ""
             }
            },
            "type": "scatterternary"
           }
          ],
          "surface": [
           {
            "colorbar": {
             "outlinewidth": 0,
             "ticks": ""
            },
            "colorscale": [
             [
              0,
              "#0d0887"
             ],
             [
              0.1111111111111111,
              "#46039f"
             ],
             [
              0.2222222222222222,
              "#7201a8"
             ],
             [
              0.3333333333333333,
              "#9c179e"
             ],
             [
              0.4444444444444444,
              "#bd3786"
             ],
             [
              0.5555555555555556,
              "#d8576b"
             ],
             [
              0.6666666666666666,
              "#ed7953"
             ],
             [
              0.7777777777777778,
              "#fb9f3a"
             ],
             [
              0.8888888888888888,
              "#fdca26"
             ],
             [
              1,
              "#f0f921"
             ]
            ],
            "type": "surface"
           }
          ],
          "table": [
           {
            "cells": {
             "fill": {
              "color": "#EBF0F8"
             },
             "line": {
              "color": "white"
             }
            },
            "header": {
             "fill": {
              "color": "#C8D4E3"
             },
             "line": {
              "color": "white"
             }
            },
            "type": "table"
           }
          ]
         },
         "layout": {
          "annotationdefaults": {
           "arrowcolor": "#2a3f5f",
           "arrowhead": 0,
           "arrowwidth": 1
          },
          "autotypenumbers": "strict",
          "coloraxis": {
           "colorbar": {
            "outlinewidth": 0,
            "ticks": ""
           }
          },
          "colorscale": {
           "diverging": [
            [
             0,
             "#8e0152"
            ],
            [
             0.1,
             "#c51b7d"
            ],
            [
             0.2,
             "#de77ae"
            ],
            [
             0.3,
             "#f1b6da"
            ],
            [
             0.4,
             "#fde0ef"
            ],
            [
             0.5,
             "#f7f7f7"
            ],
            [
             0.6,
             "#e6f5d0"
            ],
            [
             0.7,
             "#b8e186"
            ],
            [
             0.8,
             "#7fbc41"
            ],
            [
             0.9,
             "#4d9221"
            ],
            [
             1,
             "#276419"
            ]
           ],
           "sequential": [
            [
             0,
             "#0d0887"
            ],
            [
             0.1111111111111111,
             "#46039f"
            ],
            [
             0.2222222222222222,
             "#7201a8"
            ],
            [
             0.3333333333333333,
             "#9c179e"
            ],
            [
             0.4444444444444444,
             "#bd3786"
            ],
            [
             0.5555555555555556,
             "#d8576b"
            ],
            [
             0.6666666666666666,
             "#ed7953"
            ],
            [
             0.7777777777777778,
             "#fb9f3a"
            ],
            [
             0.8888888888888888,
             "#fdca26"
            ],
            [
             1,
             "#f0f921"
            ]
           ],
           "sequentialminus": [
            [
             0,
             "#0d0887"
            ],
            [
             0.1111111111111111,
             "#46039f"
            ],
            [
             0.2222222222222222,
             "#7201a8"
            ],
            [
             0.3333333333333333,
             "#9c179e"
            ],
            [
             0.4444444444444444,
             "#bd3786"
            ],
            [
             0.5555555555555556,
             "#d8576b"
            ],
            [
             0.6666666666666666,
             "#ed7953"
            ],
            [
             0.7777777777777778,
             "#fb9f3a"
            ],
            [
             0.8888888888888888,
             "#fdca26"
            ],
            [
             1,
             "#f0f921"
            ]
           ]
          },
          "colorway": [
           "#636efa",
           "#EF553B",
           "#00cc96",
           "#ab63fa",
           "#FFA15A",
           "#19d3f3",
           "#FF6692",
           "#B6E880",
           "#FF97FF",
           "#FECB52"
          ],
          "font": {
           "color": "#2a3f5f"
          },
          "geo": {
           "bgcolor": "white",
           "lakecolor": "white",
           "landcolor": "#E5ECF6",
           "showlakes": true,
           "showland": true,
           "subunitcolor": "white"
          },
          "hoverlabel": {
           "align": "left"
          },
          "hovermode": "closest",
          "mapbox": {
           "style": "light"
          },
          "paper_bgcolor": "white",
          "plot_bgcolor": "#E5ECF6",
          "polar": {
           "angularaxis": {
            "gridcolor": "white",
            "linecolor": "white",
            "ticks": ""
           },
           "bgcolor": "#E5ECF6",
           "radialaxis": {
            "gridcolor": "white",
            "linecolor": "white",
            "ticks": ""
           }
          },
          "scene": {
           "xaxis": {
            "backgroundcolor": "#E5ECF6",
            "gridcolor": "white",
            "gridwidth": 2,
            "linecolor": "white",
            "showbackground": true,
            "ticks": "",
            "zerolinecolor": "white"
           },
           "yaxis": {
            "backgroundcolor": "#E5ECF6",
            "gridcolor": "white",
            "gridwidth": 2,
            "linecolor": "white",
            "showbackground": true,
            "ticks": "",
            "zerolinecolor": "white"
           },
           "zaxis": {
            "backgroundcolor": "#E5ECF6",
            "gridcolor": "white",
            "gridwidth": 2,
            "linecolor": "white",
            "showbackground": true,
            "ticks": "",
            "zerolinecolor": "white"
           }
          },
          "shapedefaults": {
           "line": {
            "color": "#2a3f5f"
           }
          },
          "ternary": {
           "aaxis": {
            "gridcolor": "white",
            "linecolor": "white",
            "ticks": ""
           },
           "baxis": {
            "gridcolor": "white",
            "linecolor": "white",
            "ticks": ""
           },
           "bgcolor": "#E5ECF6",
           "caxis": {
            "gridcolor": "white",
            "linecolor": "white",
            "ticks": ""
           }
          },
          "title": {
           "x": 0.05
          },
          "xaxis": {
           "automargin": true,
           "gridcolor": "white",
           "linecolor": "white",
           "ticks": "",
           "title": {
            "standoff": 15
           },
           "zerolinecolor": "white",
           "zerolinewidth": 2
          },
          "yaxis": {
           "automargin": true,
           "gridcolor": "white",
           "linecolor": "white",
           "ticks": "",
           "title": {
            "standoff": 15
           },
           "zerolinecolor": "white",
           "zerolinewidth": 2
          }
         }
        },
        "title": {
         "text": "Optimization History Plot"
        },
        "xaxis": {
         "title": {
          "text": "#Trials"
         }
        },
        "yaxis": {
         "title": {
          "text": "Objective Value"
         }
        }
       }
      },
      "text/html": [
       "<div>                            <div id=\"9f487fa6-7b54-41b0-b06d-98bde80b0090\" class=\"plotly-graph-div\" style=\"height:525px; width:100%;\"></div>            <script type=\"text/javascript\">                require([\"plotly\"], function(Plotly) {                    window.PLOTLYENV=window.PLOTLYENV || {};                                    if (document.getElementById(\"9f487fa6-7b54-41b0-b06d-98bde80b0090\")) {                    Plotly.newPlot(                        \"9f487fa6-7b54-41b0-b06d-98bde80b0090\",                        [{\"mode\":\"markers\",\"name\":\"Objective Value\",\"x\":[0,1,2,3,4,5,6,7,8,9,10,11,12,13,14,15,16,17,18,19],\"y\":[2510.618643594184,2480.1135238161964,2593.1296494747594,2466.733817039236,2600.8913140928307,2539.238528529886,2597.771964110428,2390.1206793014912,2582.1468072627235,2417.729911111731,2426.769699485854,2392.4801648140656,2387.854135043952,2450.3773418646733,2432.4126363600203,2452.953777724597,2408.7629903966963,2531.1900424364976,2476.722306993791,2387.7880820946125],\"type\":\"scatter\"},{\"name\":\"Best Value\",\"x\":[0,1,2,3,4,5,6,7,8,9,10,11,12,13,14,15,16,17,18,19],\"y\":[2510.618643594184,2480.1135238161964,2480.1135238161964,2466.733817039236,2466.733817039236,2466.733817039236,2466.733817039236,2390.1206793014912,2390.1206793014912,2390.1206793014912,2390.1206793014912,2390.1206793014912,2387.854135043952,2387.854135043952,2387.854135043952,2387.854135043952,2387.854135043952,2387.854135043952,2387.854135043952,2387.7880820946125],\"type\":\"scatter\"}],                        {\"title\":{\"text\":\"Optimization History Plot\"},\"xaxis\":{\"title\":{\"text\":\"#Trials\"}},\"yaxis\":{\"title\":{\"text\":\"Objective Value\"}},\"template\":{\"data\":{\"bar\":[{\"error_x\":{\"color\":\"#2a3f5f\"},\"error_y\":{\"color\":\"#2a3f5f\"},\"marker\":{\"line\":{\"color\":\"#E5ECF6\",\"width\":0.5},\"pattern\":{\"fillmode\":\"overlay\",\"size\":10,\"solidity\":0.2}},\"type\":\"bar\"}],\"barpolar\":[{\"marker\":{\"line\":{\"color\":\"#E5ECF6\",\"width\":0.5},\"pattern\":{\"fillmode\":\"overlay\",\"size\":10,\"solidity\":0.2}},\"type\":\"barpolar\"}],\"carpet\":[{\"aaxis\":{\"endlinecolor\":\"#2a3f5f\",\"gridcolor\":\"white\",\"linecolor\":\"white\",\"minorgridcolor\":\"white\",\"startlinecolor\":\"#2a3f5f\"},\"baxis\":{\"endlinecolor\":\"#2a3f5f\",\"gridcolor\":\"white\",\"linecolor\":\"white\",\"minorgridcolor\":\"white\",\"startlinecolor\":\"#2a3f5f\"},\"type\":\"carpet\"}],\"choropleth\":[{\"colorbar\":{\"outlinewidth\":0,\"ticks\":\"\"},\"type\":\"choropleth\"}],\"contour\":[{\"colorbar\":{\"outlinewidth\":0,\"ticks\":\"\"},\"colorscale\":[[0.0,\"#0d0887\"],[0.1111111111111111,\"#46039f\"],[0.2222222222222222,\"#7201a8\"],[0.3333333333333333,\"#9c179e\"],[0.4444444444444444,\"#bd3786\"],[0.5555555555555556,\"#d8576b\"],[0.6666666666666666,\"#ed7953\"],[0.7777777777777778,\"#fb9f3a\"],[0.8888888888888888,\"#fdca26\"],[1.0,\"#f0f921\"]],\"type\":\"contour\"}],\"contourcarpet\":[{\"colorbar\":{\"outlinewidth\":0,\"ticks\":\"\"},\"type\":\"contourcarpet\"}],\"heatmap\":[{\"colorbar\":{\"outlinewidth\":0,\"ticks\":\"\"},\"colorscale\":[[0.0,\"#0d0887\"],[0.1111111111111111,\"#46039f\"],[0.2222222222222222,\"#7201a8\"],[0.3333333333333333,\"#9c179e\"],[0.4444444444444444,\"#bd3786\"],[0.5555555555555556,\"#d8576b\"],[0.6666666666666666,\"#ed7953\"],[0.7777777777777778,\"#fb9f3a\"],[0.8888888888888888,\"#fdca26\"],[1.0,\"#f0f921\"]],\"type\":\"heatmap\"}],\"heatmapgl\":[{\"colorbar\":{\"outlinewidth\":0,\"ticks\":\"\"},\"colorscale\":[[0.0,\"#0d0887\"],[0.1111111111111111,\"#46039f\"],[0.2222222222222222,\"#7201a8\"],[0.3333333333333333,\"#9c179e\"],[0.4444444444444444,\"#bd3786\"],[0.5555555555555556,\"#d8576b\"],[0.6666666666666666,\"#ed7953\"],[0.7777777777777778,\"#fb9f3a\"],[0.8888888888888888,\"#fdca26\"],[1.0,\"#f0f921\"]],\"type\":\"heatmapgl\"}],\"histogram\":[{\"marker\":{\"pattern\":{\"fillmode\":\"overlay\",\"size\":10,\"solidity\":0.2}},\"type\":\"histogram\"}],\"histogram2d\":[{\"colorbar\":{\"outlinewidth\":0,\"ticks\":\"\"},\"colorscale\":[[0.0,\"#0d0887\"],[0.1111111111111111,\"#46039f\"],[0.2222222222222222,\"#7201a8\"],[0.3333333333333333,\"#9c179e\"],[0.4444444444444444,\"#bd3786\"],[0.5555555555555556,\"#d8576b\"],[0.6666666666666666,\"#ed7953\"],[0.7777777777777778,\"#fb9f3a\"],[0.8888888888888888,\"#fdca26\"],[1.0,\"#f0f921\"]],\"type\":\"histogram2d\"}],\"histogram2dcontour\":[{\"colorbar\":{\"outlinewidth\":0,\"ticks\":\"\"},\"colorscale\":[[0.0,\"#0d0887\"],[0.1111111111111111,\"#46039f\"],[0.2222222222222222,\"#7201a8\"],[0.3333333333333333,\"#9c179e\"],[0.4444444444444444,\"#bd3786\"],[0.5555555555555556,\"#d8576b\"],[0.6666666666666666,\"#ed7953\"],[0.7777777777777778,\"#fb9f3a\"],[0.8888888888888888,\"#fdca26\"],[1.0,\"#f0f921\"]],\"type\":\"histogram2dcontour\"}],\"mesh3d\":[{\"colorbar\":{\"outlinewidth\":0,\"ticks\":\"\"},\"type\":\"mesh3d\"}],\"parcoords\":[{\"line\":{\"colorbar\":{\"outlinewidth\":0,\"ticks\":\"\"}},\"type\":\"parcoords\"}],\"pie\":[{\"automargin\":true,\"type\":\"pie\"}],\"scatter\":[{\"marker\":{\"colorbar\":{\"outlinewidth\":0,\"ticks\":\"\"}},\"type\":\"scatter\"}],\"scatter3d\":[{\"line\":{\"colorbar\":{\"outlinewidth\":0,\"ticks\":\"\"}},\"marker\":{\"colorbar\":{\"outlinewidth\":0,\"ticks\":\"\"}},\"type\":\"scatter3d\"}],\"scattercarpet\":[{\"marker\":{\"colorbar\":{\"outlinewidth\":0,\"ticks\":\"\"}},\"type\":\"scattercarpet\"}],\"scattergeo\":[{\"marker\":{\"colorbar\":{\"outlinewidth\":0,\"ticks\":\"\"}},\"type\":\"scattergeo\"}],\"scattergl\":[{\"marker\":{\"colorbar\":{\"outlinewidth\":0,\"ticks\":\"\"}},\"type\":\"scattergl\"}],\"scattermapbox\":[{\"marker\":{\"colorbar\":{\"outlinewidth\":0,\"ticks\":\"\"}},\"type\":\"scattermapbox\"}],\"scatterpolar\":[{\"marker\":{\"colorbar\":{\"outlinewidth\":0,\"ticks\":\"\"}},\"type\":\"scatterpolar\"}],\"scatterpolargl\":[{\"marker\":{\"colorbar\":{\"outlinewidth\":0,\"ticks\":\"\"}},\"type\":\"scatterpolargl\"}],\"scatterternary\":[{\"marker\":{\"colorbar\":{\"outlinewidth\":0,\"ticks\":\"\"}},\"type\":\"scatterternary\"}],\"surface\":[{\"colorbar\":{\"outlinewidth\":0,\"ticks\":\"\"},\"colorscale\":[[0.0,\"#0d0887\"],[0.1111111111111111,\"#46039f\"],[0.2222222222222222,\"#7201a8\"],[0.3333333333333333,\"#9c179e\"],[0.4444444444444444,\"#bd3786\"],[0.5555555555555556,\"#d8576b\"],[0.6666666666666666,\"#ed7953\"],[0.7777777777777778,\"#fb9f3a\"],[0.8888888888888888,\"#fdca26\"],[1.0,\"#f0f921\"]],\"type\":\"surface\"}],\"table\":[{\"cells\":{\"fill\":{\"color\":\"#EBF0F8\"},\"line\":{\"color\":\"white\"}},\"header\":{\"fill\":{\"color\":\"#C8D4E3\"},\"line\":{\"color\":\"white\"}},\"type\":\"table\"}]},\"layout\":{\"annotationdefaults\":{\"arrowcolor\":\"#2a3f5f\",\"arrowhead\":0,\"arrowwidth\":1},\"autotypenumbers\":\"strict\",\"coloraxis\":{\"colorbar\":{\"outlinewidth\":0,\"ticks\":\"\"}},\"colorscale\":{\"diverging\":[[0,\"#8e0152\"],[0.1,\"#c51b7d\"],[0.2,\"#de77ae\"],[0.3,\"#f1b6da\"],[0.4,\"#fde0ef\"],[0.5,\"#f7f7f7\"],[0.6,\"#e6f5d0\"],[0.7,\"#b8e186\"],[0.8,\"#7fbc41\"],[0.9,\"#4d9221\"],[1,\"#276419\"]],\"sequential\":[[0.0,\"#0d0887\"],[0.1111111111111111,\"#46039f\"],[0.2222222222222222,\"#7201a8\"],[0.3333333333333333,\"#9c179e\"],[0.4444444444444444,\"#bd3786\"],[0.5555555555555556,\"#d8576b\"],[0.6666666666666666,\"#ed7953\"],[0.7777777777777778,\"#fb9f3a\"],[0.8888888888888888,\"#fdca26\"],[1.0,\"#f0f921\"]],\"sequentialminus\":[[0.0,\"#0d0887\"],[0.1111111111111111,\"#46039f\"],[0.2222222222222222,\"#7201a8\"],[0.3333333333333333,\"#9c179e\"],[0.4444444444444444,\"#bd3786\"],[0.5555555555555556,\"#d8576b\"],[0.6666666666666666,\"#ed7953\"],[0.7777777777777778,\"#fb9f3a\"],[0.8888888888888888,\"#fdca26\"],[1.0,\"#f0f921\"]]},\"colorway\":[\"#636efa\",\"#EF553B\",\"#00cc96\",\"#ab63fa\",\"#FFA15A\",\"#19d3f3\",\"#FF6692\",\"#B6E880\",\"#FF97FF\",\"#FECB52\"],\"font\":{\"color\":\"#2a3f5f\"},\"geo\":{\"bgcolor\":\"white\",\"lakecolor\":\"white\",\"landcolor\":\"#E5ECF6\",\"showlakes\":true,\"showland\":true,\"subunitcolor\":\"white\"},\"hoverlabel\":{\"align\":\"left\"},\"hovermode\":\"closest\",\"mapbox\":{\"style\":\"light\"},\"paper_bgcolor\":\"white\",\"plot_bgcolor\":\"#E5ECF6\",\"polar\":{\"angularaxis\":{\"gridcolor\":\"white\",\"linecolor\":\"white\",\"ticks\":\"\"},\"bgcolor\":\"#E5ECF6\",\"radialaxis\":{\"gridcolor\":\"white\",\"linecolor\":\"white\",\"ticks\":\"\"}},\"scene\":{\"xaxis\":{\"backgroundcolor\":\"#E5ECF6\",\"gridcolor\":\"white\",\"gridwidth\":2,\"linecolor\":\"white\",\"showbackground\":true,\"ticks\":\"\",\"zerolinecolor\":\"white\"},\"yaxis\":{\"backgroundcolor\":\"#E5ECF6\",\"gridcolor\":\"white\",\"gridwidth\":2,\"linecolor\":\"white\",\"showbackground\":true,\"ticks\":\"\",\"zerolinecolor\":\"white\"},\"zaxis\":{\"backgroundcolor\":\"#E5ECF6\",\"gridcolor\":\"white\",\"gridwidth\":2,\"linecolor\":\"white\",\"showbackground\":true,\"ticks\":\"\",\"zerolinecolor\":\"white\"}},\"shapedefaults\":{\"line\":{\"color\":\"#2a3f5f\"}},\"ternary\":{\"aaxis\":{\"gridcolor\":\"white\",\"linecolor\":\"white\",\"ticks\":\"\"},\"baxis\":{\"gridcolor\":\"white\",\"linecolor\":\"white\",\"ticks\":\"\"},\"bgcolor\":\"#E5ECF6\",\"caxis\":{\"gridcolor\":\"white\",\"linecolor\":\"white\",\"ticks\":\"\"}},\"title\":{\"x\":0.05},\"xaxis\":{\"automargin\":true,\"gridcolor\":\"white\",\"linecolor\":\"white\",\"ticks\":\"\",\"title\":{\"standoff\":15},\"zerolinecolor\":\"white\",\"zerolinewidth\":2},\"yaxis\":{\"automargin\":true,\"gridcolor\":\"white\",\"linecolor\":\"white\",\"ticks\":\"\",\"title\":{\"standoff\":15},\"zerolinecolor\":\"white\",\"zerolinewidth\":2}}}},                        {\"responsive\": true}                    ).then(function(){\n",
       "                            \n",
       "var gd = document.getElementById('9f487fa6-7b54-41b0-b06d-98bde80b0090');\n",
       "var x = new MutationObserver(function (mutations, observer) {{\n",
       "        var display = window.getComputedStyle(gd).display;\n",
       "        if (!display || display === 'none') {{\n",
       "            console.log([gd, 'removed!']);\n",
       "            Plotly.purge(gd);\n",
       "            observer.disconnect();\n",
       "        }}\n",
       "}});\n",
       "\n",
       "// Listen for the removal of the full notebook cells\n",
       "var notebookContainer = gd.closest('#notebook-container');\n",
       "if (notebookContainer) {{\n",
       "    x.observe(notebookContainer, {childList: true});\n",
       "}}\n",
       "\n",
       "// Listen for the clearing of the current output cell\n",
       "var outputEl = gd.closest('.output');\n",
       "if (outputEl) {{\n",
       "    x.observe(outputEl, {childList: true});\n",
       "}}\n",
       "\n",
       "                        })                };                });            </script>        </div>"
      ]
     },
     "metadata": {},
     "output_type": "display_data"
    }
   ],
   "source": [
    "# visualising the search pattern of the trials w.r.t objective value\n",
    "optuna.visualization.plot_optimization_history(study)"
   ]
  },
  {
   "cell_type": "code",
   "execution_count": 24,
   "id": "cf9ee0b8",
   "metadata": {},
   "outputs": [
    {
     "data": {
      "application/vnd.plotly.v1+json": {
       "config": {
        "plotlyServerURL": "https://plot.ly"
       },
       "data": [
        {
         "cliponaxis": false,
         "hovertemplate": [
          "n_estimators (CategoricalDistribution): 0.0<extra></extra>",
          "max_depth (IntUniformDistribution): 0.008095995937660234<extra></extra>",
          "num_leaves (IntUniformDistribution): 0.022985672226373877<extra></extra>",
          "learning_rate (UniformDistribution): 0.9689183318359659<extra></extra>"
         ],
         "marker": {
          "color": "rgb(66,146,198)"
         },
         "orientation": "h",
         "text": [
          "0.0",
          "0.008095995937660234",
          "0.022985672226373877",
          "0.9689183318359659"
         ],
         "textposition": "outside",
         "texttemplate": "%{text:.2f}",
         "type": "bar",
         "x": [
          0,
          0.008095995937660234,
          0.022985672226373877,
          0.9689183318359659
         ],
         "y": [
          "n_estimators",
          "max_depth",
          "num_leaves",
          "learning_rate"
         ]
        }
       ],
       "layout": {
        "showlegend": false,
        "template": {
         "data": {
          "bar": [
           {
            "error_x": {
             "color": "#2a3f5f"
            },
            "error_y": {
             "color": "#2a3f5f"
            },
            "marker": {
             "line": {
              "color": "#E5ECF6",
              "width": 0.5
             },
             "pattern": {
              "fillmode": "overlay",
              "size": 10,
              "solidity": 0.2
             }
            },
            "type": "bar"
           }
          ],
          "barpolar": [
           {
            "marker": {
             "line": {
              "color": "#E5ECF6",
              "width": 0.5
             },
             "pattern": {
              "fillmode": "overlay",
              "size": 10,
              "solidity": 0.2
             }
            },
            "type": "barpolar"
           }
          ],
          "carpet": [
           {
            "aaxis": {
             "endlinecolor": "#2a3f5f",
             "gridcolor": "white",
             "linecolor": "white",
             "minorgridcolor": "white",
             "startlinecolor": "#2a3f5f"
            },
            "baxis": {
             "endlinecolor": "#2a3f5f",
             "gridcolor": "white",
             "linecolor": "white",
             "minorgridcolor": "white",
             "startlinecolor": "#2a3f5f"
            },
            "type": "carpet"
           }
          ],
          "choropleth": [
           {
            "colorbar": {
             "outlinewidth": 0,
             "ticks": ""
            },
            "type": "choropleth"
           }
          ],
          "contour": [
           {
            "colorbar": {
             "outlinewidth": 0,
             "ticks": ""
            },
            "colorscale": [
             [
              0,
              "#0d0887"
             ],
             [
              0.1111111111111111,
              "#46039f"
             ],
             [
              0.2222222222222222,
              "#7201a8"
             ],
             [
              0.3333333333333333,
              "#9c179e"
             ],
             [
              0.4444444444444444,
              "#bd3786"
             ],
             [
              0.5555555555555556,
              "#d8576b"
             ],
             [
              0.6666666666666666,
              "#ed7953"
             ],
             [
              0.7777777777777778,
              "#fb9f3a"
             ],
             [
              0.8888888888888888,
              "#fdca26"
             ],
             [
              1,
              "#f0f921"
             ]
            ],
            "type": "contour"
           }
          ],
          "contourcarpet": [
           {
            "colorbar": {
             "outlinewidth": 0,
             "ticks": ""
            },
            "type": "contourcarpet"
           }
          ],
          "heatmap": [
           {
            "colorbar": {
             "outlinewidth": 0,
             "ticks": ""
            },
            "colorscale": [
             [
              0,
              "#0d0887"
             ],
             [
              0.1111111111111111,
              "#46039f"
             ],
             [
              0.2222222222222222,
              "#7201a8"
             ],
             [
              0.3333333333333333,
              "#9c179e"
             ],
             [
              0.4444444444444444,
              "#bd3786"
             ],
             [
              0.5555555555555556,
              "#d8576b"
             ],
             [
              0.6666666666666666,
              "#ed7953"
             ],
             [
              0.7777777777777778,
              "#fb9f3a"
             ],
             [
              0.8888888888888888,
              "#fdca26"
             ],
             [
              1,
              "#f0f921"
             ]
            ],
            "type": "heatmap"
           }
          ],
          "heatmapgl": [
           {
            "colorbar": {
             "outlinewidth": 0,
             "ticks": ""
            },
            "colorscale": [
             [
              0,
              "#0d0887"
             ],
             [
              0.1111111111111111,
              "#46039f"
             ],
             [
              0.2222222222222222,
              "#7201a8"
             ],
             [
              0.3333333333333333,
              "#9c179e"
             ],
             [
              0.4444444444444444,
              "#bd3786"
             ],
             [
              0.5555555555555556,
              "#d8576b"
             ],
             [
              0.6666666666666666,
              "#ed7953"
             ],
             [
              0.7777777777777778,
              "#fb9f3a"
             ],
             [
              0.8888888888888888,
              "#fdca26"
             ],
             [
              1,
              "#f0f921"
             ]
            ],
            "type": "heatmapgl"
           }
          ],
          "histogram": [
           {
            "marker": {
             "pattern": {
              "fillmode": "overlay",
              "size": 10,
              "solidity": 0.2
             }
            },
            "type": "histogram"
           }
          ],
          "histogram2d": [
           {
            "colorbar": {
             "outlinewidth": 0,
             "ticks": ""
            },
            "colorscale": [
             [
              0,
              "#0d0887"
             ],
             [
              0.1111111111111111,
              "#46039f"
             ],
             [
              0.2222222222222222,
              "#7201a8"
             ],
             [
              0.3333333333333333,
              "#9c179e"
             ],
             [
              0.4444444444444444,
              "#bd3786"
             ],
             [
              0.5555555555555556,
              "#d8576b"
             ],
             [
              0.6666666666666666,
              "#ed7953"
             ],
             [
              0.7777777777777778,
              "#fb9f3a"
             ],
             [
              0.8888888888888888,
              "#fdca26"
             ],
             [
              1,
              "#f0f921"
             ]
            ],
            "type": "histogram2d"
           }
          ],
          "histogram2dcontour": [
           {
            "colorbar": {
             "outlinewidth": 0,
             "ticks": ""
            },
            "colorscale": [
             [
              0,
              "#0d0887"
             ],
             [
              0.1111111111111111,
              "#46039f"
             ],
             [
              0.2222222222222222,
              "#7201a8"
             ],
             [
              0.3333333333333333,
              "#9c179e"
             ],
             [
              0.4444444444444444,
              "#bd3786"
             ],
             [
              0.5555555555555556,
              "#d8576b"
             ],
             [
              0.6666666666666666,
              "#ed7953"
             ],
             [
              0.7777777777777778,
              "#fb9f3a"
             ],
             [
              0.8888888888888888,
              "#fdca26"
             ],
             [
              1,
              "#f0f921"
             ]
            ],
            "type": "histogram2dcontour"
           }
          ],
          "mesh3d": [
           {
            "colorbar": {
             "outlinewidth": 0,
             "ticks": ""
            },
            "type": "mesh3d"
           }
          ],
          "parcoords": [
           {
            "line": {
             "colorbar": {
              "outlinewidth": 0,
              "ticks": ""
             }
            },
            "type": "parcoords"
           }
          ],
          "pie": [
           {
            "automargin": true,
            "type": "pie"
           }
          ],
          "scatter": [
           {
            "marker": {
             "colorbar": {
              "outlinewidth": 0,
              "ticks": ""
             }
            },
            "type": "scatter"
           }
          ],
          "scatter3d": [
           {
            "line": {
             "colorbar": {
              "outlinewidth": 0,
              "ticks": ""
             }
            },
            "marker": {
             "colorbar": {
              "outlinewidth": 0,
              "ticks": ""
             }
            },
            "type": "scatter3d"
           }
          ],
          "scattercarpet": [
           {
            "marker": {
             "colorbar": {
              "outlinewidth": 0,
              "ticks": ""
             }
            },
            "type": "scattercarpet"
           }
          ],
          "scattergeo": [
           {
            "marker": {
             "colorbar": {
              "outlinewidth": 0,
              "ticks": ""
             }
            },
            "type": "scattergeo"
           }
          ],
          "scattergl": [
           {
            "marker": {
             "colorbar": {
              "outlinewidth": 0,
              "ticks": ""
             }
            },
            "type": "scattergl"
           }
          ],
          "scattermapbox": [
           {
            "marker": {
             "colorbar": {
              "outlinewidth": 0,
              "ticks": ""
             }
            },
            "type": "scattermapbox"
           }
          ],
          "scatterpolar": [
           {
            "marker": {
             "colorbar": {
              "outlinewidth": 0,
              "ticks": ""
             }
            },
            "type": "scatterpolar"
           }
          ],
          "scatterpolargl": [
           {
            "marker": {
             "colorbar": {
              "outlinewidth": 0,
              "ticks": ""
             }
            },
            "type": "scatterpolargl"
           }
          ],
          "scatterternary": [
           {
            "marker": {
             "colorbar": {
              "outlinewidth": 0,
              "ticks": ""
             }
            },
            "type": "scatterternary"
           }
          ],
          "surface": [
           {
            "colorbar": {
             "outlinewidth": 0,
             "ticks": ""
            },
            "colorscale": [
             [
              0,
              "#0d0887"
             ],
             [
              0.1111111111111111,
              "#46039f"
             ],
             [
              0.2222222222222222,
              "#7201a8"
             ],
             [
              0.3333333333333333,
              "#9c179e"
             ],
             [
              0.4444444444444444,
              "#bd3786"
             ],
             [
              0.5555555555555556,
              "#d8576b"
             ],
             [
              0.6666666666666666,
              "#ed7953"
             ],
             [
              0.7777777777777778,
              "#fb9f3a"
             ],
             [
              0.8888888888888888,
              "#fdca26"
             ],
             [
              1,
              "#f0f921"
             ]
            ],
            "type": "surface"
           }
          ],
          "table": [
           {
            "cells": {
             "fill": {
              "color": "#EBF0F8"
             },
             "line": {
              "color": "white"
             }
            },
            "header": {
             "fill": {
              "color": "#C8D4E3"
             },
             "line": {
              "color": "white"
             }
            },
            "type": "table"
           }
          ]
         },
         "layout": {
          "annotationdefaults": {
           "arrowcolor": "#2a3f5f",
           "arrowhead": 0,
           "arrowwidth": 1
          },
          "autotypenumbers": "strict",
          "coloraxis": {
           "colorbar": {
            "outlinewidth": 0,
            "ticks": ""
           }
          },
          "colorscale": {
           "diverging": [
            [
             0,
             "#8e0152"
            ],
            [
             0.1,
             "#c51b7d"
            ],
            [
             0.2,
             "#de77ae"
            ],
            [
             0.3,
             "#f1b6da"
            ],
            [
             0.4,
             "#fde0ef"
            ],
            [
             0.5,
             "#f7f7f7"
            ],
            [
             0.6,
             "#e6f5d0"
            ],
            [
             0.7,
             "#b8e186"
            ],
            [
             0.8,
             "#7fbc41"
            ],
            [
             0.9,
             "#4d9221"
            ],
            [
             1,
             "#276419"
            ]
           ],
           "sequential": [
            [
             0,
             "#0d0887"
            ],
            [
             0.1111111111111111,
             "#46039f"
            ],
            [
             0.2222222222222222,
             "#7201a8"
            ],
            [
             0.3333333333333333,
             "#9c179e"
            ],
            [
             0.4444444444444444,
             "#bd3786"
            ],
            [
             0.5555555555555556,
             "#d8576b"
            ],
            [
             0.6666666666666666,
             "#ed7953"
            ],
            [
             0.7777777777777778,
             "#fb9f3a"
            ],
            [
             0.8888888888888888,
             "#fdca26"
            ],
            [
             1,
             "#f0f921"
            ]
           ],
           "sequentialminus": [
            [
             0,
             "#0d0887"
            ],
            [
             0.1111111111111111,
             "#46039f"
            ],
            [
             0.2222222222222222,
             "#7201a8"
            ],
            [
             0.3333333333333333,
             "#9c179e"
            ],
            [
             0.4444444444444444,
             "#bd3786"
            ],
            [
             0.5555555555555556,
             "#d8576b"
            ],
            [
             0.6666666666666666,
             "#ed7953"
            ],
            [
             0.7777777777777778,
             "#fb9f3a"
            ],
            [
             0.8888888888888888,
             "#fdca26"
            ],
            [
             1,
             "#f0f921"
            ]
           ]
          },
          "colorway": [
           "#636efa",
           "#EF553B",
           "#00cc96",
           "#ab63fa",
           "#FFA15A",
           "#19d3f3",
           "#FF6692",
           "#B6E880",
           "#FF97FF",
           "#FECB52"
          ],
          "font": {
           "color": "#2a3f5f"
          },
          "geo": {
           "bgcolor": "white",
           "lakecolor": "white",
           "landcolor": "#E5ECF6",
           "showlakes": true,
           "showland": true,
           "subunitcolor": "white"
          },
          "hoverlabel": {
           "align": "left"
          },
          "hovermode": "closest",
          "mapbox": {
           "style": "light"
          },
          "paper_bgcolor": "white",
          "plot_bgcolor": "#E5ECF6",
          "polar": {
           "angularaxis": {
            "gridcolor": "white",
            "linecolor": "white",
            "ticks": ""
           },
           "bgcolor": "#E5ECF6",
           "radialaxis": {
            "gridcolor": "white",
            "linecolor": "white",
            "ticks": ""
           }
          },
          "scene": {
           "xaxis": {
            "backgroundcolor": "#E5ECF6",
            "gridcolor": "white",
            "gridwidth": 2,
            "linecolor": "white",
            "showbackground": true,
            "ticks": "",
            "zerolinecolor": "white"
           },
           "yaxis": {
            "backgroundcolor": "#E5ECF6",
            "gridcolor": "white",
            "gridwidth": 2,
            "linecolor": "white",
            "showbackground": true,
            "ticks": "",
            "zerolinecolor": "white"
           },
           "zaxis": {
            "backgroundcolor": "#E5ECF6",
            "gridcolor": "white",
            "gridwidth": 2,
            "linecolor": "white",
            "showbackground": true,
            "ticks": "",
            "zerolinecolor": "white"
           }
          },
          "shapedefaults": {
           "line": {
            "color": "#2a3f5f"
           }
          },
          "ternary": {
           "aaxis": {
            "gridcolor": "white",
            "linecolor": "white",
            "ticks": ""
           },
           "baxis": {
            "gridcolor": "white",
            "linecolor": "white",
            "ticks": ""
           },
           "bgcolor": "#E5ECF6",
           "caxis": {
            "gridcolor": "white",
            "linecolor": "white",
            "ticks": ""
           }
          },
          "title": {
           "x": 0.05
          },
          "xaxis": {
           "automargin": true,
           "gridcolor": "white",
           "linecolor": "white",
           "ticks": "",
           "title": {
            "standoff": 15
           },
           "zerolinecolor": "white",
           "zerolinewidth": 2
          },
          "yaxis": {
           "automargin": true,
           "gridcolor": "white",
           "linecolor": "white",
           "ticks": "",
           "title": {
            "standoff": 15
           },
           "zerolinecolor": "white",
           "zerolinewidth": 2
          }
         }
        },
        "title": {
         "text": "Hyperparameter Importances"
        },
        "xaxis": {
         "title": {
          "text": "Importance for Objective Value"
         }
        },
        "yaxis": {
         "title": {
          "text": "Hyperparameter"
         }
        }
       }
      },
      "text/html": [
       "<div>                            <div id=\"6c8c455b-c278-4795-be03-b72c37ff65cb\" class=\"plotly-graph-div\" style=\"height:525px; width:100%;\"></div>            <script type=\"text/javascript\">                require([\"plotly\"], function(Plotly) {                    window.PLOTLYENV=window.PLOTLYENV || {};                                    if (document.getElementById(\"6c8c455b-c278-4795-be03-b72c37ff65cb\")) {                    Plotly.newPlot(                        \"6c8c455b-c278-4795-be03-b72c37ff65cb\",                        [{\"cliponaxis\":false,\"hovertemplate\":[\"n_estimators (CategoricalDistribution): 0.0<extra></extra>\",\"max_depth (IntUniformDistribution): 0.008095995937660234<extra></extra>\",\"num_leaves (IntUniformDistribution): 0.022985672226373877<extra></extra>\",\"learning_rate (UniformDistribution): 0.9689183318359659<extra></extra>\"],\"marker\":{\"color\":\"rgb(66,146,198)\"},\"orientation\":\"h\",\"text\":[\"0.0\",\"0.008095995937660234\",\"0.022985672226373877\",\"0.9689183318359659\"],\"textposition\":\"outside\",\"texttemplate\":\"%{text:.2f}\",\"x\":[0.0,0.008095995937660234,0.022985672226373877,0.9689183318359659],\"y\":[\"n_estimators\",\"max_depth\",\"num_leaves\",\"learning_rate\"],\"type\":\"bar\"}],                        {\"showlegend\":false,\"title\":{\"text\":\"Hyperparameter Importances\"},\"xaxis\":{\"title\":{\"text\":\"Importance for Objective Value\"}},\"yaxis\":{\"title\":{\"text\":\"Hyperparameter\"}},\"template\":{\"data\":{\"bar\":[{\"error_x\":{\"color\":\"#2a3f5f\"},\"error_y\":{\"color\":\"#2a3f5f\"},\"marker\":{\"line\":{\"color\":\"#E5ECF6\",\"width\":0.5},\"pattern\":{\"fillmode\":\"overlay\",\"size\":10,\"solidity\":0.2}},\"type\":\"bar\"}],\"barpolar\":[{\"marker\":{\"line\":{\"color\":\"#E5ECF6\",\"width\":0.5},\"pattern\":{\"fillmode\":\"overlay\",\"size\":10,\"solidity\":0.2}},\"type\":\"barpolar\"}],\"carpet\":[{\"aaxis\":{\"endlinecolor\":\"#2a3f5f\",\"gridcolor\":\"white\",\"linecolor\":\"white\",\"minorgridcolor\":\"white\",\"startlinecolor\":\"#2a3f5f\"},\"baxis\":{\"endlinecolor\":\"#2a3f5f\",\"gridcolor\":\"white\",\"linecolor\":\"white\",\"minorgridcolor\":\"white\",\"startlinecolor\":\"#2a3f5f\"},\"type\":\"carpet\"}],\"choropleth\":[{\"colorbar\":{\"outlinewidth\":0,\"ticks\":\"\"},\"type\":\"choropleth\"}],\"contour\":[{\"colorbar\":{\"outlinewidth\":0,\"ticks\":\"\"},\"colorscale\":[[0.0,\"#0d0887\"],[0.1111111111111111,\"#46039f\"],[0.2222222222222222,\"#7201a8\"],[0.3333333333333333,\"#9c179e\"],[0.4444444444444444,\"#bd3786\"],[0.5555555555555556,\"#d8576b\"],[0.6666666666666666,\"#ed7953\"],[0.7777777777777778,\"#fb9f3a\"],[0.8888888888888888,\"#fdca26\"],[1.0,\"#f0f921\"]],\"type\":\"contour\"}],\"contourcarpet\":[{\"colorbar\":{\"outlinewidth\":0,\"ticks\":\"\"},\"type\":\"contourcarpet\"}],\"heatmap\":[{\"colorbar\":{\"outlinewidth\":0,\"ticks\":\"\"},\"colorscale\":[[0.0,\"#0d0887\"],[0.1111111111111111,\"#46039f\"],[0.2222222222222222,\"#7201a8\"],[0.3333333333333333,\"#9c179e\"],[0.4444444444444444,\"#bd3786\"],[0.5555555555555556,\"#d8576b\"],[0.6666666666666666,\"#ed7953\"],[0.7777777777777778,\"#fb9f3a\"],[0.8888888888888888,\"#fdca26\"],[1.0,\"#f0f921\"]],\"type\":\"heatmap\"}],\"heatmapgl\":[{\"colorbar\":{\"outlinewidth\":0,\"ticks\":\"\"},\"colorscale\":[[0.0,\"#0d0887\"],[0.1111111111111111,\"#46039f\"],[0.2222222222222222,\"#7201a8\"],[0.3333333333333333,\"#9c179e\"],[0.4444444444444444,\"#bd3786\"],[0.5555555555555556,\"#d8576b\"],[0.6666666666666666,\"#ed7953\"],[0.7777777777777778,\"#fb9f3a\"],[0.8888888888888888,\"#fdca26\"],[1.0,\"#f0f921\"]],\"type\":\"heatmapgl\"}],\"histogram\":[{\"marker\":{\"pattern\":{\"fillmode\":\"overlay\",\"size\":10,\"solidity\":0.2}},\"type\":\"histogram\"}],\"histogram2d\":[{\"colorbar\":{\"outlinewidth\":0,\"ticks\":\"\"},\"colorscale\":[[0.0,\"#0d0887\"],[0.1111111111111111,\"#46039f\"],[0.2222222222222222,\"#7201a8\"],[0.3333333333333333,\"#9c179e\"],[0.4444444444444444,\"#bd3786\"],[0.5555555555555556,\"#d8576b\"],[0.6666666666666666,\"#ed7953\"],[0.7777777777777778,\"#fb9f3a\"],[0.8888888888888888,\"#fdca26\"],[1.0,\"#f0f921\"]],\"type\":\"histogram2d\"}],\"histogram2dcontour\":[{\"colorbar\":{\"outlinewidth\":0,\"ticks\":\"\"},\"colorscale\":[[0.0,\"#0d0887\"],[0.1111111111111111,\"#46039f\"],[0.2222222222222222,\"#7201a8\"],[0.3333333333333333,\"#9c179e\"],[0.4444444444444444,\"#bd3786\"],[0.5555555555555556,\"#d8576b\"],[0.6666666666666666,\"#ed7953\"],[0.7777777777777778,\"#fb9f3a\"],[0.8888888888888888,\"#fdca26\"],[1.0,\"#f0f921\"]],\"type\":\"histogram2dcontour\"}],\"mesh3d\":[{\"colorbar\":{\"outlinewidth\":0,\"ticks\":\"\"},\"type\":\"mesh3d\"}],\"parcoords\":[{\"line\":{\"colorbar\":{\"outlinewidth\":0,\"ticks\":\"\"}},\"type\":\"parcoords\"}],\"pie\":[{\"automargin\":true,\"type\":\"pie\"}],\"scatter\":[{\"marker\":{\"colorbar\":{\"outlinewidth\":0,\"ticks\":\"\"}},\"type\":\"scatter\"}],\"scatter3d\":[{\"line\":{\"colorbar\":{\"outlinewidth\":0,\"ticks\":\"\"}},\"marker\":{\"colorbar\":{\"outlinewidth\":0,\"ticks\":\"\"}},\"type\":\"scatter3d\"}],\"scattercarpet\":[{\"marker\":{\"colorbar\":{\"outlinewidth\":0,\"ticks\":\"\"}},\"type\":\"scattercarpet\"}],\"scattergeo\":[{\"marker\":{\"colorbar\":{\"outlinewidth\":0,\"ticks\":\"\"}},\"type\":\"scattergeo\"}],\"scattergl\":[{\"marker\":{\"colorbar\":{\"outlinewidth\":0,\"ticks\":\"\"}},\"type\":\"scattergl\"}],\"scattermapbox\":[{\"marker\":{\"colorbar\":{\"outlinewidth\":0,\"ticks\":\"\"}},\"type\":\"scattermapbox\"}],\"scatterpolar\":[{\"marker\":{\"colorbar\":{\"outlinewidth\":0,\"ticks\":\"\"}},\"type\":\"scatterpolar\"}],\"scatterpolargl\":[{\"marker\":{\"colorbar\":{\"outlinewidth\":0,\"ticks\":\"\"}},\"type\":\"scatterpolargl\"}],\"scatterternary\":[{\"marker\":{\"colorbar\":{\"outlinewidth\":0,\"ticks\":\"\"}},\"type\":\"scatterternary\"}],\"surface\":[{\"colorbar\":{\"outlinewidth\":0,\"ticks\":\"\"},\"colorscale\":[[0.0,\"#0d0887\"],[0.1111111111111111,\"#46039f\"],[0.2222222222222222,\"#7201a8\"],[0.3333333333333333,\"#9c179e\"],[0.4444444444444444,\"#bd3786\"],[0.5555555555555556,\"#d8576b\"],[0.6666666666666666,\"#ed7953\"],[0.7777777777777778,\"#fb9f3a\"],[0.8888888888888888,\"#fdca26\"],[1.0,\"#f0f921\"]],\"type\":\"surface\"}],\"table\":[{\"cells\":{\"fill\":{\"color\":\"#EBF0F8\"},\"line\":{\"color\":\"white\"}},\"header\":{\"fill\":{\"color\":\"#C8D4E3\"},\"line\":{\"color\":\"white\"}},\"type\":\"table\"}]},\"layout\":{\"annotationdefaults\":{\"arrowcolor\":\"#2a3f5f\",\"arrowhead\":0,\"arrowwidth\":1},\"autotypenumbers\":\"strict\",\"coloraxis\":{\"colorbar\":{\"outlinewidth\":0,\"ticks\":\"\"}},\"colorscale\":{\"diverging\":[[0,\"#8e0152\"],[0.1,\"#c51b7d\"],[0.2,\"#de77ae\"],[0.3,\"#f1b6da\"],[0.4,\"#fde0ef\"],[0.5,\"#f7f7f7\"],[0.6,\"#e6f5d0\"],[0.7,\"#b8e186\"],[0.8,\"#7fbc41\"],[0.9,\"#4d9221\"],[1,\"#276419\"]],\"sequential\":[[0.0,\"#0d0887\"],[0.1111111111111111,\"#46039f\"],[0.2222222222222222,\"#7201a8\"],[0.3333333333333333,\"#9c179e\"],[0.4444444444444444,\"#bd3786\"],[0.5555555555555556,\"#d8576b\"],[0.6666666666666666,\"#ed7953\"],[0.7777777777777778,\"#fb9f3a\"],[0.8888888888888888,\"#fdca26\"],[1.0,\"#f0f921\"]],\"sequentialminus\":[[0.0,\"#0d0887\"],[0.1111111111111111,\"#46039f\"],[0.2222222222222222,\"#7201a8\"],[0.3333333333333333,\"#9c179e\"],[0.4444444444444444,\"#bd3786\"],[0.5555555555555556,\"#d8576b\"],[0.6666666666666666,\"#ed7953\"],[0.7777777777777778,\"#fb9f3a\"],[0.8888888888888888,\"#fdca26\"],[1.0,\"#f0f921\"]]},\"colorway\":[\"#636efa\",\"#EF553B\",\"#00cc96\",\"#ab63fa\",\"#FFA15A\",\"#19d3f3\",\"#FF6692\",\"#B6E880\",\"#FF97FF\",\"#FECB52\"],\"font\":{\"color\":\"#2a3f5f\"},\"geo\":{\"bgcolor\":\"white\",\"lakecolor\":\"white\",\"landcolor\":\"#E5ECF6\",\"showlakes\":true,\"showland\":true,\"subunitcolor\":\"white\"},\"hoverlabel\":{\"align\":\"left\"},\"hovermode\":\"closest\",\"mapbox\":{\"style\":\"light\"},\"paper_bgcolor\":\"white\",\"plot_bgcolor\":\"#E5ECF6\",\"polar\":{\"angularaxis\":{\"gridcolor\":\"white\",\"linecolor\":\"white\",\"ticks\":\"\"},\"bgcolor\":\"#E5ECF6\",\"radialaxis\":{\"gridcolor\":\"white\",\"linecolor\":\"white\",\"ticks\":\"\"}},\"scene\":{\"xaxis\":{\"backgroundcolor\":\"#E5ECF6\",\"gridcolor\":\"white\",\"gridwidth\":2,\"linecolor\":\"white\",\"showbackground\":true,\"ticks\":\"\",\"zerolinecolor\":\"white\"},\"yaxis\":{\"backgroundcolor\":\"#E5ECF6\",\"gridcolor\":\"white\",\"gridwidth\":2,\"linecolor\":\"white\",\"showbackground\":true,\"ticks\":\"\",\"zerolinecolor\":\"white\"},\"zaxis\":{\"backgroundcolor\":\"#E5ECF6\",\"gridcolor\":\"white\",\"gridwidth\":2,\"linecolor\":\"white\",\"showbackground\":true,\"ticks\":\"\",\"zerolinecolor\":\"white\"}},\"shapedefaults\":{\"line\":{\"color\":\"#2a3f5f\"}},\"ternary\":{\"aaxis\":{\"gridcolor\":\"white\",\"linecolor\":\"white\",\"ticks\":\"\"},\"baxis\":{\"gridcolor\":\"white\",\"linecolor\":\"white\",\"ticks\":\"\"},\"bgcolor\":\"#E5ECF6\",\"caxis\":{\"gridcolor\":\"white\",\"linecolor\":\"white\",\"ticks\":\"\"}},\"title\":{\"x\":0.05},\"xaxis\":{\"automargin\":true,\"gridcolor\":\"white\",\"linecolor\":\"white\",\"ticks\":\"\",\"title\":{\"standoff\":15},\"zerolinecolor\":\"white\",\"zerolinewidth\":2},\"yaxis\":{\"automargin\":true,\"gridcolor\":\"white\",\"linecolor\":\"white\",\"ticks\":\"\",\"title\":{\"standoff\":15},\"zerolinecolor\":\"white\",\"zerolinewidth\":2}}}},                        {\"responsive\": true}                    ).then(function(){\n",
       "                            \n",
       "var gd = document.getElementById('6c8c455b-c278-4795-be03-b72c37ff65cb');\n",
       "var x = new MutationObserver(function (mutations, observer) {{\n",
       "        var display = window.getComputedStyle(gd).display;\n",
       "        if (!display || display === 'none') {{\n",
       "            console.log([gd, 'removed!']);\n",
       "            Plotly.purge(gd);\n",
       "            observer.disconnect();\n",
       "        }}\n",
       "}});\n",
       "\n",
       "// Listen for the removal of the full notebook cells\n",
       "var notebookContainer = gd.closest('#notebook-container');\n",
       "if (notebookContainer) {{\n",
       "    x.observe(notebookContainer, {childList: true});\n",
       "}}\n",
       "\n",
       "// Listen for the clearing of the current output cell\n",
       "var outputEl = gd.closest('.output');\n",
       "if (outputEl) {{\n",
       "    x.observe(outputEl, {childList: true});\n",
       "}}\n",
       "\n",
       "                        })                };                });            </script>        </div>"
      ]
     },
     "metadata": {},
     "output_type": "display_data"
    }
   ],
   "source": [
    "# visualising the importance of hyperparamters \n",
    "optuna.visualization.plot_param_importances(study)"
   ]
  },
  {
   "cell_type": "markdown",
   "id": "7c98f329",
   "metadata": {},
   "source": [
    "It is observed that parameter 'learning_rate' has the most impact on the model"
   ]
  },
  {
   "cell_type": "markdown",
   "id": "3de9bbb3",
   "metadata": {},
   "source": [
    " ## 2.1 Robustness of Hyperparameter\n",
    " This section attempts to validate if the best hyperparameter is robust,"
   ]
  },
  {
   "cell_type": "markdown",
   "id": "fc1a8c46",
   "metadata": {},
   "source": [
    "First we check the performance of each fold for the best model"
   ]
  },
  {
   "cell_type": "code",
   "execution_count": 25,
   "id": "0da4e42f",
   "metadata": {},
   "outputs": [
    {
     "name": "stdout",
     "output_type": "stream",
     "text": [
      "Fold 0 RMSE: 2423.168514502875\n",
      "Fold 1 RMSE: 2341.2581724256584\n",
      "Fold 2 RMSE: 2423.8641326931556\n",
      "Fold 3 RMSE: 2395.779481629595\n",
      "Fold 4 RMSE: 2354.8701092217775\n",
      "--------------------------------------------------\n",
      "Mean: 2387.7880820946125\n",
      "Std.: 34.25126077261895\n",
      "Max.: 2423.8641326931556\n",
      "Min.: 2341.2581724256584\n"
     ]
    }
   ],
   "source": [
    "cv_scores = - cross_val_score(best_model, X, Y,\n",
    "                              cv = cv, scoring = 'neg_root_mean_squared_error')\n",
    "for i in range(cv_scores.shape[0]):\n",
    "    print(\"Fold {} RMSE: {}\".format(i, cv_scores[i]))\n",
    "print(\"-\"*50)\n",
    "print(\"Mean: {}\".format(np.mean(cv_scores)))\n",
    "print(\"Std.: {}\".format(np.std(cv_scores)))\n",
    "print(\"Max.: {}\".format(np.max(cv_scores)))\n",
    "print(\"Min.: {}\".format(np.min(cv_scores)))"
   ]
  },
  {
   "cell_type": "markdown",
   "id": "300d1a7b",
   "metadata": {},
   "source": [
    "From the results above, while some folds has higher RMSE values and some folds has lower RMSE values, the discrepancy isn't that large and we could consider the hyperparameters to be pretty solid"
   ]
  },
  {
   "cell_type": "markdown",
   "id": "8d7bae3b",
   "metadata": {},
   "source": [
    "---"
   ]
  },
  {
   "cell_type": "markdown",
   "id": "c71c22b8",
   "metadata": {},
   "source": [
    "# 3. Training\n",
    "Now that we have the best parameters for our model we can train our model with the parameters and validate it"
   ]
  },
  {
   "cell_type": "code",
   "execution_count": 39,
   "id": "974a4152",
   "metadata": {},
   "outputs": [
    {
     "name": "stdout",
     "output_type": "stream",
     "text": [
      "['EngineSize', 'GrossCombinationMAss', 'WheelBase', 'Height', 'Width', 'Power', 'PowerRPMTo', 'Torque', 'TorqueRPMTo', 'RonRating', 'Acceleration', 'GreenhouseRating', 'AirpollutionRating', 'AncapRating', 'NewPrice', 'Age_Comp_Months', 'KM', 'grouped.EngineSize.sum', 'grouped.EngineSize.mean', 'grouped.EngineSize.std', 'grouped.EngineSize.amin', 'grouped.EngineSize.amax', 'grouped.GrossCombinationMAss.sum', 'grouped.GrossCombinationMAss.mean', 'grouped.GrossCombinationMAss.std', 'grouped.GrossCombinationMAss.amin', 'grouped.GrossCombinationMAss.amax', 'grouped.WheelBase.sum', 'grouped.WheelBase.mean', 'grouped.WheelBase.std', 'grouped.WheelBase.amin', 'grouped.WheelBase.amax', 'grouped.Height.sum', 'grouped.Height.mean', 'grouped.Height.std', 'grouped.Height.amin', 'grouped.Height.amax', 'grouped.Width.sum', 'grouped.Width.mean', 'grouped.Width.std', 'grouped.Width.amin', 'grouped.Width.amax', 'grouped.Power.sum', 'grouped.Power.mean', 'grouped.Power.std', 'grouped.Power.amin', 'grouped.Power.amax', 'grouped.PowerRPMTo.sum', 'grouped.PowerRPMTo.mean', 'grouped.PowerRPMTo.std', 'grouped.PowerRPMTo.amin', 'grouped.PowerRPMTo.amax', 'grouped.Torque.sum', 'grouped.Torque.mean', 'grouped.Torque.std', 'grouped.Torque.amin', 'grouped.Torque.amax', 'grouped.TorqueRPMTo.sum', 'grouped.TorqueRPMTo.mean', 'grouped.TorqueRPMTo.std', 'grouped.TorqueRPMTo.amin', 'grouped.TorqueRPMTo.amax', 'grouped.RonRating.sum', 'grouped.RonRating.mean', 'grouped.RonRating.std', 'grouped.RonRating.amin', 'grouped.RonRating.amax', 'grouped.Acceleration.sum', 'grouped.Acceleration.mean', 'grouped.Acceleration.std', 'grouped.Acceleration.amin', 'grouped.Acceleration.amax', 'grouped.GreenhouseRating.sum', 'grouped.GreenhouseRating.mean', 'grouped.GreenhouseRating.std', 'grouped.GreenhouseRating.amin', 'grouped.GreenhouseRating.amax', 'grouped.AirpollutionRating.sum', 'grouped.AirpollutionRating.mean', 'grouped.AirpollutionRating.std', 'grouped.AirpollutionRating.amin', 'grouped.AirpollutionRating.amax', 'grouped.AncapRating.sum', 'grouped.AncapRating.mean', 'grouped.AncapRating.std', 'grouped.AncapRating.amin', 'grouped.AncapRating.amax', 'grouped.NewPrice.sum', 'grouped.NewPrice.mean', 'grouped.NewPrice.std', 'grouped.NewPrice.amin', 'grouped.NewPrice.amax', 'grouped.Age_Comp_Months.sum', 'grouped.Age_Comp_Months.mean', 'grouped.Age_Comp_Months.std', 'grouped.Age_Comp_Months.amin', 'grouped.Age_Comp_Months.amax', 'grouped.KM.sum', 'grouped.KM.mean', 'grouped.KM.std', 'grouped.KM.amin', 'grouped.KM.amax']\n"
     ]
    }
   ],
   "source": [
    "numerical_columns = X.dtypes[X.dtypes != 'category'].index.to_list()\n",
    "print(numerical_columns)"
   ]
  },
  {
   "cell_type": "code",
   "execution_count": 54,
   "id": "b82d50b8",
   "metadata": {},
   "outputs": [
    {
     "name": "stdout",
     "output_type": "stream",
     "text": [
      "Training until validation scores don't improve for 400 rounds\n",
      "[100]\ttraining's rmse: 3073.47\tvalid_1's rmse: 3353.25\n",
      "[200]\ttraining's rmse: 2881.48\tvalid_1's rmse: 3203.78\n",
      "[300]\ttraining's rmse: 2800.89\tvalid_1's rmse: 3159.95\n",
      "[400]\ttraining's rmse: 2742.63\tvalid_1's rmse: 3133.09\n",
      "[500]\ttraining's rmse: 2694.59\tvalid_1's rmse: 3113.68\n",
      "[600]\ttraining's rmse: 2655.84\tvalid_1's rmse: 3100.99\n",
      "[700]\ttraining's rmse: 2620.39\tvalid_1's rmse: 3092.2\n",
      "[800]\ttraining's rmse: 2585.92\tvalid_1's rmse: 3083.09\n",
      "[900]\ttraining's rmse: 2553.99\tvalid_1's rmse: 3078.22\n",
      "[1000]\ttraining's rmse: 2527.51\tvalid_1's rmse: 3073.03\n",
      "[1100]\ttraining's rmse: 2497.45\tvalid_1's rmse: 3072.39\n",
      "[1200]\ttraining's rmse: 2473.22\tvalid_1's rmse: 3070.36\n",
      "[1300]\ttraining's rmse: 2452.08\tvalid_1's rmse: 3068.65\n",
      "[1400]\ttraining's rmse: 2431\tvalid_1's rmse: 3067.69\n",
      "[1500]\ttraining's rmse: 2410.97\tvalid_1's rmse: 3068.54\n",
      "[1600]\ttraining's rmse: 2389.53\tvalid_1's rmse: 3068.35\n",
      "[1700]\ttraining's rmse: 2371.11\tvalid_1's rmse: 3067.79\n",
      "[1800]\ttraining's rmse: 2349.62\tvalid_1's rmse: 3069.39\n",
      "Early stopping, best iteration is:\n",
      "[1411]\ttraining's rmse: 2427.84\tvalid_1's rmse: 3067.31\n"
     ]
    }
   ],
   "source": [
    "from sklearn.compose import ColumnTransformer\n",
    "trans = QuantileTransformer(n_quantiles=100, output_distribution='normal')\n",
    "scaler_x = ColumnTransformer([(\"num_x\", trans, numerical_columns)])\n",
    "# 80% training data set and 20% hold out samples\n",
    "x_train, x_test, y_train, y_test = train_test_split(X, Y, test_size = 0.2)\n",
    "# fit numerical column into scaler function\n",
    "x_train = scaler_x.fit_transform(x_train)\n",
    "x_test = scaler_x.fit_transform(x_test)\n",
    "\n",
    "# load param from best trial\n",
    "best_params = { \n",
    "    \"objective\": 'regression',\n",
    "    \"metric\": \"rmse\",\n",
    "    \"verbosity\": -1, \n",
    "    'n_estimators': 10000,\n",
    "    'learning_rate': 0.037596223750980796,\n",
    "    'num_leaves': 1760,\n",
    "    'max_depth': 6,\n",
    "    }\n",
    "lgb_train = lgb.Dataset(x_train, label = y_train)\n",
    "lgb_test = lgb.Dataset(x_test, label = y_test)\n",
    "model = lgb.train(best_params, lgb_train, 5000, \n",
    "                  valid_sets = [lgb_train, lgb_test],\n",
    "                 verbose_eval = 100, early_stopping_rounds = 400)\n",
    "# save best model\n",
    "with open(\"model_weights/best_model.pickle\".format(trial.number), \"wb\") as fout:\n",
    "    pickle.dump(model, fout)"
   ]
  },
  {
   "cell_type": "markdown",
   "id": "de319a20",
   "metadata": {},
   "source": [
    "It is observed that there is minor overfitting occurs with higher testing error than training error. There is a need to rethink strategy to counter overfitting."
   ]
  },
  {
   "cell_type": "markdown",
   "id": "f915d69b",
   "metadata": {},
   "source": [
    "---"
   ]
  },
  {
   "cell_type": "markdown",
   "id": "8b008d03",
   "metadata": {},
   "source": [
    "# 4. Evaluation"
   ]
  },
  {
   "cell_type": "markdown",
   "id": "2323b247",
   "metadata": {},
   "source": [
    "Visualize the important feature and residual analysis of the predictive model"
   ]
  },
  {
   "cell_type": "markdown",
   "id": "27c731cb",
   "metadata": {},
   "source": [
    "## 4.1 Feature Importance"
   ]
  },
  {
   "cell_type": "code",
   "execution_count": 58,
   "id": "ac74ed18",
   "metadata": {},
   "outputs": [
    {
     "data": {
      "image/png": "[encoded data removed]",
      "text/plain": [
       "<Figure size 1440x720 with 1 Axes>"
      ]
     },
     "metadata": {},
     "output_type": "display_data"
    }
   ],
   "source": [
    "# retrive the importance for 'split'\n",
    "feature_imp = model.feature_importance(importance_type = 'split')\n",
    "# choose top 20 importance features\n",
    "imp_df = pd.DataFrame(sorted(zip(feature_imp, X.columns), reverse = True)[:30], \n",
    "                      columns = ['Value', 'Features'])\n",
    "plt.figure(figsize = (20, 10))\n",
    "sns.set(font_scale = 1.5)\n",
    "sns.barplot(x=\"Value\", y=\"Features\", data = imp_df)\n",
    "plt.title('Split Features')\n",
    "plt.show()"
   ]
  },
  {
   "cell_type": "code",
   "execution_count": 57,
   "id": "9f8680a1",
   "metadata": {},
   "outputs": [
    {
     "data": {
      "image/png": "[encoded data removed]",
      "text/plain": [
       "<Figure size 1440x720 with 1 Axes>"
      ]
     },
     "metadata": {},
     "output_type": "display_data"
    }
   ],
   "source": [
    "# retrive the importance for 'gain'\n",
    "feature_imp = model.feature_importance(importance_type = 'gain')\n",
    "# choose top 20 importance features\n",
    "imp_df = pd.DataFrame(sorted(zip(feature_imp, X.columns), reverse = True)[:30], \n",
    "                      columns = ['Value', 'Features'])\n",
    "plt.figure(figsize = (20, 10))\n",
    "sns.set(font_scale = 1.5)\n",
    "sns.barplot(x=\"Value\", y=\"Features\", data = imp_df)\n",
    "plt.title('Gain Features')\n",
    "plt.show()"
   ]
  },
  {
   "cell_type": "markdown",
   "id": "9b082dcb",
   "metadata": {},
   "source": [
    "In both feature importance, 'GearNum', 'DoorNum', 'MonthGroup', 'Model' are the top 4 most important features."
   ]
  },
  {
   "cell_type": "markdown",
   "id": "99813d2d",
   "metadata": {},
   "source": [
    "## 4.2 Residual Analyses\n",
    "In this section, we attempt to analyse the error between the predicted value and the target value with MSE, RMSE and MAE. MAPE was not used for error analysis due to the nature of the original target values that has quite a number of 0 values which will yield very high MAPE errors due to the division of true target value in the denominator."
   ]
  },
  {
   "cell_type": "code",
   "execution_count": 71,
   "id": "0fbbe589",
   "metadata": {},
   "outputs": [
    {
     "name": "stdout",
     "output_type": "stream",
     "text": [
      "Errors in Actual Scale: \n",
      "  Metrics         Value\n",
      "0     mse  9.408410e+06\n",
      "1    rmse  3.067313e+03\n",
      "2     mae  1.854018e+03\n"
     ]
    }
   ],
   "source": [
    "# revert back log(y+1) => exp(y)-1\n",
    "Y_hat = model.predict(x_test)\n",
    "Y_ = y_test\n",
    "# MSE measures the variance of the residuals, sensitive to outliers \n",
    "mse = mean_squared_error(Y_, Y_hat)\n",
    "# RMSE measures the standard deviation of the residuals, sensitive to outliers\n",
    "rmse = mean_squared_error(Y_, Y_hat, squared = False)\n",
    "# MAE measures the median of the residuals, more robust to outliers\n",
    "mae = mean_absolute_error(Y_, Y_hat)\n",
    "metrics = ['mse', 'rmse', 'mae']\n",
    "metrics_val = [mse, rmse, mae]\n",
    "residual_df = pd.DataFrame(zip(metrics, metrics_val), columns=['Metrics', 'Value'])\n",
    "print(\"Errors in Actual Scale: \")\n",
    "print(residual_df)"
   ]
  },
  {
   "cell_type": "code",
   "execution_count": 79,
   "id": "850150f2",
   "metadata": {},
   "outputs": [
    {
     "name": "stdout",
     "output_type": "stream",
     "text": [
      "Statistical properties of Predicted Data:\n",
      "count    12309.000000\n",
      "mean     16300.066887\n",
      "std       8652.396270\n",
      "min          0.000000\n",
      "25%      10670.000000\n",
      "50%      15200.000000\n",
      "75%      20600.000000\n",
      "max      53250.000000\n",
      "Name: Sold_Amount, dtype: float64\n",
      "--------------------------------------------------------------------------------\n",
      "Number of zeros:  164\n"
     ]
    }
   ],
   "source": [
    "# statistical properties of the actual test data\n",
    "print('Statistical properties of Predicted Data:')\n",
    "print(Y_.describe())\n",
    "print('-'*80)\n",
    "print('Number of zeros: ', np.where(Y_.to_numpy()==0)[0].shape[0])"
   ]
  },
  {
   "cell_type": "code",
   "execution_count": 80,
   "id": "6d9bb7f1",
   "metadata": {},
   "outputs": [
    {
     "name": "stdout",
     "output_type": "stream",
     "text": [
      "Statistical properties of Predicted Data:\n",
      "count    12309.000000\n",
      "mean     16219.469806\n",
      "std       8098.968566\n",
      "min       -645.398153\n",
      "25%      10825.952370\n",
      "50%      15072.796616\n",
      "75%      20335.299188\n",
      "max      55162.309183\n",
      "dtype: float64\n",
      "--------------------------------------------------------------------------------\n",
      "Number of zeros:  0\n",
      "Number of negatives:  2\n"
     ]
    }
   ],
   "source": [
    "# statistical properties of the predicted test data\n",
    "print('Statistical properties of Predicted Data:')\n",
    "Y_hat_df = pd.Series(Y_hat)\n",
    "print(Y_hat_df.describe())\n",
    "print('-'*80)\n",
    "print('Number of zeros: ', np.where(Y_hat==0)[0].shape[0])\n",
    "print('Number of negatives: ', np.where(Y_hat<0)[0].shape[0])"
   ]
  },
  {
   "cell_type": "markdown",
   "id": "f2794ba8",
   "metadata": {},
   "source": [
    "As observed from our residual analyses, the predictive model has relatively high RMSE, MSE and MAE values. With high RMSE and MSE, this indicates outliers (see plot below). MAE of value ~1854 indicates that on average the prediced price is overestimated or underestimated by $1854.  \n",
    "By comparing the statistical properties of the predicted data and actual data, we can observed that there are 2 negative values in the predicted price. Considerating that there is no zeros in the predicted data and 164 zeros in the actual data, this might be source of the contribution of high errors.   "
   ]
  },
  {
   "cell_type": "code",
   "execution_count": 60,
   "id": "b170f78f",
   "metadata": {},
   "outputs": [
    {
     "data": {
      "text/plain": [
       "<seaborn.axisgrid.JointGrid at 0x7f3760494f60>"
      ]
     },
     "execution_count": 60,
     "metadata": {},
     "output_type": "execute_result"
    },
    {
     "data": {
      "image/png": "[encoded data removed]",
      "text/plain": [
       "<Figure size 432x432 with 3 Axes>"
      ]
     },
     "metadata": {},
     "output_type": "display_data"
    }
   ],
   "source": [
    "joint_df = pd.DataFrame(zip(Y_, Y_hat), columns=['Actual', 'Predicted'])\n",
    "sns.jointplot(data=joint_df, x='Actual', y='Predicted', kind='reg')"
   ]
  },
  {
   "cell_type": "markdown",
   "id": "2fd07979",
   "metadata": {},
   "source": [
    "---"
   ]
  },
  {
   "cell_type": "markdown",
   "id": "f355144f",
   "metadata": {},
   "source": [
    "# 5. Summary "
   ]
  },
  {
   "cell_type": "markdown",
   "id": "04fca1f0",
   "metadata": {},
   "source": [
    "In a nutshell, this work presented the workflow for data preparation, model training and evaluation for vehicle sale prices. In the first part of the notebook, data understanding and data preprocessing was implemented to prepare the data set for model training. In the second part of the notebook, lightGBM was adopted to solve regression task. To boost the model performance, hyperparameter tuning was applied on 5 fold cross validation. The robustness of the fine tuned parameters was validated before training the model. In the evaluation section, residual analyses was validated with metrics such as MSE, RMSE and MAE. At the end of the experiment, the follow metric scores were achieved.  \n",
    "-     MSE:  9.408410e+06\n",
    "-    RMSE:  3.067313e+03\n",
    "-     MAE:  1.854018e+03  \n",
    "Improvements that could be done will be discussed in the next section."
   ]
  },
  {
   "cell_type": "markdown",
   "id": "4a08a9ea",
   "metadata": {},
   "source": [
    "---"
   ]
  },
  {
   "cell_type": "markdown",
   "id": "6769f030",
   "metadata": {},
   "source": [
    "# 6. Future Work"
   ]
  },
  {
   "cell_type": "markdown",
   "id": "8e0115dc",
   "metadata": {},
   "source": [
    "- Quantile transformation was part of the preproceesing pipeline but not used during parameter tuning because the data set consisted of mixed numerical and category data type. There is a need to write better pipeline to take quantile transformation into consideration.\n",
    "- Setting up baseline models, such as decision tree or random forest to compare the robustness of applied model.\n",
    "- Using ensemble learning techniques (stacking) to improve predictions.\n",
    "- using meta-labeling methods with K-NN for feature engineering.\n",
    "- Define higher number of trials for hyperparameter tuning.\n",
    "- Manage experiments with MLFlow. "
   ]
  }
 ],
 "metadata": {
  "kernelspec": {
   "display_name": "Python 3",
   "language": "python",
   "name": "python3"
  },
  "language_info": {
   "codemirror_mode": {
    "name": "ipython",
    "version": 3
   },
   "file_extension": ".py",
   "mimetype": "text/x-python",
   "name": "python",
   "nbconvert_exporter": "python",
   "pygments_lexer": "ipython3",
   "version": "3.6.9"
  }
 },
 "nbformat": 4,
 "nbformat_minor": 5
}
