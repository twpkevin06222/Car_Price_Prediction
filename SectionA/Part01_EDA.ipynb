{
 "cells": [
  {
   "cell_type": "code",
   "execution_count": 1,
   "id": "5c93d087",
   "metadata": {},
   "outputs": [],
   "source": [
    "import numpy as np \n",
    "import pandas as pd\n",
    "import matplotlib.pyplot as plt \n",
    "import seaborn as sns\n",
    "import utils\n",
    "from scipy.stats import skew\n",
    "import math\n",
    "import re\n",
    "from collections import deque"
   ]
  },
  {
   "cell_type": "markdown",
   "id": "84095f7f",
   "metadata": {},
   "source": [
    "This notebook attempts to provide an overview about insights on data understanding of the provided dataset.\n",
    "This includes checking anomalies of the dataset, spotting errors and potential concerns of the data.\n",
    "* Objective: Predict vehicle sale prices (Sold_Amount)\n",
    "* Constraints (not applicable): AvgWholesale, AvgRetail, GoodWholesale, GoodRetail, TradeMin, TradeMax, PrivateMax"
   ]
  },
  {
   "cell_type": "markdown",
   "id": "df89e8bf",
   "metadata": {},
   "source": [
    "---"
   ]
  },
  {
   "cell_type": "markdown",
   "id": "674a57cf",
   "metadata": {},
   "source": [
    "# Content:\n",
    "1. Data Entry\n",
    "2. Data preprocessing\n",
    "    - 2.1 Evaluating Target Variables\n",
    "    - 2.2 Removing Field of Constraints\n",
    "    - 2.3 Handling NULL Values\n",
    "    - 2.4 Handling Potential Similar Columns\n",
    "    - 2.5 Removing Special Characters\n",
    "    - 2.6 Correlation Analysis\n",
    "    - 2.7 Imputation\n",
    "        - 2.7.1 Binning Data\n",
    "        - 2.7.2 Numerical Data\n",
    "        - 2.7.3 Categorical Data\n",
    "    - 2.8 Feature Selection\n",
    "3. Finishing Touch"
   ]
  },
  {
   "cell_type": "markdown",
   "id": "08a9396d",
   "metadata": {},
   "source": [
    "\n"
   ]
  },
  {
   "cell_type": "markdown",
   "id": "2658a85b",
   "metadata": {
    "pycharm": {
     "name": "#%% md\n"
    }
   },
   "source": [
    "---"
   ]
  },
  {
   "cell_type": "markdown",
   "id": "b1aed9ae",
   "metadata": {},
   "source": [
    "# 1. Data Entry"
   ]
  },
  {
   "cell_type": "code",
   "execution_count": 2,
   "id": "137c9375",
   "metadata": {},
   "outputs": [
    {
     "name": "stderr",
     "output_type": "stream",
     "text": [
      "/home/kevinteng/envs/tfenv/lib/python3.6/site-packages/IPython/core/interactiveshell.py:3263: DtypeWarning: Columns (27,91) have mixed types.Specify dtype option on import or set low_memory=False.\n",
      "  if (await self.run_code(code, result,  async_=asy)):\n"
     ]
    }
   ],
   "source": [
    "# load the data set\n",
    "ds = pd.read_table('/home/kevinteng/Desktop/DatiumSample.rpt')"
   ]
  },
  {
   "cell_type": "code",
   "execution_count": 3,
   "id": "9549084e",
   "metadata": {},
   "outputs": [
    {
     "data": {
      "text/html": [
       "<div>\n",
       "<style scoped>\n",
       "    .dataframe tbody tr th:only-of-type {\n",
       "        vertical-align: middle;\n",
       "    }\n",
       "\n",
       "    .dataframe tbody tr th {\n",
       "        vertical-align: top;\n",
       "    }\n",
       "\n",
       "    .dataframe thead th {\n",
       "        text-align: right;\n",
       "    }\n",
       "</style>\n",
       "<table border=\"1\" class=\"dataframe\">\n",
       "  <thead>\n",
       "    <tr style=\"text-align: right;\">\n",
       "      <th></th>\n",
       "      <th>Make</th>\n",
       "      <th>Model</th>\n",
       "      <th>MakeCode</th>\n",
       "      <th>FamilyCode</th>\n",
       "      <th>YearGroup</th>\n",
       "      <th>MonthGroup</th>\n",
       "      <th>SequenceNum</th>\n",
       "      <th>Description</th>\n",
       "      <th>CurrentRelease</th>\n",
       "      <th>ImportFlag</th>\n",
       "      <th>...</th>\n",
       "      <th>PrivateMax</th>\n",
       "      <th>NewPrice</th>\n",
       "      <th>Colour</th>\n",
       "      <th>Branch</th>\n",
       "      <th>SaleCategory</th>\n",
       "      <th>Sold_Date</th>\n",
       "      <th>Compliance_Date</th>\n",
       "      <th>Age_Comp_Months</th>\n",
       "      <th>KM</th>\n",
       "      <th>Sold_Amount</th>\n",
       "    </tr>\n",
       "  </thead>\n",
       "  <tbody>\n",
       "    <tr>\n",
       "      <th>0</th>\n",
       "      <td>Holden</td>\n",
       "      <td>Commodore</td>\n",
       "      <td>HOLD</td>\n",
       "      <td>COMMODO</td>\n",
       "      <td>2008</td>\n",
       "      <td>0</td>\n",
       "      <td>0</td>\n",
       "      <td>VE Omega Sedan 4dr. Auto 4sp 3.6i</td>\n",
       "      <td>F</td>\n",
       "      <td>L</td>\n",
       "      <td>...</td>\n",
       "      <td>5500.0</td>\n",
       "      <td>34790.0</td>\n",
       "      <td>White</td>\n",
       "      <td>Perth (WA)</td>\n",
       "      <td>Auction</td>\n",
       "      <td>2015-11-03 00:00:00.000</td>\n",
       "      <td>02/2008</td>\n",
       "      <td>93.0</td>\n",
       "      <td>227878.0</td>\n",
       "      <td>2000.0</td>\n",
       "    </tr>\n",
       "    <tr>\n",
       "      <th>1</th>\n",
       "      <td>Holden</td>\n",
       "      <td>Commodore</td>\n",
       "      <td>HOLD</td>\n",
       "      <td>COMMODO</td>\n",
       "      <td>1993</td>\n",
       "      <td>7</td>\n",
       "      <td>41</td>\n",
       "      <td>VR Executive Wagon 5dr. Auto 4sp 3.8i</td>\n",
       "      <td>F</td>\n",
       "      <td>L</td>\n",
       "      <td>...</td>\n",
       "      <td>2000.0</td>\n",
       "      <td>27978.0</td>\n",
       "      <td>Red</td>\n",
       "      <td>Belmore (NSW)</td>\n",
       "      <td>Auction</td>\n",
       "      <td>2000-10-18 00:00:00.000</td>\n",
       "      <td>08/1993</td>\n",
       "      <td>86.0</td>\n",
       "      <td>153091.0</td>\n",
       "      <td>6800.0</td>\n",
       "    </tr>\n",
       "    <tr>\n",
       "      <th>2</th>\n",
       "      <td>Toyota</td>\n",
       "      <td>RAV4</td>\n",
       "      <td>TOYO</td>\n",
       "      <td>RAV4</td>\n",
       "      <td>2012</td>\n",
       "      <td>0</td>\n",
       "      <td>6</td>\n",
       "      <td>ACA33R MY12 CV Wagon 5dr Man 5sp 4x4 2.4i</td>\n",
       "      <td>F</td>\n",
       "      <td>L</td>\n",
       "      <td>...</td>\n",
       "      <td>15800.0</td>\n",
       "      <td>31990.0</td>\n",
       "      <td>040 - Glacier White (T)</td>\n",
       "      <td>Sunshine (VIC)</td>\n",
       "      <td>Dealer Only Auction</td>\n",
       "      <td>2014-02-05 00:00:00.000</td>\n",
       "      <td>10/2012</td>\n",
       "      <td>16.0</td>\n",
       "      <td>27374.0</td>\n",
       "      <td>22900.0</td>\n",
       "    </tr>\n",
       "    <tr>\n",
       "      <th>3</th>\n",
       "      <td>Holden</td>\n",
       "      <td>Commodore</td>\n",
       "      <td>HOLD</td>\n",
       "      <td>COMMODO</td>\n",
       "      <td>2007</td>\n",
       "      <td>0</td>\n",
       "      <td>11</td>\n",
       "      <td>VZ@VE MY07 Executive Wagon 5dr. Auto 4sp 3.6i</td>\n",
       "      <td>F</td>\n",
       "      <td>L</td>\n",
       "      <td>...</td>\n",
       "      <td>4800.0</td>\n",
       "      <td>35990.0</td>\n",
       "      <td>Quicksilver</td>\n",
       "      <td>Belmore (NSW)</td>\n",
       "      <td>Auction</td>\n",
       "      <td>2011-01-10 00:00:00.000</td>\n",
       "      <td>01/2007</td>\n",
       "      <td>48.0</td>\n",
       "      <td>99452.0</td>\n",
       "      <td>10500.0</td>\n",
       "    </tr>\n",
       "    <tr>\n",
       "      <th>4</th>\n",
       "      <td>Toyota</td>\n",
       "      <td>Tarago</td>\n",
       "      <td>TOYO</td>\n",
       "      <td>TARAGO</td>\n",
       "      <td>2007</td>\n",
       "      <td>0</td>\n",
       "      <td>0</td>\n",
       "      <td>ACR50R GLi Wagon 8st 5dr Spts Auto 4sp 2.4i</td>\n",
       "      <td>F</td>\n",
       "      <td>L</td>\n",
       "      <td>...</td>\n",
       "      <td>12400.0</td>\n",
       "      <td>49490.0</td>\n",
       "      <td>Silver</td>\n",
       "      <td>Hobart (TAS)</td>\n",
       "      <td>Special Fixed Price</td>\n",
       "      <td>2009-05-23 00:00:00.000</td>\n",
       "      <td>01/2007</td>\n",
       "      <td>28.0</td>\n",
       "      <td>44355.0</td>\n",
       "      <td>31320.0</td>\n",
       "    </tr>\n",
       "  </tbody>\n",
       "</table>\n",
       "<p>5 rows × 130 columns</p>\n",
       "</div>"
      ],
      "text/plain": [
       "     Make      Model MakeCode FamilyCode  YearGroup  MonthGroup  SequenceNum  \\\n",
       "0  Holden  Commodore     HOLD    COMMODO       2008           0            0   \n",
       "1  Holden  Commodore     HOLD    COMMODO       1993           7           41   \n",
       "2  Toyota       RAV4     TOYO       RAV4       2012           0            6   \n",
       "3  Holden  Commodore     HOLD    COMMODO       2007           0           11   \n",
       "4  Toyota     Tarago     TOYO     TARAGO       2007           0            0   \n",
       "\n",
       "                                     Description CurrentRelease ImportFlag  \\\n",
       "0              VE Omega Sedan 4dr. Auto 4sp 3.6i              F          L   \n",
       "1          VR Executive Wagon 5dr. Auto 4sp 3.8i              F          L   \n",
       "2      ACA33R MY12 CV Wagon 5dr Man 5sp 4x4 2.4i              F          L   \n",
       "3  VZ@VE MY07 Executive Wagon 5dr. Auto 4sp 3.6i              F          L   \n",
       "4    ACR50R GLi Wagon 8st 5dr Spts Auto 4sp 2.4i              F          L   \n",
       "\n",
       "   ... PrivateMax NewPrice                   Colour          Branch  \\\n",
       "0  ...     5500.0  34790.0                    White      Perth (WA)   \n",
       "1  ...     2000.0  27978.0                      Red   Belmore (NSW)   \n",
       "2  ...    15800.0  31990.0  040 - Glacier White (T)  Sunshine (VIC)   \n",
       "3  ...     4800.0  35990.0              Quicksilver   Belmore (NSW)   \n",
       "4  ...    12400.0  49490.0                   Silver    Hobart (TAS)   \n",
       "\n",
       "          SaleCategory                Sold_Date Compliance_Date  \\\n",
       "0              Auction  2015-11-03 00:00:00.000         02/2008   \n",
       "1              Auction  2000-10-18 00:00:00.000         08/1993   \n",
       "2  Dealer Only Auction  2014-02-05 00:00:00.000         10/2012   \n",
       "3              Auction  2011-01-10 00:00:00.000         01/2007   \n",
       "4  Special Fixed Price  2009-05-23 00:00:00.000         01/2007   \n",
       "\n",
       "  Age_Comp_Months        KM Sold_Amount  \n",
       "0            93.0  227878.0      2000.0  \n",
       "1            86.0  153091.0      6800.0  \n",
       "2            16.0   27374.0     22900.0  \n",
       "3            48.0   99452.0     10500.0  \n",
       "4            28.0   44355.0     31320.0  \n",
       "\n",
       "[5 rows x 130 columns]"
      ]
     },
     "execution_count": 3,
     "metadata": {},
     "output_type": "execute_result"
    }
   ],
   "source": [
    "ds.head()"
   ]
  },
  {
   "cell_type": "markdown",
   "id": "dd6e6ad4",
   "metadata": {},
   "source": [
    "Check the number of rows and columns "
   ]
  },
  {
   "cell_type": "code",
   "execution_count": 4,
   "id": "8e74fa41",
   "metadata": {
    "scrolled": true
   },
   "outputs": [
    {
     "name": "stdout",
     "output_type": "stream",
     "text": [
      "There are 62192 rows.\n",
      "There are 130 columns.\n"
     ]
    }
   ],
   "source": [
    "rows, cols = ds.shape\n",
    "print(\"There are {} rows.\".format(rows))\n",
    "print(\"There are {} columns.\".format(cols))"
   ]
  },
  {
   "cell_type": "code",
   "execution_count": 5,
   "id": "1b9c85cc",
   "metadata": {},
   "outputs": [
    {
     "name": "stdout",
     "output_type": "stream",
     "text": [
      "<class 'pandas.core.frame.DataFrame'>\n",
      "RangeIndex: 62192 entries, 0 to 62191\n",
      "Data columns (total 130 columns):\n",
      " #   Column                          Dtype  \n",
      "---  ------                          -----  \n",
      " 0   Make                            object \n",
      " 1   Model                           object \n",
      " 2   MakeCode                        object \n",
      " 3   FamilyCode                      object \n",
      " 4   YearGroup                       int64  \n",
      " 5   MonthGroup                      int64  \n",
      " 6   SequenceNum                     int64  \n",
      " 7   Description                     object \n",
      " 8   CurrentRelease                  object \n",
      " 9   ImportFlag                      object \n",
      " 10  LimitedEdition                  object \n",
      " 11  Series                          object \n",
      " 12  SeriesModelYear                 object \n",
      " 13  BadgeDescription                object \n",
      " 14  BadgeSecondaryDescription       object \n",
      " 15  BodyStyleDescription            object \n",
      " 16  BodyConfigDescription           object \n",
      " 17  WheelBaseConfig                 object \n",
      " 18  Roofline                        object \n",
      " 19  ExtraIdentification             object \n",
      " 20  DriveDescription                object \n",
      " 21  DriveCode                       object \n",
      " 22  GearTypeDescription             object \n",
      " 23  GearLocationDescription         object \n",
      " 24  GearNum                         float64\n",
      " 25  DoorNum                         int64  \n",
      " 26  EngineSize                      int64  \n",
      " 27  EngineDescription               object \n",
      " 28  Cylinders                       int64  \n",
      " 29  FuelTypeDescription             object \n",
      " 30  InductionDescription            object \n",
      " 31  OptionCategory                  object \n",
      " 32  CamDescription                  object \n",
      " 33  EngineTypeDescription           object \n",
      " 34  FuelCapacity                    float64\n",
      " 35  FuelDeliveryDescription         object \n",
      " 36  MethodOfDeliveryDescription     object \n",
      " 37  GrossCombinationMAss            float64\n",
      " 38  GrossVehicleMass                float64\n",
      " 39  VIN                             object \n",
      " 40  WheelBase                       float64\n",
      " 41  Height                          float64\n",
      " 42  Length                          float64\n",
      " 43  Width                           float64\n",
      " 44  KerbWeight                      float64\n",
      " 45  TareMass                        float64\n",
      " 46  PayLoad                         float64\n",
      " 47  Power                           float64\n",
      " 48  PowerRPMFrom                    float64\n",
      " 49  PowerRPMTo                      float64\n",
      " 50  Torque                          float64\n",
      " 51  TorqueRPMFrom                   float64\n",
      " 52  TorqueRPMTo                     float64\n",
      " 53  RonRating                       float64\n",
      " 54  SeatCapacity                    float64\n",
      " 55  ModelCode                       object \n",
      " 56  BuildCountryOriginDescription   object \n",
      " 57  ValvesCylinder                  float64\n",
      " 58  EngineCycleDescription          object \n",
      " 59  EngineConfigurationDescription  object \n",
      " 60  EngineLocation                  object \n",
      " 61  EngineNum                       object \n",
      " 62  Acceleration                    float64\n",
      " 63  FrontTyreSize                   object \n",
      " 64  RearTyreSize                    object \n",
      " 65  FrontRimDesc                    object \n",
      " 66  RearRimDesc                     object \n",
      " 67  TowingBrakes                    float64\n",
      " 68  TowingNoBrakes                  float64\n",
      " 69  WarrantyCustAssist              object \n",
      " 70  FreeScheduledService            object \n",
      " 71  WarrantyYears                   float64\n",
      " 72  WarrantyKM                      float64\n",
      " 73  FirstServiceKM                  float64\n",
      " 74  FirstServiceMonths              float64\n",
      " 75  RegServiceMonths                float64\n",
      " 76  AltEngEngineType                object \n",
      " 77  AltEngBatteryType               object \n",
      " 78  AltEngCurrentType               object \n",
      " 79  AltEngAmpHours                  float64\n",
      " 80  AltEngVolts                     float64\n",
      " 81  AltEngChargingMethod            object \n",
      " 82  AltEngPower                     float64\n",
      " 83  AltEngPowerFrom                 float64\n",
      " 84  AltEngPowerTo                   float64\n",
      " 85  AltEngTorque                    float64\n",
      " 86  AltEngTorqueFrom                float64\n",
      " 87  AltEngTorqueTo                  float64\n",
      " 88  AltEngDrive                     object \n",
      " 89  NormalChargeMins                float64\n",
      " 90  QuickChargeMins                 float64\n",
      " 91  NormalChargeVoltage             object \n",
      " 92  QuickChargeVoltage              float64\n",
      " 93  KMRangeElectricEng              float64\n",
      " 94  ElectricEngineLocation          object \n",
      " 95  TopSpeedElectricEng             float64\n",
      " 96  GreenhouseRating                float64\n",
      " 97  AirpollutionRating              float64\n",
      " 98  OverallGreenStarRating          float64\n",
      " 99  CO2Combined                     float64\n",
      " 100 CO2Urban                        float64\n",
      " 101 CO2ExtraUrban                   float64\n",
      " 102 FuelUrban                       float64\n",
      " 103 FuelExtraurban                  float64\n",
      " 104 FuelCombined                    float64\n",
      " 105 EmissionStandard                object \n",
      " 106 MaxEthanolBlend                 object \n",
      " 107 AncapRating                     float64\n",
      " 108 VFactsClass                     object \n",
      " 109 VFactsSegment                   object \n",
      " 110 VFactsPrice                     object \n",
      " 111 IsPPlateApproved                object \n",
      " 112 AverageKM                       float64\n",
      " 113 GoodKM                          float64\n",
      " 114 AvgWholesale                    float64\n",
      " 115 AvgRetail                       float64\n",
      " 116 GoodWholesale                   float64\n",
      " 117 GoodRetail                      float64\n",
      " 118 TradeMin                        float64\n",
      " 119 TradeMax                        float64\n",
      " 120 PrivateMax                      float64\n",
      " 121 NewPrice                        float64\n",
      " 122 Colour                          object \n",
      " 123 Branch                          object \n",
      " 124 SaleCategory                    object \n",
      " 125 Sold_Date                       object \n",
      " 126 Compliance_Date                 object \n",
      " 127 Age_Comp_Months                 float64\n",
      " 128 KM                              float64\n",
      " 129 Sold_Amount                     float64\n",
      "dtypes: float64(64), int64(6), object(60)\n",
      "memory usage: 61.7+ MB\n"
     ]
    }
   ],
   "source": [
    "# check data type\n",
    "ds.info(verbose = True)"
   ]
  },
  {
   "cell_type": "markdown",
   "id": "f51f937d",
   "metadata": {
    "pycharm": {
     "name": "#%% md\n"
    }
   },
   "source": [
    "---"
   ]
  },
  {
   "cell_type": "markdown",
   "id": "b1c7f93f",
   "metadata": {
    "pycharm": {
     "name": "#%% md\n"
    }
   },
   "source": [
    "# 2. Data Preprocessing <a class=\"anchor\" id=\"dataPre\"></a>\n",
    "This section attempts to improve the quality of the data via finding the caveats of the data set,\n",
    "manipulating and dropping data before the input pipeline of the model. This section also deals with feature selections where we attempt to purge features that are least relevent to the traget variable."
   ]
  },
  {
   "cell_type": "markdown",
   "id": "b12ef420",
   "metadata": {},
   "source": [
    "## 2.1 Evaluating Target Variables\n",
    "Since the objective is to predict the vehicle sold price, which is \"Sold_Amount\".\n",
    "It is crucial to check if \"Sold_Amount\" is valid for all records, else there would be no target for predictive model."
   ]
  },
  {
   "cell_type": "code",
   "execution_count": 6,
   "id": "eadc6162",
   "metadata": {},
   "outputs": [
    {
     "data": {
      "text/plain": [
       "count     62188.000000\n",
       "mean      16723.225357\n",
       "std       10541.480928\n",
       "min           0.000000\n",
       "25%       10600.000000\n",
       "50%       15151.500000\n",
       "75%       20800.000000\n",
       "max      317000.000000\n",
       "Name: Sold_Amount, dtype: float64"
      ]
     },
     "execution_count": 6,
     "metadata": {},
     "output_type": "execute_result"
    }
   ],
   "source": [
    "ds['Sold_Amount'].describe()"
   ]
  },
  {
   "cell_type": "code",
   "execution_count": 7,
   "id": "e49d3a43",
   "metadata": {},
   "outputs": [
    {
     "name": "stdout",
     "output_type": "stream",
     "text": [
      "Number of records with NULL price:  4\n"
     ]
    }
   ],
   "source": [
    "print(\"Number of records with NULL price: \", ds['Sold_Amount'].isna().sum())"
   ]
  },
  {
   "cell_type": "code",
   "execution_count": 8,
   "id": "409234a7",
   "metadata": {},
   "outputs": [
    {
     "name": "stdout",
     "output_type": "stream",
     "text": [
      "Number of records with NULL price:  0\n",
      "--------------------------------------------------\n",
      "There are 62188 rows.\n",
      "There are 130 columns.\n"
     ]
    }
   ],
   "source": [
    "# collect the row indices where pice is NULL\n",
    "price_isna_idx = np.where(ds['Sold_Amount'].isna()==True)[0]\n",
    "# remove the rows where target price is not available \n",
    "ds.drop(price_isna_idx, axis=0, inplace=True)\n",
    "print(\"Number of records with NULL price: \", ds['Sold_Amount'].isna().sum())\n",
    "print(\"-\"*50)\n",
    "rows, cols = ds.shape\n",
    "print(\"There are {} rows.\".format(rows))\n",
    "print(\"There are {} columns.\".format(cols))"
   ]
  },
  {
   "cell_type": "markdown",
   "id": "507194db",
   "metadata": {},
   "source": [
    "Before clipping the values of the target variables "
   ]
  },
  {
   "cell_type": "code",
   "execution_count": 9,
   "id": "b807fae5",
   "metadata": {},
   "outputs": [
    {
     "name": "stdout",
     "output_type": "stream",
     "text": [
      "Skewness:  3.6786925118862657\n"
     ]
    },
    {
     "data": {
      "image/png": "[encoded data removed]",
      "text/plain": [
       "<Figure size 576x360 with 1 Axes>"
      ]
     },
     "metadata": {},
     "output_type": "display_data"
    }
   ],
   "source": [
    "sns.set_theme()\n",
    "price_dist = sns.displot(ds['Sold_Amount'], kde=True)\n",
    "price_dist.fig.set_size_inches(8,5)\n",
    "print(\"Skewness: \", ds['Sold_Amount'].skew())"
   ]
  },
  {
   "cell_type": "markdown",
   "id": "d34b9d7a",
   "metadata": {},
   "source": [
    "Looking at the distribution of car price, the distribution is right-skewed with some outliers on car price >50000"
   ]
  },
  {
   "cell_type": "markdown",
   "id": "72f9ab0e",
   "metadata": {},
   "source": [
    "Remove outliers by clipping the price value up to 99th percentile"
   ]
  },
  {
   "cell_type": "code",
   "execution_count": 10,
   "id": "7e85fd36",
   "metadata": {},
   "outputs": [],
   "source": [
    "ds = ds[ds.Sold_Amount < ds.Sold_Amount.quantile(0.99)]"
   ]
  },
  {
   "cell_type": "code",
   "execution_count": 11,
   "id": "674ea35c",
   "metadata": {},
   "outputs": [
    {
     "data": {
      "text/plain": [
       "count    61560.000000\n",
       "mean     16155.338804\n",
       "std       8542.599992\n",
       "min          0.000000\n",
       "25%      10600.000000\n",
       "50%      15000.000000\n",
       "75%      20500.000000\n",
       "max      53400.000000\n",
       "Name: Sold_Amount, dtype: float64"
      ]
     },
     "execution_count": 11,
     "metadata": {},
     "output_type": "execute_result"
    }
   ],
   "source": [
    "ds['Sold_Amount'].describe()"
   ]
  },
  {
   "cell_type": "code",
   "execution_count": 12,
   "id": "81c3053c",
   "metadata": {},
   "outputs": [
    {
     "name": "stdout",
     "output_type": "stream",
     "text": [
      "Skewness:  0.9007284076100697\n"
     ]
    },
    {
     "data": {
      "image/png": "[encoded data removed]",
      "text/plain": [
       "<Figure size 576x360 with 1 Axes>"
      ]
     },
     "metadata": {},
     "output_type": "display_data"
    }
   ],
   "source": [
    "sns.set_theme()\n",
    "price_dist = sns.displot(ds['Sold_Amount'], kde=True)\n",
    "price_dist.fig.set_size_inches(8,5)\n",
    "print(\"Skewness: \", ds['Sold_Amount'].skew())"
   ]
  },
  {
   "cell_type": "markdown",
   "id": "5bf7155e",
   "metadata": {},
   "source": [
    "The distribution looks much better. Alternatively, lets see how log transformation will do to the distribution. "
   ]
  },
  {
   "cell_type": "code",
   "execution_count": 13,
   "id": "a687420c",
   "metadata": {
    "scrolled": true
   },
   "outputs": [
    {
     "name": "stdout",
     "output_type": "stream",
     "text": [
      "Skewness:  -5.756966511703112\n"
     ]
    },
    {
     "data": {
      "image/png": "[encoded data removed]",
      "text/plain": [
       "<Figure size 576x360 with 1 Axes>"
      ]
     },
     "metadata": {},
     "output_type": "display_data"
    }
   ],
   "source": [
    "# using log1p transformation with apply log(1+x) to reduce error for min. value of 0 \n",
    "y = ds['Sold_Amount'].copy()\n",
    "log_y = np.log1p(y)\n",
    "price_dist = sns.displot(log_y, kde=True)\n",
    "price_dist.fig.set_size_inches(8,5)\n",
    "print(\"Skewness: \", log_y.skew())"
   ]
  },
  {
   "cell_type": "code",
   "execution_count": 14,
   "id": "22c38a7a",
   "metadata": {},
   "outputs": [
    {
     "data": {
      "text/plain": [
       "count    61560.000000\n",
       "mean         9.430467\n",
       "std          1.213001\n",
       "min          0.000000\n",
       "25%          9.268704\n",
       "50%          9.615872\n",
       "75%          9.928229\n",
       "max         10.885585\n",
       "Name: Sold_Amount, dtype: float64"
      ]
     },
     "execution_count": 14,
     "metadata": {},
     "output_type": "execute_result"
    }
   ],
   "source": [
    "log_y.describe()"
   ]
  },
  {
   "cell_type": "code",
   "execution_count": 15,
   "id": "b45fc556",
   "metadata": {},
   "outputs": [
    {
     "name": "stdout",
     "output_type": "stream",
     "text": [
      "Number of duplicate rows:  0\n"
     ]
    }
   ],
   "source": [
    "# check duplicate rows\n",
    "print(\"Number of duplicate rows: \",ds.duplicated().sum())"
   ]
  },
  {
   "cell_type": "markdown",
   "id": "f7062b3d",
   "metadata": {
    "pycharm": {
     "name": "#%% md\n"
    }
   },
   "source": [
    "---"
   ]
  },
  {
   "cell_type": "markdown",
   "id": "53812c19",
   "metadata": {},
   "source": [
    "## 2.2 Removing Field of Constraints\n",
    "Drop inapplicable field: 'AvgWholesale', 'AvgRetail', 'GoodWholesale', 'GoodRetail', 'TradeMin', 'TradeMax', 'PrivateMax'"
   ]
  },
  {
   "cell_type": "code",
   "execution_count": 16,
   "id": "b2ad2650",
   "metadata": {},
   "outputs": [
    {
     "name": "stdout",
     "output_type": "stream",
     "text": [
      "There are 123 columns.\n"
     ]
    }
   ],
   "source": [
    "# field to be dropped\n",
    "constraints = ['AvgWholesale', 'AvgRetail', 'GoodWholesale', \n",
    "               'GoodRetail', 'TradeMin', 'TradeMax', 'PrivateMax'] \n",
    "ds.drop(columns = constraints, inplace = True)\n",
    "# sanity check for the dimensionality of the data set\n",
    "print(\"There are {} columns.\".format(ds.shape[1]))"
   ]
  },
  {
   "cell_type": "markdown",
   "id": "5223b74c",
   "metadata": {
    "pycharm": {
     "name": "#%% md\n"
    }
   },
   "source": [
    "---"
   ]
  },
  {
   "cell_type": "markdown",
   "id": "d0720a3d",
   "metadata": {
    "pycharm": {
     "name": "#%% md\n"
    }
   },
   "source": [
    "## 2.3 Handling NULL Values\n",
    "In this part, we deal with fields having NULL values exceeding a certain threshold."
   ]
  },
  {
   "cell_type": "code",
   "execution_count": 17,
   "id": "03709afd",
   "metadata": {},
   "outputs": [
    {
     "name": "stdout",
     "output_type": "stream",
     "text": [
      "AltEngTorqueFrom       61560\n",
      "QuickChargeMins        61560\n",
      "QuickChargeVoltage     61560\n",
      "TopSpeedElectricEng    61559\n",
      "NormalChargeMins       61558\n",
      "                       ...  \n",
      "EngineDescription          0\n",
      "EngineSize                 0\n",
      "DoorNum                    0\n",
      "GearTypeDescription        0\n",
      "Make                       0\n",
      "Length: 123, dtype: int64\n"
     ]
    }
   ],
   "source": [
    "# In this part, the number of missing values for each fields is validated and ranked.\n",
    "null_count_arr = ds.isna().sum()\n",
    "print(null_count_arr.sort_values(ascending=False))"
   ]
  },
  {
   "cell_type": "code",
   "execution_count": 18,
   "id": "dd009509",
   "metadata": {},
   "outputs": [
    {
     "data": {
      "text/plain": [
       "Text(0.5, 1.0, 'Percentage of Missing Values by Features')"
      ]
     },
     "execution_count": 18,
     "metadata": {},
     "output_type": "execute_result"
    },
    {
     "data": {
      "image/png": "[encoded data removed]",
      "text/plain": [
       "<Figure size 1080x576 with 1 Axes>"
      ]
     },
     "metadata": {},
     "output_type": "display_data"
    }
   ],
   "source": [
    "# plot the distribution of missing values by top 80 features \n",
    "null_ratio = (null_count_arr.sort_values(ascending=False)[:80]/rows)*100\n",
    "plt.figure(figsize=(15,8))\n",
    "plt.xticks(rotation = '90')\n",
    "sns.barplot(x = null_ratio.index, y = null_ratio)\n",
    "plt.xlabel('Features', fontsize = 15)\n",
    "plt.ylabel('Missing Values (%)', fontsize = 5)\n",
    "plt.title('Percentage of Missing Values by Features', fontsize = 15)"
   ]
  },
  {
   "cell_type": "markdown",
   "id": "ebb3891b",
   "metadata": {},
   "source": [
    "By observing the above information, there are quite a number of fields that contain \n",
    "NULL values equivalent to the number of records. These fields will not provide \n",
    "information to the predictive model. Therefore, we specify a certain threshold where\n",
    "the NULL values exceed a certain percentage of the total records, the field is concurrently dropped. In this case, we defined the threshold percentage as 80%. "
   ]
  },
  {
   "cell_type": "code",
   "execution_count": 19,
   "id": "5096d50d",
   "metadata": {},
   "outputs": [
    {
     "name": "stdout",
     "output_type": "stream",
     "text": [
      "Number of columns to be dropped:  29\n"
     ]
    }
   ],
   "source": [
    "# percentage of NULL values that exceed the total number of records  \n",
    "pct = 0.8\n",
    "# get the index where NULL value is larger than certain (pct) of the records\n",
    "null_thr_idx = np.where(null_count_arr > int(rows*pct))[0]\n",
    "print(\"Number of columns to be dropped: \", null_thr_idx.shape[0])"
   ]
  },
  {
   "cell_type": "markdown",
   "id": "3b57909b",
   "metadata": {},
   "source": [
    "Dropping the fields of NULL value exceeding 80% of the total records.\n",
    "Drop 'Description' field because it gives a little insight and it is not helpful for predicting the target price. "
   ]
  },
  {
   "cell_type": "code",
   "execution_count": 20,
   "id": "c1d46a02",
   "metadata": {},
   "outputs": [
    {
     "name": "stdout",
     "output_type": "stream",
     "text": [
      "There are 93 columns.\n"
     ]
    }
   ],
   "source": [
    "# check which particular field will need to be dropped\n",
    "# by mapping the indices to the respective field \n",
    "ds.drop(columns = np.take(ds.columns, null_thr_idx).tolist(), inplace = True)\n",
    "# ds['is_sport'] = ds['Description'].apply(lambda x: 1 if 'sport' in x.lower() else 0)\n",
    "ds.drop(columns = \"Description\", inplace = True)\n",
    "print(\"There are {} columns.\".format(ds.shape[1]))"
   ]
  },
  {
   "cell_type": "markdown",
   "id": "5b3ff65d",
   "metadata": {
    "pycharm": {
     "name": "#%% md\n"
    }
   },
   "source": [
    "---"
   ]
  },
  {
   "cell_type": "markdown",
   "id": "770ab57a",
   "metadata": {},
   "source": [
    "## 2.4 Handling Potential Similar Columns\n",
    "Remove certain fields that are short form representations of a given fields these field contains the keyword \"Code\" inside:\n",
    "- Example:  \n",
    "\"MakeCode\" field is the abbreviation of \"MakeCode\"  \n",
    "\"FamilyCode\" field is the abbreviation of \"Model\"  \n",
    "\"DriveCode\" field is the abbreviation of \"DriveDescription\"\n"
   ]
  },
  {
   "cell_type": "code",
   "execution_count": 21,
   "id": "250b1c46",
   "metadata": {},
   "outputs": [
    {
     "name": "stdout",
     "output_type": "stream",
     "text": [
      "['MakeCode', 'FamilyCode', 'DriveCode', 'ModelCode']\n"
     ]
    }
   ],
   "source": [
    "# search fields that contains wildcard \"Code\"\n",
    "match_id_list = utils.string_search(ds.columns.to_list(), \"*Code\")\n",
    "print([ds.columns.to_list()[i] for i in match_id_list])"
   ]
  },
  {
   "cell_type": "code",
   "execution_count": 22,
   "id": "4632c1a5",
   "metadata": {
    "pycharm": {
     "name": "#%%\n"
    }
   },
   "outputs": [],
   "source": [
    "# \"ModelCode\" is omitted because the column is unique\n",
    "ds.drop(columns = ['MakeCode', 'FamilyCode', 'DriveCode'], inplace = True)"
   ]
  },
  {
   "cell_type": "markdown",
   "id": "8c4dd2e8",
   "metadata": {
    "pycharm": {
     "name": "#%% md\n"
    }
   },
   "source": [
    "---"
   ]
  },
  {
   "cell_type": "markdown",
   "id": "2cf07b4f",
   "metadata": {},
   "source": [
    "## 2.5 Removing Special Characters\n",
    "After dropping all irrelevant fields, we need to run a check for potential special characters inside records. Intuitively at first glance, the field for 'EngineNum' contains special characters, such as #, -, ?. Special characters such as \"., /, :, -, <, >, (, )\" should be omiited.\n",
    "- \".\" is used in decimals\n",
    "- \"/\" is used in date or special representations\n",
    "- \":\" is used in timestamp\n",
    "- \"<\" is symbol as less than \n",
    "- \">\" is symbol as larger than \n",
    "- \"()\" brackets"
   ]
  },
  {
   "cell_type": "code",
   "execution_count": 23,
   "id": "26226d6c",
   "metadata": {},
   "outputs": [
    {
     "name": "stdout",
     "output_type": "stream",
     "text": [
      "0         HBA04 ######\n",
      "1            VH-######\n",
      "2          2AZ-#######\n",
      "3        HBA06 #######\n",
      "4          2AZ-#######\n",
      "             ...      \n",
      "62186      P5AT-######\n",
      "62187      JGSW2M#####\n",
      "62188      JGSWYA#####\n",
      "62189      4B11??-####\n",
      "62190    Z22D1 ######K\n",
      "Name: EngineNum, Length: 61560, dtype: object\n"
     ]
    }
   ],
   "source": [
    "print(ds['EngineNum'])"
   ]
  },
  {
   "cell_type": "code",
   "execution_count": 24,
   "id": "81392e92",
   "metadata": {},
   "outputs": [
    {
     "name": "stdout",
     "output_type": "stream",
     "text": [
      "'Make' has 533 rows with special characters.\n",
      "'Model' has 1312 rows with special characters.\n",
      "'Series' has 379 rows with special characters.\n",
      "'BadgeDescription' has 2383 rows with special characters.\n",
      "'GearTypeDescription' has 79 rows with special characters.\n",
      "'GearLocationDescription' has 1738 rows with special characters.\n",
      "'FuelTypeDescription' has 47608 rows with special characters.\n",
      "'CamDescription' has 587 rows with special characters.\n",
      "'EngineTypeDescription' has 1100 rows with special characters.\n",
      "'FuelDeliveryDescription' has 48448 rows with special characters.\n",
      "'VIN' has 58450 rows with special characters.\n",
      "'ModelCode' has 27838 rows with special characters.\n",
      "'EngineConfigurationDescription' has 40332 rows with special characters.\n",
      "'EngineLocation' has 21 rows with special characters.\n",
      "'EngineNum' has 59013 rows with special characters.\n",
      "'WarrantyCustAssist' has 8 rows with special characters.\n",
      "'VFactsSegment' has 208 rows with special characters.\n",
      "'VFactsPrice' has 48244 rows with special characters.\n",
      "'Colour' has 11658 rows with special characters.\n",
      "'Sold_Date' has 61560 rows with special characters.\n"
     ]
    }
   ],
   "source": [
    "# to do! better way of removing special character \n",
    "special_char = \"[^A-Za-z0-9:/.<()>\\s]\"\n",
    "# let's check which field have special characters and how many rows of it\n",
    "special_char_field = utils.special_char_field_checker(ds, special_char)"
   ]
  },
  {
   "cell_type": "markdown",
   "id": "7a5c6044",
   "metadata": {},
   "source": [
    "Proceed to remove the special character for each fields and do a sanity check!"
   ]
  },
  {
   "cell_type": "code",
   "execution_count": 25,
   "id": "b54a76f9",
   "metadata": {},
   "outputs": [
    {
     "name": "stdout",
     "output_type": "stream",
     "text": [
      "0         HBA04 \n",
      "1             VH\n",
      "2            2AZ\n",
      "3         HBA06 \n",
      "4            2AZ\n",
      "          ...   \n",
      "62186       P5AT\n",
      "62187     JGSW2M\n",
      "62188     JGSWYA\n",
      "62189       4B11\n",
      "62190    Z22D1 K\n",
      "Name: EngineNum, Length: 61560, dtype: object\n"
     ]
    }
   ],
   "source": [
    "# remove special character for the appointed column \n",
    "for f in special_char_field:\n",
    "    # for some reason, .replace() works on data type 'object' but not 'string'\n",
    "    ds[f].replace(special_char, '', regex=True, inplace=True) \n",
    "# sanity check    \n",
    "special_char_field = utils.special_char_field_checker(ds, special_char)\n",
    "# no output means that special character has been remove!\n",
    "# now we validate the records after removing special characters\n",
    "print(ds['EngineNum'])"
   ]
  },
  {
   "cell_type": "markdown",
   "id": "8f483356",
   "metadata": {
    "pycharm": {
     "name": "#%% md\n"
    }
   },
   "source": [
    "---"
   ]
  },
  {
   "cell_type": "markdown",
   "id": "f4e3d586",
   "metadata": {
    "pycharm": {
     "name": "#%% md\n"
    }
   },
   "source": [
    "\n",
    "## 2.6 Correlation Analysis\n",
    "This section will attempt to visualise the categorical data with correlation matrix on heatmap\n",
    "and trim the highly correlated features."
   ]
  },
  {
   "cell_type": "code",
   "execution_count": 26,
   "id": "26cef7a9",
   "metadata": {},
   "outputs": [
    {
     "data": {
      "image/png": "[encoded data removed]",
      "text/plain": [
       "<Figure size 576x576 with 2 Axes>"
      ]
     },
     "metadata": {},
     "output_type": "display_data"
    }
   ],
   "source": [
    "# use Pearson method for correlation\n",
    "cor_matrix = ds.corr('pearson').abs()\n",
    "plt.figure(figsize=(8,8))\n",
    "plt.imshow(cor_matrix, cmap = 'viridis')\n",
    "plt.colorbar()\n",
    "plt.grid(False)"
   ]
  },
  {
   "cell_type": "markdown",
   "id": "1af1d6af",
   "metadata": {
    "pycharm": {
     "name": "#%% md\n"
    }
   },
   "source": [
    "Check multicollinearity among the independent variable by plotting the heatmap of correlation matrix of the numerical data.\n",
    "From the distribution of the heatmap, we can observe that there are some variables that has high correlation dependencies.\n",
    "We try to trim high correlation dependencies given a threshold."
   ]
  },
  {
   "cell_type": "code",
   "execution_count": 27,
   "id": "73a2e2f7",
   "metadata": {
    "pycharm": {
     "name": "#%%\n"
    }
   },
   "outputs": [
    {
     "name": "stdout",
     "output_type": "stream",
     "text": [
      "Fields with high correlation:\n",
      "['Cylinders', 'GrossVehicleMass', 'Length', 'KerbWeight', 'TareMass', 'PayLoad', 'TowingBrakes', 'FirstServiceMonths', 'OverallGreenStarRating', 'CO2Combined', 'CO2Urban', 'CO2ExtraUrban', 'FuelUrban', 'FuelExtraurban', 'FuelCombined', 'AverageKM', 'GoodKM']\n",
      "\n",
      "The number of column to be dropped:  17\n"
     ]
    }
   ],
   "source": [
    "# since correlation matrices are symmetrical, we take the upper triangle part to create masking\n",
    "upper_tri_mask = np.triu(np.ones(cor_matrix.shape), k=1).astype(np.bool)\n",
    "upper_tri = cor_matrix.where(upper_tri_mask)\n",
    "# retrieve the column that has correlation greater than a given threshold\n",
    "high_cor_col = [col for col in upper_tri.columns if any(upper_tri[col]>0.8)]\n",
    "print('Fields with high correlation:')\n",
    "print(high_cor_col)\n",
    "print()\n",
    "print(\"The number of column to be dropped: \", len(high_cor_col))\n",
    "# drop columns with high correlation!\n",
    "ds.drop(columns = high_cor_col, inplace = True)"
   ]
  },
  {
   "cell_type": "code",
   "execution_count": 28,
   "id": "9177d59c",
   "metadata": {
    "pycharm": {
     "name": "#%%\n"
    }
   },
   "outputs": [
    {
     "data": {
      "image/png": "[encoded data removed]",
      "text/plain": [
       "<Figure size 576x576 with 2 Axes>"
      ]
     },
     "metadata": {},
     "output_type": "display_data"
    }
   ],
   "source": [
    "# plot post processed correlation matrix\n",
    "post_cor_matrix = ds.corr('pearson').abs()\n",
    "plt.figure(figsize=(8,8))\n",
    "plt.imshow(post_cor_matrix, cmap = 'viridis')\n",
    "plt.colorbar()\n",
    "plt.grid(False)"
   ]
  },
  {
   "cell_type": "markdown",
   "id": "ddd5ae86",
   "metadata": {
    "pycharm": {
     "name": "#%% md\n"
    }
   },
   "source": [
    "As observed from the post processed correlation matrix, the high correlation hot spots has been mitigated."
   ]
  },
  {
   "cell_type": "code",
   "execution_count": 29,
   "id": "94621d53",
   "metadata": {
    "pycharm": {
     "name": "#%%\n"
    }
   },
   "outputs": [
    {
     "name": "stdout",
     "output_type": "stream",
     "text": [
      "Number of categorical fields:  42\n",
      "Number of numerical fields:  31\n"
     ]
    }
   ],
   "source": [
    "# Retrieve the number of categorical fields and numerical fields\n",
    "# field indices where column is categorical\n",
    "categorical_col_idx = np.where(ds.dtypes == object)[0]\n",
    "# field indices where column is numerical\n",
    "numerical_col_idx = np.where(ds.dtypes != object)[0]\n",
    "print(\"Number of categorical fields: \",categorical_col_idx.shape[0])\n",
    "print(\"Number of numerical fields: \",numerical_col_idx.shape[0])"
   ]
  },
  {
   "cell_type": "markdown",
   "id": "603a53de",
   "metadata": {},
   "source": [
    "---"
   ]
  },
  {
   "cell_type": "markdown",
   "id": "efba081e",
   "metadata": {},
   "source": [
    "## 2.7 Imputation"
   ]
  },
  {
   "cell_type": "markdown",
   "id": "fbff4206",
   "metadata": {},
   "source": [
    "This section attempts to replace missing data with substitution.\n",
    "- Mode for categorical data \n",
    "- Mean for numerical data "
   ]
  },
  {
   "cell_type": "code",
   "execution_count": 30,
   "id": "9fba6500",
   "metadata": {},
   "outputs": [
    {
     "data": {
      "text/plain": [
       "Make                object\n",
       "Model               object\n",
       "YearGroup            int64\n",
       "MonthGroup           int64\n",
       "SequenceNum          int64\n",
       "                    ...   \n",
       "Sold_Date           object\n",
       "Compliance_Date     object\n",
       "Age_Comp_Months    float64\n",
       "KM                 float64\n",
       "Sold_Amount        float64\n",
       "Length: 73, dtype: object"
      ]
     },
     "execution_count": 30,
     "metadata": {},
     "output_type": "execute_result"
    }
   ],
   "source": [
    "ds.dtypes"
   ]
  },
  {
   "cell_type": "markdown",
   "id": "d8adc440",
   "metadata": {},
   "source": [
    "We notice that some data fields are of type 'object' which is a mixed of string and numerical data types.  \n",
    "For ease of manipulation the categorical fields of 'object' type should be converted to 'string'."
   ]
  },
  {
   "cell_type": "markdown",
   "id": "19adf251",
   "metadata": {},
   "source": [
    "Further cleaning for WarrantyKM, we do not want negative values in it."
   ]
  },
  {
   "cell_type": "code",
   "execution_count": 31,
   "id": "a1d99467",
   "metadata": {},
   "outputs": [
    {
     "data": {
      "text/plain": [
       "100000.0     49625\n",
       "130000.0      2078\n",
       "50000.0        560\n",
       "80000.0        180\n",
       "200000.0       178\n",
       "160000.0       175\n",
       "60000.0        137\n",
       "40000.0         16\n",
       "20000.0         13\n",
       "1000000.0       12\n",
       "150000.0        11\n",
       "180000.0         4\n",
       "Name: WarrantyKM, dtype: int64"
      ]
     },
     "execution_count": 31,
     "metadata": {},
     "output_type": "execute_result"
    }
   ],
   "source": [
    "ds['WarrantyKM'] = ds['WarrantyKM'].apply(lambda x: utils.check_warranty_km(x))\n",
    "ds['WarrantyKM'].value_counts()"
   ]
  },
  {
   "cell_type": "markdown",
   "id": "2f92cbe2",
   "metadata": {},
   "source": [
    "### 2.7.1 Binning Data  "
   ]
  },
  {
   "cell_type": "code",
   "execution_count": 32,
   "id": "50a9599e",
   "metadata": {},
   "outputs": [
    {
     "name": "stdout",
     "output_type": "stream",
     "text": [
      "{'YearGroup': 44, 'MonthGroup': 13, 'SequenceNum': 102, 'GearNum': 10, 'DoorNum': 4, 'EngineSize': 420, 'FuelCapacity': 85, 'GrossCombinationMAss': 685, 'WheelBase': 357, 'Height': 492, 'Width': 299, 'Power': 219, 'PowerRPMTo': 64, 'Torque': 328, 'TorqueRPMTo': 86, 'RonRating': 4, 'SeatCapacity': 13, 'ValvesCylinder': 5, 'Acceleration': 129, 'TowingNoBrakes': 75, 'WarrantyYears': 7, 'WarrantyKM': 13, 'FirstServiceKM': 20, 'RegServiceMonths': 7, 'GreenhouseRating': 18, 'AirpollutionRating': 14, 'AncapRating': 6, 'NewPrice': 4305, 'Age_Comp_Months': 291, 'KM': 51632, 'Sold_Amount': 3450}\n"
     ]
    }
   ],
   "source": [
    "numeric_col = ds.dtypes[ds.dtypes != object].index\n",
    "numeric_col_unique = {k: len(ds[k].unique()) for k in numeric_col}\n",
    "print(numeric_col_unique)"
   ]
  },
  {
   "cell_type": "markdown",
   "id": "fa60beea",
   "metadata": {},
   "source": [
    "There are some features with fixed values, hence, we need to convert them to categorical as well."
   ]
  },
  {
   "cell_type": "code",
   "execution_count": 33,
   "id": "442cfeba",
   "metadata": {},
   "outputs": [],
   "source": [
    "tmp_col = ['YearGroup',\n",
    " 'MonthGroup',\n",
    " 'SequenceNum',\n",
    " 'GearNum',\n",
    " 'DoorNum',\n",
    " 'FuelCapacity',\n",
    " 'SeatCapacity',\n",
    " 'ValvesCylinder',\n",
    " 'TowingNoBrakes', # to  be observed\n",
    " 'WarrantyYears',\n",
    " 'FirstServiceKM',\n",
    " 'RegServiceMonths',\n",
    " 'WarrantyKM']\n",
    "\n",
    "# needed to convert categorical columns from object to strings in order for ease of manipulation\n",
    "categorical_col_idx = np.where(ds.dtypes == object)[0]\n",
    "cols_name = [name for name in ds.columns]\n",
    "categorical_cols = [cols_name[i] for i in categorical_col_idx] + tmp_col\n",
    "ds[categorical_cols] = ds[categorical_cols].astype('string')"
   ]
  },
  {
   "cell_type": "markdown",
   "id": "d725f84d",
   "metadata": {},
   "source": [
    "### 2.7.2 Numerical Data"
   ]
  },
  {
   "cell_type": "code",
   "execution_count": 34,
   "id": "050760d3",
   "metadata": {},
   "outputs": [],
   "source": [
    "# fill numerical data of NULL value with mean of the data \n",
    "numeric_cols = [c for c in ds.columns if c not in categorical_cols]\n",
    "# fill NULL value with dependencies on 'Make' column \n",
    "ds[numeric_cols] = ds.groupby(['Make'])[numeric_cols]\\\n",
    "    .transform(lambda x: x.fillna(x.mean()))"
   ]
  },
  {
   "cell_type": "code",
   "execution_count": 35,
   "id": "3bc2e120",
   "metadata": {},
   "outputs": [
    {
     "name": "stdout",
     "output_type": "stream",
     "text": [
      "AirpollutionRating      224\n",
      "GreenhouseRating        224\n",
      "Acceleration            203\n",
      "AncapRating             195\n",
      "RonRating               160\n",
      "GrossCombinationMAss     40\n",
      "TorqueRPMTo               2\n",
      "Width                     2\n",
      "WheelBase                 2\n",
      "Height                    2\n",
      "Torque                    2\n",
      "PowerRPMTo                2\n",
      "Power                     1\n",
      "Sold_Amount               0\n",
      "KM                        0\n",
      "NewPrice                  0\n",
      "Age_Comp_Months           0\n",
      "EngineSize                0\n",
      "dtype: int64\n"
     ]
    }
   ],
   "source": [
    "null_count_arr03 = ds[[c for c in ds.columns if c not in categorical_cols]].isna().sum()\n",
    "print(null_count_arr03.sort_values(ascending=False))"
   ]
  },
  {
   "cell_type": "code",
   "execution_count": 36,
   "id": "93560782",
   "metadata": {},
   "outputs": [],
   "source": [
    "ds.fillna(ds.mean(), inplace=True)"
   ]
  },
  {
   "cell_type": "markdown",
   "id": "42bb991a",
   "metadata": {},
   "source": [
    "### 2.7.3 Categorical Data"
   ]
  },
  {
   "cell_type": "code",
   "execution_count": 37,
   "id": "d71aaed8",
   "metadata": {},
   "outputs": [
    {
     "name": "stdout",
     "output_type": "stream",
     "text": [
      "Categorical fields with NULL values:\n",
      "\n",
      "Index(['Series', 'SeriesModelYear', 'BadgeDescription',\n",
      "       'GearLocationDescription', 'GearNum', 'CamDescription', 'FuelCapacity',\n",
      "       'MethodOfDeliveryDescription', 'VIN', 'SeatCapacity', 'ModelCode',\n",
      "       'ValvesCylinder', 'EngineConfigurationDescription', 'EngineLocation',\n",
      "       'EngineNum', 'FrontTyreSize', 'RearTyreSize', 'FrontRimDesc',\n",
      "       'RearRimDesc', 'TowingNoBrakes', 'WarrantyCustAssist', 'WarrantyYears',\n",
      "       'WarrantyKM', 'FirstServiceKM', 'RegServiceMonths', 'EmissionStandard',\n",
      "       'VFactsClass', 'VFactsSegment', 'VFactsPrice', 'Colour',\n",
      "       'Compliance_Date'],\n",
      "      dtype='object')\n"
     ]
    }
   ],
   "source": [
    "null_count_arr04 = ds.isna().sum()\n",
    "# gather the indices of categorical data records\n",
    "null_thr_idx02 = np.where(null_count_arr04!=0)[0]\n",
    "categorical_field = np.take(ds.columns, null_thr_idx02)\n",
    "print('Categorical fields with NULL values:')\n",
    "print()\n",
    "print(categorical_field)"
   ]
  },
  {
   "cell_type": "code",
   "execution_count": 38,
   "id": "f56d5d41",
   "metadata": {},
   "outputs": [],
   "source": [
    "# replace the categorical data with mode of each field respectively\n",
    "for n in categorical_cols:\n",
    "    ds[n].fillna(ds[n].mode()[0], inplace=True)"
   ]
  },
  {
   "cell_type": "code",
   "execution_count": 39,
   "id": "b6e66288",
   "metadata": {},
   "outputs": [
    {
     "name": "stdout",
     "output_type": "stream",
     "text": [
      "[]\n"
     ]
    }
   ],
   "source": [
    "# sanity check if the method works\n",
    "print(np.where(ds.isna().sum()!=0)[0])"
   ]
  },
  {
   "cell_type": "markdown",
   "id": "22ed21b9",
   "metadata": {},
   "source": [
    "Empty list means that there is no NULL value inside the dataset!"
   ]
  },
  {
   "cell_type": "markdown",
   "id": "753db687",
   "metadata": {
    "pycharm": {
     "name": "#%% md\n"
    }
   },
   "source": [
    "---"
   ]
  },
  {
   "cell_type": "markdown",
   "id": "878da212",
   "metadata": {},
   "source": [
    "## 2.8 Skewness of Numerical Data"
   ]
  },
  {
   "cell_type": "code",
   "execution_count": 40,
   "id": "77a08aea",
   "metadata": {},
   "outputs": [
    {
     "data": {
      "text/html": [
       "<div>\n",
       "<style scoped>\n",
       "    .dataframe tbody tr th:only-of-type {\n",
       "        vertical-align: middle;\n",
       "    }\n",
       "\n",
       "    .dataframe tbody tr th {\n",
       "        vertical-align: top;\n",
       "    }\n",
       "\n",
       "    .dataframe thead th {\n",
       "        text-align: right;\n",
       "    }\n",
       "</style>\n",
       "<table border=\"1\" class=\"dataframe\">\n",
       "  <thead>\n",
       "    <tr style=\"text-align: right;\">\n",
       "      <th></th>\n",
       "      <th>Skewness</th>\n",
       "    </tr>\n",
       "  </thead>\n",
       "  <tbody>\n",
       "    <tr>\n",
       "      <th>KM</th>\n",
       "      <td>32.256132</td>\n",
       "    </tr>\n",
       "    <tr>\n",
       "      <th>Age_Comp_Months</th>\n",
       "      <td>6.735797</td>\n",
       "    </tr>\n",
       "    <tr>\n",
       "      <th>RonRating</th>\n",
       "      <td>3.905651</td>\n",
       "    </tr>\n",
       "    <tr>\n",
       "      <th>NewPrice</th>\n",
       "      <td>3.365317</td>\n",
       "    </tr>\n",
       "    <tr>\n",
       "      <th>Acceleration</th>\n",
       "      <td>2.398004</td>\n",
       "    </tr>\n",
       "    <tr>\n",
       "      <th>Height</th>\n",
       "      <td>1.484907</td>\n",
       "    </tr>\n",
       "    <tr>\n",
       "      <th>Sold_Amount</th>\n",
       "      <td>0.900706</td>\n",
       "    </tr>\n",
       "    <tr>\n",
       "      <th>WheelBase</th>\n",
       "      <td>0.689701</td>\n",
       "    </tr>\n",
       "    <tr>\n",
       "      <th>Power</th>\n",
       "      <td>0.493070</td>\n",
       "    </tr>\n",
       "    <tr>\n",
       "      <th>EngineSize</th>\n",
       "      <td>0.372769</td>\n",
       "    </tr>\n",
       "  </tbody>\n",
       "</table>\n",
       "</div>"
      ],
      "text/plain": [
       "                  Skewness\n",
       "KM               32.256132\n",
       "Age_Comp_Months   6.735797\n",
       "RonRating         3.905651\n",
       "NewPrice          3.365317\n",
       "Acceleration      2.398004\n",
       "Height            1.484907\n",
       "Sold_Amount       0.900706\n",
       "WheelBase         0.689701\n",
       "Power             0.493070\n",
       "EngineSize        0.372769"
      ]
     },
     "execution_count": 40,
     "metadata": {},
     "output_type": "execute_result"
    }
   ],
   "source": [
    "# retrieve numerical data columns\n",
    "numeric_cols = [c for c in ds.columns if c not in categorical_cols]\n",
    "# ranked skewed columns\n",
    "skewed_cols = ds[numeric_cols].apply(lambda x: skew(x)).sort_values(ascending=False)\n",
    "skewed_df = pd.DataFrame({'Skewness': skewed_cols})\n",
    "skewed_df.head(10)"
   ]
  },
  {
   "cell_type": "code",
   "execution_count": 41,
   "id": "f9359ccc",
   "metadata": {},
   "outputs": [],
   "source": [
    "# choose top four right skewed columns for log transformation\n",
    "right_skewed_cols = skewed_cols.index[0:4]\n",
    "for r in right_skewed_cols:\n",
    "    ds[right_skewed_cols] = np.log1p(ds[right_skewed_cols])"
   ]
  },
  {
   "cell_type": "markdown",
   "id": "f14fd362",
   "metadata": {
    "pycharm": {
     "name": "#%% md\n"
    }
   },
   "source": [
    "## 2.9 Feature Selection"
   ]
  },
  {
   "cell_type": "markdown",
   "id": "a5aca5de",
   "metadata": {},
   "source": [
    "Check the number of unique classes for categorical fields. This could be useful for feature selections where we can merge or remove the features."
   ]
  },
  {
   "cell_type": "code",
   "execution_count": 42,
   "id": "b9bfb750",
   "metadata": {},
   "outputs": [
    {
     "name": "stdout",
     "output_type": "stream",
     "text": [
      "{'Make': 50, 'Model': 611, 'CurrentRelease': 2, 'ImportFlag': 1, 'LimitedEdition': 2, 'Series': 1130, 'SeriesModelYear': 50, 'BadgeDescription': 714, 'BodyStyleDescription': 17, 'DriveDescription': 7, 'GearTypeDescription': 8, 'GearLocationDescription': 7, 'EngineDescription': 63, 'FuelTypeDescription': 6, 'InductionDescription': 7, 'OptionCategory': 6, 'CamDescription': 11, 'EngineTypeDescription': 3, 'FuelDeliveryDescription': 7, 'MethodOfDeliveryDescription': 3, 'VIN': 4543, 'ModelCode': 4290, 'BuildCountryOriginDescription': 31, 'EngineCycleDescription': 2, 'EngineConfigurationDescription': 9, 'EngineLocation': 3, 'EngineNum': 1483, 'FrontTyreSize': 299, 'RearTyreSize': 315, 'FrontRimDesc': 73, 'RearRimDesc': 83, 'WarrantyCustAssist': 75, 'EmissionStandard': 5, 'VFactsClass': 4, 'VFactsSegment': 14, 'VFactsPrice': 17, 'IsPPlateApproved': 2, 'Colour': 1099, 'Branch': 21, 'SaleCategory': 6, 'Sold_Date': 5431, 'Compliance_Date': 433}\n"
     ]
    }
   ],
   "source": [
    "cols_name = [name for name in ds.columns]\n",
    "categorical_cols = [cols_name[i] for i in categorical_col_idx]\n",
    "# dictionary to store number of classes for each categorical fields\n",
    "n_class = {}\n",
    "for c in categorical_cols:\n",
    "    val, count = np.unique(ds[c], return_counts=True)\n",
    "    n_class[c]= len(count)\n",
    "print(n_class)"
   ]
  },
  {
   "cell_type": "markdown",
   "id": "18821db5",
   "metadata": {},
   "source": [
    "notice that there is only 1 unique class for 'ImportFlag' hence we dropped it!"
   ]
  },
  {
   "cell_type": "code",
   "execution_count": 43,
   "id": "bd63c985",
   "metadata": {},
   "outputs": [],
   "source": [
    "ds = ds.drop(columns=['ImportFlag'])"
   ]
  },
  {
   "cell_type": "markdown",
   "id": "c3933988",
   "metadata": {},
   "source": [
    "From the categorical fields, it is observed that there are some features with more than 100 classes. This will cause problem for feature encoding when we use one hot encoding and get_dummies() from Pandas. By using get_dummies() from Pandas this will lead to a whooping of 22k features! (See below). This will be computational expensive to train. \n",
    "  \n",
    "Strategy:\n",
    "- Use label encoding\n",
    "- Prune features for better representation "
   ]
  },
  {
   "cell_type": "code",
   "execution_count": 44,
   "id": "a9e184ef",
   "metadata": {
    "pycharm": {
     "name": "#%%\n"
    }
   },
   "outputs": [
    {
     "data": {
      "text/html": [
       "<div>\n",
       "<style scoped>\n",
       "    .dataframe tbody tr th:only-of-type {\n",
       "        vertical-align: middle;\n",
       "    }\n",
       "\n",
       "    .dataframe tbody tr th {\n",
       "        vertical-align: top;\n",
       "    }\n",
       "\n",
       "    .dataframe thead th {\n",
       "        text-align: right;\n",
       "    }\n",
       "</style>\n",
       "<table border=\"1\" class=\"dataframe\">\n",
       "  <thead>\n",
       "    <tr style=\"text-align: right;\">\n",
       "      <th></th>\n",
       "      <th>EngineSize</th>\n",
       "      <th>GrossCombinationMAss</th>\n",
       "      <th>WheelBase</th>\n",
       "      <th>Height</th>\n",
       "      <th>Width</th>\n",
       "      <th>Power</th>\n",
       "      <th>PowerRPMTo</th>\n",
       "      <th>Torque</th>\n",
       "      <th>TorqueRPMTo</th>\n",
       "      <th>RonRating</th>\n",
       "      <th>...</th>\n",
       "      <th>WarrantyKM_130000.0</th>\n",
       "      <th>WarrantyKM_150000.0</th>\n",
       "      <th>WarrantyKM_160000.0</th>\n",
       "      <th>WarrantyKM_180000.0</th>\n",
       "      <th>WarrantyKM_20000.0</th>\n",
       "      <th>WarrantyKM_200000.0</th>\n",
       "      <th>WarrantyKM_40000.0</th>\n",
       "      <th>WarrantyKM_50000.0</th>\n",
       "      <th>WarrantyKM_60000.0</th>\n",
       "      <th>WarrantyKM_80000.0</th>\n",
       "    </tr>\n",
       "  </thead>\n",
       "  <tbody>\n",
       "    <tr>\n",
       "      <th>0</th>\n",
       "      <td>3565</td>\n",
       "      <td>4580.623525</td>\n",
       "      <td>2915.0</td>\n",
       "      <td>1476.0</td>\n",
       "      <td>1899.0</td>\n",
       "      <td>180.0</td>\n",
       "      <td>6000.0</td>\n",
       "      <td>330.0</td>\n",
       "      <td>2600.0</td>\n",
       "      <td>0.691380</td>\n",
       "      <td>...</td>\n",
       "      <td>0</td>\n",
       "      <td>0</td>\n",
       "      <td>0</td>\n",
       "      <td>0</td>\n",
       "      <td>0</td>\n",
       "      <td>0</td>\n",
       "      <td>0</td>\n",
       "      <td>0</td>\n",
       "      <td>0</td>\n",
       "      <td>0</td>\n",
       "    </tr>\n",
       "    <tr>\n",
       "      <th>1</th>\n",
       "      <td>3791</td>\n",
       "      <td>4580.623525</td>\n",
       "      <td>2822.0</td>\n",
       "      <td>1478.0</td>\n",
       "      <td>1794.0</td>\n",
       "      <td>130.0</td>\n",
       "      <td>4800.0</td>\n",
       "      <td>295.0</td>\n",
       "      <td>3200.0</td>\n",
       "      <td>0.691399</td>\n",
       "      <td>...</td>\n",
       "      <td>0</td>\n",
       "      <td>0</td>\n",
       "      <td>0</td>\n",
       "      <td>0</td>\n",
       "      <td>0</td>\n",
       "      <td>0</td>\n",
       "      <td>0</td>\n",
       "      <td>0</td>\n",
       "      <td>0</td>\n",
       "      <td>0</td>\n",
       "    </tr>\n",
       "    <tr>\n",
       "      <th>2</th>\n",
       "      <td>2362</td>\n",
       "      <td>3560.000000</td>\n",
       "      <td>2660.0</td>\n",
       "      <td>1695.0</td>\n",
       "      <td>1815.0</td>\n",
       "      <td>125.0</td>\n",
       "      <td>6000.0</td>\n",
       "      <td>224.0</td>\n",
       "      <td>4000.0</td>\n",
       "      <td>0.691380</td>\n",
       "      <td>...</td>\n",
       "      <td>0</td>\n",
       "      <td>0</td>\n",
       "      <td>0</td>\n",
       "      <td>0</td>\n",
       "      <td>0</td>\n",
       "      <td>0</td>\n",
       "      <td>0</td>\n",
       "      <td>0</td>\n",
       "      <td>0</td>\n",
       "      <td>0</td>\n",
       "    </tr>\n",
       "    <tr>\n",
       "      <th>3</th>\n",
       "      <td>3565</td>\n",
       "      <td>4580.623525</td>\n",
       "      <td>2938.0</td>\n",
       "      <td>1527.0</td>\n",
       "      <td>1847.0</td>\n",
       "      <td>172.0</td>\n",
       "      <td>6000.0</td>\n",
       "      <td>320.0</td>\n",
       "      <td>2800.0</td>\n",
       "      <td>0.691380</td>\n",
       "      <td>...</td>\n",
       "      <td>0</td>\n",
       "      <td>0</td>\n",
       "      <td>0</td>\n",
       "      <td>0</td>\n",
       "      <td>0</td>\n",
       "      <td>0</td>\n",
       "      <td>0</td>\n",
       "      <td>0</td>\n",
       "      <td>0</td>\n",
       "      <td>0</td>\n",
       "    </tr>\n",
       "    <tr>\n",
       "      <th>4</th>\n",
       "      <td>2362</td>\n",
       "      <td>4119.877399</td>\n",
       "      <td>2950.0</td>\n",
       "      <td>1750.0</td>\n",
       "      <td>1800.0</td>\n",
       "      <td>125.0</td>\n",
       "      <td>6000.0</td>\n",
       "      <td>224.0</td>\n",
       "      <td>4000.0</td>\n",
       "      <td>0.691380</td>\n",
       "      <td>...</td>\n",
       "      <td>0</td>\n",
       "      <td>0</td>\n",
       "      <td>0</td>\n",
       "      <td>0</td>\n",
       "      <td>0</td>\n",
       "      <td>0</td>\n",
       "      <td>0</td>\n",
       "      <td>0</td>\n",
       "      <td>0</td>\n",
       "      <td>0</td>\n",
       "    </tr>\n",
       "  </tbody>\n",
       "</table>\n",
       "<p>5 rows × 21738 columns</p>\n",
       "</div>"
      ],
      "text/plain": [
       "   EngineSize  GrossCombinationMAss  WheelBase  Height   Width  Power  \\\n",
       "0        3565           4580.623525     2915.0  1476.0  1899.0  180.0   \n",
       "1        3791           4580.623525     2822.0  1478.0  1794.0  130.0   \n",
       "2        2362           3560.000000     2660.0  1695.0  1815.0  125.0   \n",
       "3        3565           4580.623525     2938.0  1527.0  1847.0  172.0   \n",
       "4        2362           4119.877399     2950.0  1750.0  1800.0  125.0   \n",
       "\n",
       "   PowerRPMTo  Torque  TorqueRPMTo  RonRating  ...  WarrantyKM_130000.0  \\\n",
       "0      6000.0   330.0       2600.0   0.691380  ...                    0   \n",
       "1      4800.0   295.0       3200.0   0.691399  ...                    0   \n",
       "2      6000.0   224.0       4000.0   0.691380  ...                    0   \n",
       "3      6000.0   320.0       2800.0   0.691380  ...                    0   \n",
       "4      6000.0   224.0       4000.0   0.691380  ...                    0   \n",
       "\n",
       "   WarrantyKM_150000.0  WarrantyKM_160000.0  WarrantyKM_180000.0  \\\n",
       "0                    0                    0                    0   \n",
       "1                    0                    0                    0   \n",
       "2                    0                    0                    0   \n",
       "3                    0                    0                    0   \n",
       "4                    0                    0                    0   \n",
       "\n",
       "   WarrantyKM_20000.0  WarrantyKM_200000.0  WarrantyKM_40000.0  \\\n",
       "0                   0                    0                   0   \n",
       "1                   0                    0                   0   \n",
       "2                   0                    0                   0   \n",
       "3                   0                    0                   0   \n",
       "4                   0                    0                   0   \n",
       "\n",
       "   WarrantyKM_50000.0  WarrantyKM_60000.0  WarrantyKM_80000.0  \n",
       "0                   0                   0                   0  \n",
       "1                   0                   0                   0  \n",
       "2                   0                   0                   0  \n",
       "3                   0                   0                   0  \n",
       "4                   0                   0                   0  \n",
       "\n",
       "[5 rows x 21738 columns]"
      ]
     },
     "execution_count": 44,
     "metadata": {},
     "output_type": "execute_result"
    }
   ],
   "source": [
    "categorical_col_idx = np.where(ds.dtypes == 'string')[0]\n",
    "cols_name = [name for name in ds.columns]\n",
    "categorical_cols = [cols_name[i] for i in categorical_col_idx] + tmp_col\n",
    "df = pd.get_dummies(ds, columns = categorical_cols)\n",
    "df.head()"
   ]
  },
  {
   "cell_type": "code",
   "execution_count": 45,
   "id": "ee38bc14",
   "metadata": {},
   "outputs": [
    {
     "name": "stdout",
     "output_type": "stream",
     "text": [
      "['Model', 'Series', 'BadgeDescription', 'VIN', 'ModelCode', 'EngineNum', 'FrontTyreSize', 'RearTyreSize', 'Colour', 'Sold_Date', 'Compliance_Date']\n"
     ]
    }
   ],
   "source": [
    "# lets pick a few features that exceed unique class of 100 and try to interpret them\n",
    "# retrieve the indices of classes from the dictionary where values exceeded 100 \n",
    "class_100_idx = np.where(np.array(list(n_class.values()))>100)[0]\n",
    "print([list(n_class)[i] for i in class_100_idx])"
   ]
  },
  {
   "cell_type": "markdown",
   "id": "24f8412d",
   "metadata": {},
   "source": [
    "Interpretation: (tick sign means the features will be dropped) \n",
    "- [ ] 'Model', 'Series', 'BadgeDescription': are good indications for the car and it is assumed that it will contribute to the car price prediction, so it will not be dropped.\n",
    "- [x] 'VIN': is Vehical Identification Number which is unique for specific automobile. We assume that there are other supporting features for this field and it will be dropped.\n",
    "- [x] 'ModelCode' : We assumed that this will not be a helpful feature and it will be dropped.\n",
    "- [x] 'EngineNum': Noisy data and too hard to be cleaned, it will be dropped \n",
    "- [x] 'FontTyreSize', 'RearTyreSize': Since every car will have a font and rear criterion, we can aggregrate them in a column as 'FontRearTyreSize'. In this case, similar operatin will be done on 'FrontRimDesc' and 'RearRimDesc'.\n",
    "- [ ] 'Colour': Colour of choice is an influencing factor and there are many colour spectrum, therefore this feature will be retained.\n",
    "- [x] 'Sold_Date': Should be dropped, because it will not affect the price. \n",
    "* [x] 'Compliance_Date': To be dropped as well."
   ]
  },
  {
   "cell_type": "code",
   "execution_count": 46,
   "id": "faa5ed3e",
   "metadata": {
    "scrolled": true
   },
   "outputs": [
    {
     "name": "stdout",
     "output_type": "stream",
     "text": [
      "Unique class for FrontRearTyreSize:  341\n",
      "Unique class for FrontRearRimDesc:  111\n"
     ]
    }
   ],
   "source": [
    "# if front and rear tyre size are the same, we retain the tyre size spec\n",
    "# else, we replace it with the string concatenation of front tyre size + rear tyre size \n",
    "# create mask \n",
    "front_rear_tyre_size_mask = np.where(np.array(ds['FrontTyreSize'] == ds['RearTyreSize']) == True, \n",
    "                                     1, 0)\n",
    "front_rear_tyre_size = np.where(front_rear_tyre_size_mask == 1,\n",
    "                                ds['FrontTyreSize'], \n",
    "                                ds['FrontTyreSize'] + '+' + ds['RearTyreSize'])\n",
    "# similar to front and rear rim desc \n",
    "# create mask\n",
    "front_rear_rim_desc_mask = np.where(np.array(ds['FrontRimDesc'] == ds['RearRimDesc']) == True, \n",
    "                                    1, 0)\n",
    "front_rear_rim_desc = np.where(front_rear_rim_desc_mask == 1,\n",
    "                               ds['FrontRimDesc'], \n",
    "                               ds['FrontRimDesc'] + '+' + ds['RearRimDesc'])\n",
    "# check the merger unique class\n",
    "val_tyre_size, count_tyre_size = np.unique(front_rear_tyre_size, return_counts = True)\n",
    "val_rim_desc, count_rim_desc = np.unique(front_rear_rim_desc, return_counts = True)\n",
    "print(\"Unique class for FrontRearTyreSize: \",len(count_tyre_size))\n",
    "print(\"Unique class for FrontRearRimDesc: \",len(count_rim_desc))"
   ]
  },
  {
   "cell_type": "code",
   "execution_count": 47,
   "id": "993157ff",
   "metadata": {},
   "outputs": [],
   "source": [
    "# now lets replace new data and drop irrelavant features \n",
    "ds_02 = ds.copy()\n",
    "# replacement of new data \n",
    "ds_02['FrontTyreSize'] = front_rear_tyre_size\n",
    "ds_02['FrontRimDesc'] = front_rear_rim_desc\n",
    "# cast the new features to data type string \n",
    "ds_02[['FrontTyreSize', 'FrontRimDesc']] = ds_02[['FrontTyreSize', \n",
    "                                                 'FrontRimDesc']].astype('string')\n",
    "# rename columns after replacement \n",
    "ds_02.rename(columns = {'FrontTyreSize':'FrontRearTyreSize', \n",
    "                        'FrontRimDesc':'FrontRearRimDesc'},\n",
    "            inplace = True)\n",
    "# drop irrelavant features\n",
    "ds_02.drop(columns = ['VIN', 'ModelCode', 'EngineNum', \n",
    "                      'RearTyreSize', 'RearRimDesc',\n",
    "                     'Sold_Date', 'Compliance_Date'], inplace=True)"
   ]
  },
  {
   "cell_type": "code",
   "execution_count": 48,
   "id": "d076a0b4",
   "metadata": {},
   "outputs": [
    {
     "data": {
      "text/plain": [
       "Make                string\n",
       "Model               string\n",
       "YearGroup           string\n",
       "MonthGroup          string\n",
       "SequenceNum         string\n",
       "                    ...   \n",
       "Branch              string\n",
       "SaleCategory        string\n",
       "Age_Comp_Months    float64\n",
       "KM                 float64\n",
       "Sold_Amount        float64\n",
       "Length: 65, dtype: object"
      ]
     },
     "execution_count": 48,
     "metadata": {},
     "output_type": "execute_result"
    }
   ],
   "source": [
    "# check if all the data types are valid \n",
    "ds_02.dtypes"
   ]
  },
  {
   "cell_type": "code",
   "execution_count": 49,
   "id": "04a037a2",
   "metadata": {},
   "outputs": [
    {
     "name": "stdout",
     "output_type": "stream",
     "text": [
      "Number of categorical data:  47\n",
      "\n",
      "{'Make': 50, 'Model': 611, 'YearGroup': 44, 'MonthGroup': 13, 'SequenceNum': 102, 'CurrentRelease': 2, 'LimitedEdition': 2, 'Series': 1130, 'SeriesModelYear': 50, 'BadgeDescription': 714, 'BodyStyleDescription': 17, 'DriveDescription': 7, 'GearTypeDescription': 8, 'GearLocationDescription': 7, 'GearNum': 9, 'DoorNum': 4, 'EngineDescription': 63, 'FuelTypeDescription': 6, 'InductionDescription': 7, 'OptionCategory': 6, 'CamDescription': 11, 'EngineTypeDescription': 3, 'FuelCapacity': 84, 'FuelDeliveryDescription': 7, 'MethodOfDeliveryDescription': 3, 'SeatCapacity': 12, 'BuildCountryOriginDescription': 31, 'ValvesCylinder': 4, 'EngineCycleDescription': 2, 'EngineConfigurationDescription': 9, 'EngineLocation': 3, 'FrontRearTyreSize': 341, 'FrontRearRimDesc': 111, 'TowingNoBrakes': 74, 'WarrantyCustAssist': 75, 'WarrantyYears': 6, 'WarrantyKM': 12, 'FirstServiceKM': 19, 'RegServiceMonths': 6, 'EmissionStandard': 5, 'VFactsClass': 4, 'VFactsSegment': 14, 'VFactsPrice': 17, 'IsPPlateApproved': 2, 'Colour': 1099, 'Branch': 21, 'SaleCategory': 6}\n"
     ]
    }
   ],
   "source": [
    "# sanity check for the unique class of the features\n",
    "categorical_col_idx = np.where(ds_02.dtypes == 'string')[0]\n",
    "cols_name = [name for name in ds_02.columns]\n",
    "categorical_cols = [cols_name[i] for i in categorical_col_idx]\n",
    "n_class_02 = {}\n",
    "for c in categorical_cols:\n",
    "    val, count = np.unique(ds_02[c], return_counts=True)\n",
    "    n_class_02[c]= len(count)\n",
    "print('Number of categorical data: ', len(categorical_col_idx))\n",
    "print()\n",
    "print(n_class_02)"
   ]
  },
  {
   "cell_type": "markdown",
   "id": "38c61a4c",
   "metadata": {},
   "source": [
    "'Colour' feature seems like a very noisy feature, lets see how we can deal with it. \n",
    "We can group the colors in to common colours, such as: gold, white, silve, black, grey, black, blue, red, yellow, orange, green, purple, brown, else others. "
   ]
  },
  {
   "cell_type": "code",
   "execution_count": 50,
   "id": "66103211",
   "metadata": {},
   "outputs": [
    {
     "name": "stdout",
     "output_type": "stream",
     "text": [
      "                    Colour  Count\n",
      "0                    White  18608\n",
      "1                   Silver   5762\n",
      "2                     Blue   3140\n",
      "3   040  Glacier White (T)   2542\n",
      "4                    Black   2436\n",
      "5                     Grey   2077\n",
      "6                      Red   1548\n",
      "7   061  Diamond White (T)   1230\n",
      "8              Heron White   1064\n",
      "9    1F7  Silver Pearl (T)   1029\n",
      "10                   Green   1005\n",
      "11            Winter White    894\n",
      "12    058  White solid (T)    649\n",
      "13       1G3  Graphite (T)    629\n",
      "14                    Gold    591\n",
      "15        Lightning Strike    530\n",
      "16       3R3  Wildfire (T)    509\n",
      "17                Burgundy    501\n",
      "18     1D4  Silver Ash (T)    441\n",
      "19            209  Ink (T)    372\n"
     ]
    }
   ],
   "source": [
    "val_colour, count_colour = np.unique(ds_02['Colour'], return_counts = True)\n",
    "colour_df = pd.DataFrame(sorted(zip(count_colour, val_colour), reverse = True),\n",
    "                         columns = ['Count', 'Colour'])\n",
    "colour_df = colour_df.reindex(columns = ['Colour', 'Count'])\n",
    "print(colour_df.head(20))"
   ]
  },
  {
   "cell_type": "code",
   "execution_count": 51,
   "id": "7a216e6a",
   "metadata": {},
   "outputs": [
    {
     "data": {
      "text/plain": [
       "white     26508\n",
       "others    10780\n",
       "silver     8985\n",
       "blue       4904\n",
       "black      2877\n",
       "grey       2718\n",
       "red        2251\n",
       "green      1412\n",
       "gold        632\n",
       "yellow      176\n",
       "purple      122\n",
       "orange      109\n",
       "brown        86\n",
       "Name: Colour, dtype: int64"
      ]
     },
     "execution_count": 51,
     "metadata": {},
     "output_type": "execute_result"
    }
   ],
   "source": [
    "ds_02['Colour'] = ds_02['Colour'].apply(lambda x: utils.strip_colors(x))\n",
    "ds_02['Colour'].value_counts()"
   ]
  },
  {
   "cell_type": "code",
   "execution_count": 52,
   "id": "0665a8b4",
   "metadata": {},
   "outputs": [
    {
     "data": {
      "text/html": [
       "<div>\n",
       "<style scoped>\n",
       "    .dataframe tbody tr th:only-of-type {\n",
       "        vertical-align: middle;\n",
       "    }\n",
       "\n",
       "    .dataframe tbody tr th {\n",
       "        vertical-align: top;\n",
       "    }\n",
       "\n",
       "    .dataframe thead th {\n",
       "        text-align: right;\n",
       "    }\n",
       "</style>\n",
       "<table border=\"1\" class=\"dataframe\">\n",
       "  <thead>\n",
       "    <tr style=\"text-align: right;\">\n",
       "      <th></th>\n",
       "      <th>Make</th>\n",
       "      <th>Model</th>\n",
       "      <th>YearGroup</th>\n",
       "      <th>MonthGroup</th>\n",
       "      <th>SequenceNum</th>\n",
       "      <th>CurrentRelease</th>\n",
       "      <th>LimitedEdition</th>\n",
       "      <th>Series</th>\n",
       "      <th>SeriesModelYear</th>\n",
       "      <th>BadgeDescription</th>\n",
       "      <th>...</th>\n",
       "      <th>VFactsSegment</th>\n",
       "      <th>VFactsPrice</th>\n",
       "      <th>IsPPlateApproved</th>\n",
       "      <th>NewPrice</th>\n",
       "      <th>Colour</th>\n",
       "      <th>Branch</th>\n",
       "      <th>SaleCategory</th>\n",
       "      <th>Age_Comp_Months</th>\n",
       "      <th>KM</th>\n",
       "      <th>Sold_Amount</th>\n",
       "    </tr>\n",
       "  </thead>\n",
       "  <tbody>\n",
       "    <tr>\n",
       "      <th>0</th>\n",
       "      <td>Holden</td>\n",
       "      <td>Commodore</td>\n",
       "      <td>2008</td>\n",
       "      <td>0</td>\n",
       "      <td>0</td>\n",
       "      <td>F</td>\n",
       "      <td>F</td>\n",
       "      <td>VE</td>\n",
       "      <td>MY10</td>\n",
       "      <td>Omega</td>\n",
       "      <td>...</td>\n",
       "      <td>Large</td>\n",
       "      <td>&lt; 70K</td>\n",
       "      <td>T</td>\n",
       "      <td>0.804271</td>\n",
       "      <td>white</td>\n",
       "      <td>Perth (WA)</td>\n",
       "      <td>Auction</td>\n",
       "      <td>0.692098</td>\n",
       "      <td>0.823427</td>\n",
       "      <td>2000.0</td>\n",
       "    </tr>\n",
       "    <tr>\n",
       "      <th>1</th>\n",
       "      <td>Holden</td>\n",
       "      <td>Commodore</td>\n",
       "      <td>1993</td>\n",
       "      <td>7</td>\n",
       "      <td>41</td>\n",
       "      <td>F</td>\n",
       "      <td>F</td>\n",
       "      <td>VR</td>\n",
       "      <td>MY10</td>\n",
       "      <td>Executive</td>\n",
       "      <td>...</td>\n",
       "      <td>Large</td>\n",
       "      <td>&lt; 70K</td>\n",
       "      <td>T</td>\n",
       "      <td>0.801763</td>\n",
       "      <td>red</td>\n",
       "      <td>Belmore (NSW)</td>\n",
       "      <td>Auction</td>\n",
       "      <td>0.689494</td>\n",
       "      <td>0.819703</td>\n",
       "      <td>6800.0</td>\n",
       "    </tr>\n",
       "    <tr>\n",
       "      <th>2</th>\n",
       "      <td>Toyota</td>\n",
       "      <td>RAV4</td>\n",
       "      <td>2012</td>\n",
       "      <td>0</td>\n",
       "      <td>6</td>\n",
       "      <td>F</td>\n",
       "      <td>F</td>\n",
       "      <td>ACA33R</td>\n",
       "      <td>MY12</td>\n",
       "      <td>CV</td>\n",
       "      <td>...</td>\n",
       "      <td>Medium</td>\n",
       "      <td>&lt; 60K</td>\n",
       "      <td>T</td>\n",
       "      <td>0.803314</td>\n",
       "      <td>white</td>\n",
       "      <td>Sunshine (VIC)</td>\n",
       "      <td>Dealer Only Auction</td>\n",
       "      <td>0.616122</td>\n",
       "      <td>0.801508</td>\n",
       "      <td>22900.0</td>\n",
       "    </tr>\n",
       "    <tr>\n",
       "      <th>3</th>\n",
       "      <td>Holden</td>\n",
       "      <td>Commodore</td>\n",
       "      <td>2007</td>\n",
       "      <td>0</td>\n",
       "      <td>11</td>\n",
       "      <td>F</td>\n",
       "      <td>F</td>\n",
       "      <td>VZVE</td>\n",
       "      <td>MY07</td>\n",
       "      <td>Executive</td>\n",
       "      <td>...</td>\n",
       "      <td>Large</td>\n",
       "      <td>&lt; 70K</td>\n",
       "      <td>T</td>\n",
       "      <td>0.804656</td>\n",
       "      <td>silver</td>\n",
       "      <td>Belmore (NSW)</td>\n",
       "      <td>Auction</td>\n",
       "      <td>0.668197</td>\n",
       "      <td>0.815478</td>\n",
       "      <td>10500.0</td>\n",
       "    </tr>\n",
       "    <tr>\n",
       "      <th>4</th>\n",
       "      <td>Toyota</td>\n",
       "      <td>Tarago</td>\n",
       "      <td>2007</td>\n",
       "      <td>0</td>\n",
       "      <td>0</td>\n",
       "      <td>F</td>\n",
       "      <td>F</td>\n",
       "      <td>ACR50R</td>\n",
       "      <td>MY10</td>\n",
       "      <td>GLi</td>\n",
       "      <td>...</td>\n",
       "      <td>People Movers</td>\n",
       "      <td>&lt; 60K</td>\n",
       "      <td>T</td>\n",
       "      <td>0.808189</td>\n",
       "      <td>silver</td>\n",
       "      <td>Hobart (TAS)</td>\n",
       "      <td>Special Fixed Price</td>\n",
       "      <td>0.644951</td>\n",
       "      <td>0.806989</td>\n",
       "      <td>31320.0</td>\n",
       "    </tr>\n",
       "    <tr>\n",
       "      <th>...</th>\n",
       "      <td>...</td>\n",
       "      <td>...</td>\n",
       "      <td>...</td>\n",
       "      <td>...</td>\n",
       "      <td>...</td>\n",
       "      <td>...</td>\n",
       "      <td>...</td>\n",
       "      <td>...</td>\n",
       "      <td>...</td>\n",
       "      <td>...</td>\n",
       "      <td>...</td>\n",
       "      <td>...</td>\n",
       "      <td>...</td>\n",
       "      <td>...</td>\n",
       "      <td>...</td>\n",
       "      <td>...</td>\n",
       "      <td>...</td>\n",
       "      <td>...</td>\n",
       "      <td>...</td>\n",
       "      <td>...</td>\n",
       "      <td>...</td>\n",
       "    </tr>\n",
       "    <tr>\n",
       "      <th>62186</th>\n",
       "      <td>Ford</td>\n",
       "      <td>Ranger</td>\n",
       "      <td>2012</td>\n",
       "      <td>0</td>\n",
       "      <td>22</td>\n",
       "      <td>F</td>\n",
       "      <td>F</td>\n",
       "      <td>PX</td>\n",
       "      <td>MY10</td>\n",
       "      <td>XL</td>\n",
       "      <td>...</td>\n",
       "      <td>PU/CC 4x4</td>\n",
       "      <td>&lt; 70K</td>\n",
       "      <td>T</td>\n",
       "      <td>0.807243</td>\n",
       "      <td>white</td>\n",
       "      <td>Townsville (QLD)</td>\n",
       "      <td>Auction</td>\n",
       "      <td>0.663761</td>\n",
       "      <td>0.819745</td>\n",
       "      <td>16500.0</td>\n",
       "    </tr>\n",
       "    <tr>\n",
       "      <th>62187</th>\n",
       "      <td>Ford</td>\n",
       "      <td>Falcon</td>\n",
       "      <td>2003</td>\n",
       "      <td>0</td>\n",
       "      <td>1</td>\n",
       "      <td>F</td>\n",
       "      <td>F</td>\n",
       "      <td>BA</td>\n",
       "      <td>MY10</td>\n",
       "      <td>XT</td>\n",
       "      <td>...</td>\n",
       "      <td>Large</td>\n",
       "      <td>&lt; 70K</td>\n",
       "      <td>T</td>\n",
       "      <td>0.804229</td>\n",
       "      <td>white</td>\n",
       "      <td>Geebung (QLD)</td>\n",
       "      <td>Auction</td>\n",
       "      <td>0.673491</td>\n",
       "      <td>0.814252</td>\n",
       "      <td>8600.0</td>\n",
       "    </tr>\n",
       "    <tr>\n",
       "      <th>62188</th>\n",
       "      <td>Ford</td>\n",
       "      <td>Falcon</td>\n",
       "      <td>2001</td>\n",
       "      <td>10</td>\n",
       "      <td>40</td>\n",
       "      <td>F</td>\n",
       "      <td>F</td>\n",
       "      <td>AU III</td>\n",
       "      <td>MY10</td>\n",
       "      <td>Futura</td>\n",
       "      <td>...</td>\n",
       "      <td>Large</td>\n",
       "      <td>&lt; 70K</td>\n",
       "      <td>T</td>\n",
       "      <td>0.804577</td>\n",
       "      <td>others</td>\n",
       "      <td>Tullamarine (VIC)</td>\n",
       "      <td>Auction</td>\n",
       "      <td>0.659697</td>\n",
       "      <td>0.816776</td>\n",
       "      <td>12600.0</td>\n",
       "    </tr>\n",
       "    <tr>\n",
       "      <th>62189</th>\n",
       "      <td>Mitsubishi</td>\n",
       "      <td>Lancer</td>\n",
       "      <td>2011</td>\n",
       "      <td>10</td>\n",
       "      <td>24</td>\n",
       "      <td>F</td>\n",
       "      <td>F</td>\n",
       "      <td>CJ</td>\n",
       "      <td>MY12</td>\n",
       "      <td>ES</td>\n",
       "      <td>...</td>\n",
       "      <td>Small</td>\n",
       "      <td>&lt; 40K</td>\n",
       "      <td>T</td>\n",
       "      <td>0.800049</td>\n",
       "      <td>silver</td>\n",
       "      <td>Sunshine (VIC)</td>\n",
       "      <td>Tender</td>\n",
       "      <td>0.662792</td>\n",
       "      <td>0.810299</td>\n",
       "      <td>10250.0</td>\n",
       "    </tr>\n",
       "    <tr>\n",
       "      <th>62190</th>\n",
       "      <td>Holden</td>\n",
       "      <td>Captiva</td>\n",
       "      <td>2012</td>\n",
       "      <td>0</td>\n",
       "      <td>4</td>\n",
       "      <td>F</td>\n",
       "      <td>F</td>\n",
       "      <td>CG Series II</td>\n",
       "      <td>MY10</td>\n",
       "      <td>7</td>\n",
       "      <td>...</td>\n",
       "      <td>Large</td>\n",
       "      <td>&lt; 70K</td>\n",
       "      <td>T</td>\n",
       "      <td>0.804497</td>\n",
       "      <td>black</td>\n",
       "      <td>Sunshine (VIC)</td>\n",
       "      <td>Auction</td>\n",
       "      <td>0.680804</td>\n",
       "      <td>0.813623</td>\n",
       "      <td>9600.0</td>\n",
       "    </tr>\n",
       "  </tbody>\n",
       "</table>\n",
       "<p>61560 rows × 65 columns</p>\n",
       "</div>"
      ],
      "text/plain": [
       "             Make      Model YearGroup MonthGroup SequenceNum CurrentRelease  \\\n",
       "0          Holden  Commodore      2008          0           0              F   \n",
       "1          Holden  Commodore      1993          7          41              F   \n",
       "2          Toyota       RAV4      2012          0           6              F   \n",
       "3          Holden  Commodore      2007          0          11              F   \n",
       "4          Toyota     Tarago      2007          0           0              F   \n",
       "...           ...        ...       ...        ...         ...            ...   \n",
       "62186        Ford     Ranger      2012          0          22              F   \n",
       "62187        Ford     Falcon      2003          0           1              F   \n",
       "62188        Ford     Falcon      2001         10          40              F   \n",
       "62189  Mitsubishi     Lancer      2011         10          24              F   \n",
       "62190      Holden    Captiva      2012          0           4              F   \n",
       "\n",
       "      LimitedEdition        Series SeriesModelYear BadgeDescription  ...  \\\n",
       "0                  F            VE            MY10            Omega  ...   \n",
       "1                  F            VR            MY10        Executive  ...   \n",
       "2                  F        ACA33R            MY12               CV  ...   \n",
       "3                  F          VZVE            MY07        Executive  ...   \n",
       "4                  F        ACR50R            MY10              GLi  ...   \n",
       "...              ...           ...             ...              ...  ...   \n",
       "62186              F            PX            MY10               XL  ...   \n",
       "62187              F            BA            MY10               XT  ...   \n",
       "62188              F        AU III            MY10           Futura  ...   \n",
       "62189              F            CJ            MY12               ES  ...   \n",
       "62190              F  CG Series II            MY10                7  ...   \n",
       "\n",
       "       VFactsSegment VFactsPrice IsPPlateApproved  NewPrice  Colour  \\\n",
       "0              Large       < 70K                T  0.804271   white   \n",
       "1              Large       < 70K                T  0.801763     red   \n",
       "2             Medium       < 60K                T  0.803314   white   \n",
       "3              Large       < 70K                T  0.804656  silver   \n",
       "4      People Movers       < 60K                T  0.808189  silver   \n",
       "...              ...         ...              ...       ...     ...   \n",
       "62186      PU/CC 4x4       < 70K                T  0.807243   white   \n",
       "62187          Large       < 70K                T  0.804229   white   \n",
       "62188          Large       < 70K                T  0.804577  others   \n",
       "62189          Small       < 40K                T  0.800049  silver   \n",
       "62190          Large       < 70K                T  0.804497   black   \n",
       "\n",
       "                  Branch         SaleCategory Age_Comp_Months        KM  \\\n",
       "0             Perth (WA)              Auction        0.692098  0.823427   \n",
       "1          Belmore (NSW)              Auction        0.689494  0.819703   \n",
       "2         Sunshine (VIC)  Dealer Only Auction        0.616122  0.801508   \n",
       "3          Belmore (NSW)              Auction        0.668197  0.815478   \n",
       "4           Hobart (TAS)  Special Fixed Price        0.644951  0.806989   \n",
       "...                  ...                  ...             ...       ...   \n",
       "62186   Townsville (QLD)              Auction        0.663761  0.819745   \n",
       "62187      Geebung (QLD)              Auction        0.673491  0.814252   \n",
       "62188  Tullamarine (VIC)              Auction        0.659697  0.816776   \n",
       "62189     Sunshine (VIC)               Tender        0.662792  0.810299   \n",
       "62190     Sunshine (VIC)              Auction        0.680804  0.813623   \n",
       "\n",
       "      Sold_Amount  \n",
       "0          2000.0  \n",
       "1          6800.0  \n",
       "2         22900.0  \n",
       "3         10500.0  \n",
       "4         31320.0  \n",
       "...           ...  \n",
       "62186     16500.0  \n",
       "62187      8600.0  \n",
       "62188     12600.0  \n",
       "62189     10250.0  \n",
       "62190      9600.0  \n",
       "\n",
       "[61560 rows x 65 columns]"
      ]
     },
     "execution_count": 52,
     "metadata": {},
     "output_type": "execute_result"
    }
   ],
   "source": [
    "ds_02"
   ]
  },
  {
   "cell_type": "code",
   "execution_count": 53,
   "id": "8d60f750",
   "metadata": {},
   "outputs": [],
   "source": [
    "# save preprocessed data in .csv format for model building\n",
    "ds_02.to_csv('dummies_ds.csv', index=False)"
   ]
  },
  {
   "cell_type": "code",
   "execution_count": 54,
   "id": "d626cd63",
   "metadata": {},
   "outputs": [
    {
     "data": {
      "text/html": [
       "<div>\n",
       "<style scoped>\n",
       "    .dataframe tbody tr th:only-of-type {\n",
       "        vertical-align: middle;\n",
       "    }\n",
       "\n",
       "    .dataframe tbody tr th {\n",
       "        vertical-align: top;\n",
       "    }\n",
       "\n",
       "    .dataframe thead th {\n",
       "        text-align: right;\n",
       "    }\n",
       "</style>\n",
       "<table border=\"1\" class=\"dataframe\">\n",
       "  <thead>\n",
       "    <tr style=\"text-align: right;\">\n",
       "      <th></th>\n",
       "      <th>EngineSize</th>\n",
       "      <th>GrossCombinationMAss</th>\n",
       "      <th>WheelBase</th>\n",
       "      <th>Height</th>\n",
       "      <th>Width</th>\n",
       "      <th>Power</th>\n",
       "      <th>PowerRPMTo</th>\n",
       "      <th>Torque</th>\n",
       "      <th>TorqueRPMTo</th>\n",
       "      <th>RonRating</th>\n",
       "      <th>...</th>\n",
       "      <th>Branch_Townsville (QLD)</th>\n",
       "      <th>Branch_Tullamarine (VIC)</th>\n",
       "      <th>Branch_Wagga Wagga (NSW)</th>\n",
       "      <th>Branch_Welshpool (WA)</th>\n",
       "      <th>SaleCategory_Auction</th>\n",
       "      <th>SaleCategory_Dealer Only Auction</th>\n",
       "      <th>SaleCategory_Fixed Price</th>\n",
       "      <th>SaleCategory_Pickles Online</th>\n",
       "      <th>SaleCategory_Special Fixed Price</th>\n",
       "      <th>SaleCategory_Tender</th>\n",
       "    </tr>\n",
       "  </thead>\n",
       "  <tbody>\n",
       "    <tr>\n",
       "      <th>0</th>\n",
       "      <td>3565</td>\n",
       "      <td>4580.623525</td>\n",
       "      <td>2915.0</td>\n",
       "      <td>1476.0</td>\n",
       "      <td>1899.0</td>\n",
       "      <td>180.0</td>\n",
       "      <td>6000.0</td>\n",
       "      <td>330.0</td>\n",
       "      <td>2600.0</td>\n",
       "      <td>0.691380</td>\n",
       "      <td>...</td>\n",
       "      <td>0</td>\n",
       "      <td>0</td>\n",
       "      <td>0</td>\n",
       "      <td>0</td>\n",
       "      <td>1</td>\n",
       "      <td>0</td>\n",
       "      <td>0</td>\n",
       "      <td>0</td>\n",
       "      <td>0</td>\n",
       "      <td>0</td>\n",
       "    </tr>\n",
       "    <tr>\n",
       "      <th>1</th>\n",
       "      <td>3791</td>\n",
       "      <td>4580.623525</td>\n",
       "      <td>2822.0</td>\n",
       "      <td>1478.0</td>\n",
       "      <td>1794.0</td>\n",
       "      <td>130.0</td>\n",
       "      <td>4800.0</td>\n",
       "      <td>295.0</td>\n",
       "      <td>3200.0</td>\n",
       "      <td>0.691399</td>\n",
       "      <td>...</td>\n",
       "      <td>0</td>\n",
       "      <td>0</td>\n",
       "      <td>0</td>\n",
       "      <td>0</td>\n",
       "      <td>1</td>\n",
       "      <td>0</td>\n",
       "      <td>0</td>\n",
       "      <td>0</td>\n",
       "      <td>0</td>\n",
       "      <td>0</td>\n",
       "    </tr>\n",
       "    <tr>\n",
       "      <th>2</th>\n",
       "      <td>2362</td>\n",
       "      <td>3560.000000</td>\n",
       "      <td>2660.0</td>\n",
       "      <td>1695.0</td>\n",
       "      <td>1815.0</td>\n",
       "      <td>125.0</td>\n",
       "      <td>6000.0</td>\n",
       "      <td>224.0</td>\n",
       "      <td>4000.0</td>\n",
       "      <td>0.691380</td>\n",
       "      <td>...</td>\n",
       "      <td>0</td>\n",
       "      <td>0</td>\n",
       "      <td>0</td>\n",
       "      <td>0</td>\n",
       "      <td>0</td>\n",
       "      <td>1</td>\n",
       "      <td>0</td>\n",
       "      <td>0</td>\n",
       "      <td>0</td>\n",
       "      <td>0</td>\n",
       "    </tr>\n",
       "    <tr>\n",
       "      <th>3</th>\n",
       "      <td>3565</td>\n",
       "      <td>4580.623525</td>\n",
       "      <td>2938.0</td>\n",
       "      <td>1527.0</td>\n",
       "      <td>1847.0</td>\n",
       "      <td>172.0</td>\n",
       "      <td>6000.0</td>\n",
       "      <td>320.0</td>\n",
       "      <td>2800.0</td>\n",
       "      <td>0.691380</td>\n",
       "      <td>...</td>\n",
       "      <td>0</td>\n",
       "      <td>0</td>\n",
       "      <td>0</td>\n",
       "      <td>0</td>\n",
       "      <td>1</td>\n",
       "      <td>0</td>\n",
       "      <td>0</td>\n",
       "      <td>0</td>\n",
       "      <td>0</td>\n",
       "      <td>0</td>\n",
       "    </tr>\n",
       "    <tr>\n",
       "      <th>4</th>\n",
       "      <td>2362</td>\n",
       "      <td>4119.877399</td>\n",
       "      <td>2950.0</td>\n",
       "      <td>1750.0</td>\n",
       "      <td>1800.0</td>\n",
       "      <td>125.0</td>\n",
       "      <td>6000.0</td>\n",
       "      <td>224.0</td>\n",
       "      <td>4000.0</td>\n",
       "      <td>0.691380</td>\n",
       "      <td>...</td>\n",
       "      <td>0</td>\n",
       "      <td>0</td>\n",
       "      <td>0</td>\n",
       "      <td>0</td>\n",
       "      <td>0</td>\n",
       "      <td>0</td>\n",
       "      <td>0</td>\n",
       "      <td>0</td>\n",
       "      <td>1</td>\n",
       "      <td>0</td>\n",
       "    </tr>\n",
       "  </tbody>\n",
       "</table>\n",
       "<p>5 rows × 3764 columns</p>\n",
       "</div>"
      ],
      "text/plain": [
       "   EngineSize  GrossCombinationMAss  WheelBase  Height   Width  Power  \\\n",
       "0        3565           4580.623525     2915.0  1476.0  1899.0  180.0   \n",
       "1        3791           4580.623525     2822.0  1478.0  1794.0  130.0   \n",
       "2        2362           3560.000000     2660.0  1695.0  1815.0  125.0   \n",
       "3        3565           4580.623525     2938.0  1527.0  1847.0  172.0   \n",
       "4        2362           4119.877399     2950.0  1750.0  1800.0  125.0   \n",
       "\n",
       "   PowerRPMTo  Torque  TorqueRPMTo  RonRating  ...  Branch_Townsville (QLD)  \\\n",
       "0      6000.0   330.0       2600.0   0.691380  ...                        0   \n",
       "1      4800.0   295.0       3200.0   0.691399  ...                        0   \n",
       "2      6000.0   224.0       4000.0   0.691380  ...                        0   \n",
       "3      6000.0   320.0       2800.0   0.691380  ...                        0   \n",
       "4      6000.0   224.0       4000.0   0.691380  ...                        0   \n",
       "\n",
       "   Branch_Tullamarine (VIC)  Branch_Wagga Wagga (NSW)  Branch_Welshpool (WA)  \\\n",
       "0                         0                         0                      0   \n",
       "1                         0                         0                      0   \n",
       "2                         0                         0                      0   \n",
       "3                         0                         0                      0   \n",
       "4                         0                         0                      0   \n",
       "\n",
       "   SaleCategory_Auction  SaleCategory_Dealer Only Auction  \\\n",
       "0                     1                                 0   \n",
       "1                     1                                 0   \n",
       "2                     0                                 1   \n",
       "3                     1                                 0   \n",
       "4                     0                                 0   \n",
       "\n",
       "   SaleCategory_Fixed Price  SaleCategory_Pickles Online  \\\n",
       "0                         0                            0   \n",
       "1                         0                            0   \n",
       "2                         0                            0   \n",
       "3                         0                            0   \n",
       "4                         0                            0   \n",
       "\n",
       "   SaleCategory_Special Fixed Price  SaleCategory_Tender  \n",
       "0                                 0                    0  \n",
       "1                                 0                    0  \n",
       "2                                 0                    0  \n",
       "3                                 0                    0  \n",
       "4                                 1                    0  \n",
       "\n",
       "[5 rows x 3764 columns]"
      ]
     },
     "execution_count": 54,
     "metadata": {},
     "output_type": "execute_result"
    }
   ],
   "source": [
    "# check the feature columns after feature encoding for get_dummies\n",
    "df_02 = pd.read_csv('dummies_ds.csv')\n",
    "df_dummies = pd.get_dummies(df_02, columns = [c for c in categorical_cols ])\n",
    "df_dummies.head()"
   ]
  },
  {
   "cell_type": "markdown",
   "id": "387a75fe",
   "metadata": {},
   "source": [
    "---"
   ]
  },
  {
   "cell_type": "markdown",
   "id": "1947da3f",
   "metadata": {},
   "source": [
    "Part 01 Ends Here.  \n",
    "Part 02 will continue in the following link: https://github.com/twpkevin06222/DatiumInsights_DS_Test/blob/main/SectionA/Part02_model_and_evaluation.ipynb  \n",
    "Thank you! :) "
   ]
  }
 ],
 "metadata": {
  "kernelspec": {
   "display_name": "Python 3",
   "language": "python",
   "name": "python3"
  },
  "language_info": {
   "codemirror_mode": {
    "name": "ipython",
    "version": 3
   },
   "file_extension": ".py",
   "mimetype": "text/x-python",
   "name": "python",
   "nbconvert_exporter": "python",
   "pygments_lexer": "ipython3",
   "version": "3.6.9"
  }
 },
 "nbformat": 4,
 "nbformat_minor": 5
}
